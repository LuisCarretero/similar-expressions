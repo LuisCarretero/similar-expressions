{
 "cells": [
  {
   "cell_type": "markdown",
   "metadata": {},
   "source": [
    "Tokenization and encoding"
   ]
  },
  {
   "cell_type": "code",
   "execution_count": 10,
   "metadata": {},
   "outputs": [
    {
     "data": {
      "text/plain": [
       "'(x1 - 0.125192826477114) + 0.43174347075339936'"
      ]
     },
     "execution_count": 10,
     "metadata": {},
     "output_type": "execute_result"
    }
   ],
   "source": [
    "with open('../data/expressions.txt') as f:\n",
    "    data = list(map(lambda x: x.rstrip('\\n'), f.readlines()))\n",
    "\n",
    "data[0]"
   ]
  },
  {
   "cell_type": "code",
   "execution_count": 14,
   "metadata": {},
   "outputs": [
    {
     "data": {
      "text/latex": [
       "$\\displaystyle \\sin{\\left(e^{0.4609526466213322 \\sin{\\left(x_{1} \\right)}} \\right)}$"
      ],
      "text/plain": [
       "sin(exp(0.4609526466213322*sin(x1)))"
      ]
     },
     "execution_count": 14,
     "metadata": {},
     "output_type": "execute_result"
    }
   ],
   "source": [
    "import sympy as sp\n",
    "\n",
    "expr = sp.parse_expr(data[1])\n",
    "expr"
   ]
  },
  {
   "cell_type": "code",
   "execution_count": 22,
   "metadata": {},
   "outputs": [
    {
     "name": "stdout",
     "output_type": "stream",
     "text": [
      "Expression: sin(exp(0.4609526466213322*sin(x1)))\n",
      "Type: sin\n",
      "Class: sin\n",
      "Arguments: (exp(0.4609526466213322*sin(x1)),)\n",
      "Free symbols: {x1}\n",
      "Is atomic: False\n",
      "Function: sin\n",
      "Is commutative: True\n",
      "Is real: None\n",
      "Is integer: None\n",
      "Is rational: None\n",
      "Is algebraic: None\n",
      "Is transcendental: None\n",
      "\n",
      "Expression structure:\n"
     ]
    },
    {
     "ename": "AttributeError",
     "evalue": "'sin' object has no attribute 'structurally_equal'",
     "output_type": "error",
     "traceback": [
      "\u001b[0;31m---------------------------------------------------------------------------\u001b[0m",
      "\u001b[0;31mAttributeError\u001b[0m                            Traceback (most recent call last)",
      "Cell \u001b[0;32mIn[22], line 32\u001b[0m\n\u001b[1;32m     30\u001b[0m \u001b[38;5;66;03m# Get the structure of the expression\u001b[39;00m\n\u001b[1;32m     31\u001b[0m \u001b[38;5;28mprint\u001b[39m(\u001b[38;5;124m\"\u001b[39m\u001b[38;5;130;01m\\n\u001b[39;00m\u001b[38;5;124mExpression structure:\u001b[39m\u001b[38;5;124m\"\u001b[39m)\n\u001b[0;32m---> 32\u001b[0m \u001b[38;5;28mprint\u001b[39m(\u001b[43mexpr\u001b[49m\u001b[38;5;241;43m.\u001b[39;49m\u001b[43mstructurally_equal\u001b[49m(expr, check_numerics\u001b[38;5;241m=\u001b[39m\u001b[38;5;28;01mFalse\u001b[39;00m))\n\u001b[1;32m     34\u001b[0m \u001b[38;5;66;03m# If it's an operation, get the operation type\u001b[39;00m\n\u001b[1;32m     35\u001b[0m \u001b[38;5;28;01mif\u001b[39;00m \u001b[38;5;28mhasattr\u001b[39m(expr, \u001b[38;5;124m'\u001b[39m\u001b[38;5;124mis_Add\u001b[39m\u001b[38;5;124m'\u001b[39m) \u001b[38;5;129;01mand\u001b[39;00m expr\u001b[38;5;241m.\u001b[39mis_Add:\n",
      "\u001b[0;31mAttributeError\u001b[0m: 'sin' object has no attribute 'structurally_equal'"
     ]
    }
   ],
   "source": [
    "# Get all properties of expr\n",
    "print(\"Expression:\", expr)\n",
    "print(\"Type:\", type(expr))\n",
    "print(\"Class:\", expr.__class__)\n",
    "print(\"Arguments:\", expr.args)\n",
    "print(\"Free symbols:\", expr.free_symbols)\n",
    "print(\"Is atomic:\", expr.is_Atom)\n",
    "\n",
    "if hasattr(expr, 'func'):\n",
    "    print(\"Function:\", expr.func)\n",
    "\n",
    "if hasattr(expr, 'is_commutative'):\n",
    "    print(\"Is commutative:\", expr.is_commutative)\n",
    "\n",
    "if hasattr(expr, 'is_real'):\n",
    "    print(\"Is real:\", expr.is_real)\n",
    "\n",
    "if hasattr(expr, 'is_integer'):\n",
    "    print(\"Is integer:\", expr.is_integer)\n",
    "\n",
    "if hasattr(expr, 'is_rational'):\n",
    "    print(\"Is rational:\", expr.is_rational)\n",
    "\n",
    "if hasattr(expr, 'is_algebraic'):\n",
    "    print(\"Is algebraic:\", expr.is_algebraic)\n",
    "\n",
    "if hasattr(expr, 'is_transcendental'):\n",
    "    print(\"Is transcendental:\", expr.is_transcendental)\n",
    "\n",
    "# Get the structure of the expression\n",
    "print(\"\\nExpression structure:\")\n",
    "print(expr.structurally_equal(expr, check_numerics=False))\n",
    "\n",
    "# If it's an operation, get the operation type\n",
    "if hasattr(expr, 'is_Add') and expr.is_Add:\n",
    "    print(\"Operation: Addition\")\n",
    "elif hasattr(expr, 'is_Mul') and expr.is_Mul:\n",
    "    print(\"Operation: Multiplication\")\n",
    "elif hasattr(expr, 'is_Pow') and expr.is_Pow:\n",
    "    print(\"Operation: Exponentiation\")\n",
    "\n",
    "# If it's a function, get the function name\n",
    "if hasattr(expr, 'func') and expr.func != expr.__class__:\n",
    "    print(\"Function name:\", expr.func.__name__)\n",
    "\n",
    "\n"
   ]
  },
  {
   "cell_type": "code",
   "execution_count": 26,
   "metadata": {},
   "outputs": [
    {
     "data": {
      "text/plain": [
       "1"
      ]
     },
     "execution_count": 26,
     "metadata": {},
     "output_type": "execute_result"
    }
   ],
   "source": [
    "a = ['sin', 'cos', 'tan', 'exp', 'log']\n",
    "a.index('cos')"
   ]
  },
  {
   "cell_type": "code",
   "execution_count": 23,
   "metadata": {},
   "outputs": [
    {
     "name": "stdout",
     "output_type": "stream",
     "text": [
      "Operator: <class 'sympy.core.mul.Mul'>\n",
      "Traversing: 1/y\n",
      "Operator: <class 'sympy.core.power.Pow'>\n",
      "Traversing: y\n",
      "Operator: <class 'sympy.core.symbol.Symbol'>\n",
      "Reached leaf node: y\n",
      "Traversing: -1\n",
      "Operator: <class 'sympy.core.numbers.NegativeOne'>\n",
      "Reached leaf node: -1\n",
      "Reached compound node: 1/y\n",
      "Traversing: sin(pi*a*x + 1.5)\n",
      "Operator: sin\n",
      "Traversing: pi*a*x + 1.5\n",
      "Operator: <class 'sympy.core.add.Add'>\n",
      "Traversing: 1.50000000000000\n",
      "Operator: <class 'sympy.core.numbers.Float'>\n",
      "Reached leaf node: 1.50000000000000\n",
      "Traversing: pi*a*x\n",
      "Operator: <class 'sympy.core.mul.Mul'>\n",
      "Traversing: pi\n",
      "Operator: <class 'sympy.core.numbers.Pi'>\n",
      "Reached leaf node: pi\n",
      "Traversing: a\n",
      "Operator: <class 'sympy.core.symbol.Symbol'>\n",
      "Reached leaf node: a\n",
      "Traversing: x\n",
      "Operator: <class 'sympy.core.symbol.Symbol'>\n",
      "Reached leaf node: x\n",
      "Reached compound node: pi*a*x\n",
      "Reached compound node: pi*a*x + 1.5\n",
      "Reached compound node: sin(pi*a*x + 1.5)\n",
      "Reached compound node: sin(pi*a*x + 1.5)/y\n"
     ]
    }
   ],
   "source": [
    "from sympy import pi, sin\n",
    "from sympy.abc import a,x,y\n",
    "\n",
    "# Turn into prefix notation first\n",
    "# Then 1-hot encode with xVal\n",
    "\n",
    "def depth_first_traverse(expr):\n",
    "    print(f'Operator: {expr.func}')\n",
    "    for arg in expr.args:\n",
    "        print(f'Traversing: {arg}')\n",
    "        depth_first_traverse(arg)\n",
    "    if len(expr.args) == 0:\n",
    "        # we reached a leaf of the tree\n",
    "        print(f'Reached leaf node: {expr}')\n",
    "    else:\n",
    "        # do something with compound expr\n",
    "        print(f'Reached compound node: {expr}')\n",
    "depth_first_traverse(sin(a*x*pi+1.5)/y)\n",
    "\n",
    "\n"
   ]
  },
  {
   "cell_type": "code",
   "execution_count": 28,
   "metadata": {},
   "outputs": [
    {
     "data": {
      "text/latex": [
       "$\\displaystyle \\frac{\\sin{\\left(\\pi a x + 1.5 \\right)}}{y}$"
      ],
      "text/plain": [
       "sin(pi*a*x + 1.5)/y"
      ]
     },
     "execution_count": 28,
     "metadata": {},
     "output_type": "execute_result"
    }
   ],
   "source": [
    "sp.parse_expr('sin(a*x*pi+1.5)/y')"
   ]
  },
  {
   "cell_type": "code",
   "execution_count": 75,
   "metadata": {},
   "outputs": [],
   "source": [
    "import h5py\n",
    "\n",
    "# Load the dataset\n",
    "with h5py.File('../data/dataset.h5', 'r') as f:\n",
    "    raw = list(map(lambda x: str(x)[2:-1], f['raw'][()]))\n",
    "    dataset = f['dataset'][()]\n",
    "    encoding = list(map(lambda x: str(x)[2:-1], f['encoding'][()]))"
   ]
  },
  {
   "cell_type": "markdown",
   "metadata": {},
   "source": [
    "#### Decoding and evaluation"
   ]
  },
  {
   "cell_type": "code",
   "execution_count": 125,
   "metadata": {},
   "outputs": [],
   "source": [
    "import sympy\n",
    "\n",
    "# Decode the onehot matrix into seq\n",
    "def onehot_to_seq(onehot_matrix):\n",
    "    seq = []\n",
    "    for i, token_id in enumerate(onehot_matrix[:, :-1].argmax(axis=1)):\n",
    "        if encoding[token_id] == '[PAD]':\n",
    "            break\n",
    "        elif encoding[token_id] == '[NUM]':\n",
    "            seq.append(str(onehot_matrix[i, -1]))\n",
    "        else:\n",
    "            seq.append(encoding[token_id])\n",
    "    return seq\n",
    "\n",
    "binops = ['+', '-', '*', '/', '^', '(', ')']\n",
    "unops = ['sin', 'cos', 'tan', 'exp', 'log']\n",
    "\n",
    "def seq_to_infix(prefix):\n",
    "    stack = []\n",
    "    \n",
    "    # read prefix in reverse order\n",
    "    i = len(prefix) - 1\n",
    "    while i >= 0:\n",
    "        symbol = prefix[i]\n",
    "        if symbol in binops:\n",
    "            str = \"(\" + stack.pop() + symbol + stack.pop() + \")\"\n",
    "            stack.append(str)\n",
    "            i -= 1\n",
    "        elif symbol in unops:\n",
    "            str = symbol + \"(\" + stack.pop() + \")\"\n",
    "            stack.append(str)\n",
    "            i -= 1\n",
    "        else:\n",
    "            stack.append(symbol)\n",
    "            i -= 1\n",
    "    return stack.pop()"
   ]
  },
  {
   "cell_type": "code",
   "execution_count": 140,
   "metadata": {},
   "outputs": [
    {
     "data": {
      "image/png": "[encoded data removed]",
      "text/plain": [
       "<Figure size 640x480 with 2 Axes>"
      ]
     },
     "metadata": {},
     "output_type": "display_data"
    }
   ],
   "source": [
    "from matplotlib import pyplot as plt\n",
    "\n",
    "def plot_onehot(onehot_matrix, labels=None):\n",
    "    plt.imshow(onehot_matrix)\n",
    "    plt.ylabel('Sequence')\n",
    "    plt.xlabel('Encoding')\n",
    "    plt.xticks(range(len(encoding)), encoding, rotation='vertical')\n",
    "    plt.colorbar()\n",
    "    plt.tight_layout()\n",
    "    plt.show()\n",
    "\n",
    "plot_onehot(dataset[3, ...])\n"
   ]
  },
  {
   "cell_type": "code",
   "execution_count": 132,
   "metadata": {},
   "outputs": [
    {
     "ename": "AssertionError",
     "evalue": "0.00000696947861315010 for exp(exp(x1 + 1.2443581378370845)) -> exp(3.47070658489311*exp(x1))",
     "output_type": "error",
     "traceback": [
      "\u001b[0;31m---------------------------------------------------------------------------\u001b[0m",
      "\u001b[0;31mAssertionError\u001b[0m                            Traceback (most recent call last)",
      "Cell \u001b[0;32mIn[132], line 11\u001b[0m\n\u001b[1;32m      9\u001b[0m \u001b[38;5;66;03m# print(expr, '   ',  expr_raw)\u001b[39;00m\n\u001b[1;32m     10\u001b[0m diff \u001b[38;5;241m=\u001b[39m sympy\u001b[38;5;241m.\u001b[39msimplify(expr\u001b[38;5;241m-\u001b[39mexpr_raw)\u001b[38;5;241m.\u001b[39mevalf(subs\u001b[38;5;241m=\u001b[39m{\u001b[38;5;124m'\u001b[39m\u001b[38;5;124mx1\u001b[39m\u001b[38;5;124m'\u001b[39m: \u001b[38;5;241m1e-3\u001b[39m})\n\u001b[0;32m---> 11\u001b[0m \u001b[38;5;28;01massert\u001b[39;00m diff \u001b[38;5;241m<\u001b[39m \u001b[38;5;241m1e-6\u001b[39m, \u001b[38;5;124mf\u001b[39m\u001b[38;5;124m'\u001b[39m\u001b[38;5;132;01m{\u001b[39;00mdiff\u001b[38;5;132;01m}\u001b[39;00m\u001b[38;5;124m for \u001b[39m\u001b[38;5;132;01m{\u001b[39;00mraw_expr_str\u001b[38;5;132;01m}\u001b[39;00m\u001b[38;5;124m -> \u001b[39m\u001b[38;5;132;01m{\u001b[39;00mexpr\u001b[38;5;132;01m}\u001b[39;00m\u001b[38;5;124m'\u001b[39m\n\u001b[1;32m     12\u001b[0m \u001b[38;5;66;03m# print(diff)\u001b[39;00m\n",
      "\u001b[0;31mAssertionError\u001b[0m: 0.00000696947861315010 for exp(exp(x1 + 1.2443581378370845)) -> exp(3.47070658489311*exp(x1))"
     ]
    }
   ],
   "source": [
    "\n",
    "for onehot_matrix, raw_expr_str in zip(dataset[1:1000, ...], raw[1:1000]):\n",
    "    # onehot_matrix = dataset[1, ...]\n",
    "    seq = onehot_to_seq(onehot_matrix)\n",
    "    infix_str = seq_to_infix(seq)\n",
    "    expr = sympy.parse_expr(infix_str)\n",
    "\n",
    "    expr_raw = sympy.parse_expr(raw_expr_str)\n",
    "\n",
    "    # print(expr, '   ',  expr_raw)\n",
    "    diff = sympy.simplify(expr-expr_raw).evalf(subs={'x1': 1e-3})\n",
    "    assert diff < 1e-6, f'{diff} for {raw_expr_str} -> {expr}'\n",
    "    # print(diff)"
   ]
  },
  {
   "cell_type": "code",
   "execution_count": 165,
   "metadata": {},
   "outputs": [],
   "source": [
    "import numpy as np\n",
    "\n",
    "onehot_matrix = np.random.random([11, len(encoding)+1])\n",
    "\n",
    "\n",
    "# seq = onehot_to_seq(onehot_matrix)\n",
    "# infix_str = seq_to_infix(seq)\n",
    "# expr = sympy.parse_expr(infix_str)\n",
    "# expr"
   ]
  },
  {
   "cell_type": "code",
   "execution_count": 166,
   "metadata": {},
   "outputs": [
    {
     "data": {
      "image/png": "[encoded data removed]",
      "text/plain": [
       "<Figure size 640x480 with 2 Axes>"
      ]
     },
     "metadata": {},
     "output_type": "display_data"
    }
   ],
   "source": [
    "plot_onehot(onehot_matrix)"
   ]
  },
  {
   "cell_type": "markdown",
   "metadata": {},
   "source": [
    "### Grammar"
   ]
  },
  {
   "cell_type": "code",
   "execution_count": 185,
   "metadata": {},
   "outputs": [
    {
     "data": {
      "image/png": "[encoded data removed]",
      "text/plain": [
       "<Figure size 640x480 with 2 Axes>"
      ]
     },
     "metadata": {},
     "output_type": "display_data"
    }
   ],
   "source": [
    "from matplotlib import pyplot as plt\n",
    "\n",
    "def plot_onehot(onehot_matrix, grammar):\n",
    "    plt.imshow(onehot_matrix)\n",
    "\n",
    "    plt.ylabel('Sequence')\n",
    "    plt.xlabel('Rule')\n",
    "    xticks = grammar.productions()\n",
    "    plt.xticks(range(len(xticks)), xticks, rotation='vertical')\n",
    "    plt.colorbar()\n",
    "    plt.tight_layout()\n",
    "    plt.show()\n",
    "\n",
    "onehot_matrix = np.random.random([15, len(GCFG.productions())+1])\n",
    "plot_onehot(onehot_matrix, GCFG)"
   ]
  },
  {
   "cell_type": "code",
   "execution_count": 196,
   "metadata": {},
   "outputs": [],
   "source": [
    "import torch\n",
    "from torch.autograd import Variable\n",
    "from nltk import CFG, Nonterminal\n",
    "from torch.distributions import Categorical"
   ]
  },
  {
   "cell_type": "code",
   "execution_count": 197,
   "metadata": {},
   "outputs": [],
   "source": [
    "class Stack:\n",
    "    \"\"\"A simple first in last out stack.\n",
    "\n",
    "    Args:\n",
    "        grammar: an instance of nltk.CFG\n",
    "        start_symbol: an instance of nltk.Nonterminal that is the\n",
    "            start symbol the grammar\n",
    "    \"\"\"\n",
    "    def __init__(self, grammar, start_symbol):\n",
    "        self.grammar = grammar\n",
    "        self._stack = [start_symbol]\n",
    "\n",
    "    def pop(self):\n",
    "        return self._stack.pop()\n",
    "\n",
    "    def push(self, symbol):\n",
    "        self._stack.append(symbol)\n",
    "\n",
    "    def __str__(self):\n",
    "        return str(self._stack)\n",
    "\n",
    "    @property\n",
    "    def nonempty(self):\n",
    "        return bool(self._stack)\n",
    "\n",
    "\n",
    "def get_mask(nonterminal, grammar, as_variable=False):\n",
    "    if isinstance(nonterminal, Nonterminal):\n",
    "        mask = [rule.lhs() == nonterminal for rule in grammar.productions()]\n",
    "        mask = Variable(torch.FloatTensor(mask)) if as_variable else mask\n",
    "        return mask\n",
    "    else:\n",
    "        raise ValueError('Input must be instance of nltk.Nonterminal')\n",
    "\n",
    "def onehot_to_prod(onehot_matrix, grammar, start_symbol, sample=True, max_length=15):\n",
    "    stack = Stack(grammar=grammar, start_symbol=start_symbol)\n",
    "\n",
    "    logits = torch.tensor(onehot_matrix[:, :-1])\n",
    "    numerical = onehot_matrix[:, -1]\n",
    "\n",
    "    rules = []\n",
    "    t = 0\n",
    "    while stack.nonempty:\n",
    "        alpha = stack.pop()\n",
    "        mask = get_mask(alpha, stack.grammar, as_variable=True)\n",
    "        probs = mask * logits[t].exp()\n",
    "        probs = probs / probs.sum()\n",
    "        \n",
    "        if sample:\n",
    "            m = Categorical(probs)\n",
    "            i = m.sample()\n",
    "        else:\n",
    "            _, i = probs.max(-1) # argmax\n",
    "\n",
    "        i = i.item()\n",
    "        # select rule i\n",
    "        rule = stack.grammar.productions()[i]\n",
    "        rules.append(rule)\n",
    "        # add rhs nonterminals to stack in reversed order\n",
    "        for symbol in reversed(rule.rhs()):\n",
    "            if isinstance(symbol, Nonterminal):\n",
    "                stack.push(symbol)\n",
    "        t += 1\n",
    "        if t == max_length:\n",
    "            break\n",
    "    return rules\n",
    "\n",
    "\n",
    "def prods_to_eq(prods, verbose=False):\n",
    "    seq = [prods[0].lhs()]\n",
    "    for prod in prods:\n",
    "        if str(prod.lhs()) == 'Nothing':\n",
    "            break\n",
    "        for ix, s in enumerate(seq):\n",
    "            if s == prod.lhs():\n",
    "                seq = seq[:ix] + list(prod.rhs()) + seq[ix+1:]\n",
    "                break\n",
    "    try:\n",
    "        return ''.join(seq)\n",
    "    except TypeError:\n",
    "        if verbose:\n",
    "            print(f'Nonterminal found. {seq = }')\n",
    "        return ''\n"
   ]
  },
  {
   "cell_type": "code",
   "execution_count": 190,
   "metadata": {},
   "outputs": [],
   "source": []
  },
  {
   "cell_type": "code",
   "execution_count": 192,
   "metadata": {},
   "outputs": [],
   "source": [
    "\n",
    "print(get_mask(T, GCFG))\n",
    "\n"
   ]
  },
  {
   "cell_type": "code",
   "execution_count": 195,
   "metadata": {},
   "outputs": [
    {
     "name": "stdout",
     "output_type": "stream",
     "text": [
      "Nonterminal found. seq = ['x1', '+', 'x1', '+', 'sin(', 'exp(', S, ')', '*', T, '+', T, '+', T, ')', '*', T, '+', T, '/', T, '/', T]\n"
     ]
    },
    {
     "data": {
      "text/plain": [
       "''"
      ]
     },
     "execution_count": 195,
     "metadata": {},
     "output_type": "execute_result"
    }
   ],
   "source": [
    "grammar = \"\"\"\n",
    "S -> S '+' T\n",
    "S -> S '*' T\n",
    "S -> S '/' T\n",
    "S -> T\n",
    "T -> '(' S ')'\n",
    "T -> 'sin(' S ')'\n",
    "T -> 'exp(' S ')'\n",
    "T -> 'x1'\n",
    "T -> '[CONST]'\n",
    "Nothing -> None\"\"\"\n",
    "GCFG = CFG.fromstring(grammar)\n",
    "S, T = Nonterminal('S'), Nonterminal('T')\n",
    "\n",
    "rules = onehot_to_prod(onehot_matrix, GCFG, S)\n",
    "prods_to_eq(rules, verbose=True)"
   ]
  }
 ],
 "metadata": {
  "kernelspec": {
   "display_name": "small-mutations",
   "language": "python",
   "name": "python3"
  },
  "language_info": {
   "codemirror_mode": {
    "name": "ipython",
    "version": 3
   },
   "file_extension": ".py",
   "mimetype": "text/x-python",
   "name": "python",
   "nbconvert_exporter": "python",
   "pygments_lexer": "ipython3",
   "version": "3.12.4"
  }
 },
 "nbformat": 4,
 "nbformat_minor": 2
}
