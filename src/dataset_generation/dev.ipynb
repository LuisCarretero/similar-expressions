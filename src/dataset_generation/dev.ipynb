{
 "cells": [
  {
   "cell_type": "markdown",
   "metadata": {},
   "source": [
    "# Create dataset of expressions for training similar-expressions model"
   ]
  },
  {
   "cell_type": "markdown",
   "metadata": {
    "vscode": {
     "languageId": "plaintext"
    }
   },
   "source": [
    "## Test nesymres data generation"
   ]
  },
  {
   "cell_type": "code",
   "execution_count": 4,
   "metadata": {},
   "outputs": [],
   "source": [
    "!export PYTHONPATH=\"/Users/luis/Desktop/Cranmer 2024/Workplace/smallMutations/similar-expressions/src/dataset_generation/nesymres:$PYTHONPATH\""
   ]
  },
  {
   "cell_type": "code",
   "execution_count": 5,
   "metadata": {},
   "outputs": [
    {
     "name": "stdout",
     "output_type": "stream",
     "text": [
      "Traceback (most recent call last):\n",
      "  File \"/Users/luis/Desktop/Cranmer 2024/Workplace/smallMutations/similar-expressions/src/dataset_generation/nesymres/data_creation/dataset_creation.py\", line 19, in <module>\n",
      "    from utils import create_env, H5FilesCreator\n",
      "  File \"/Users/luis/Desktop/Cranmer 2024/Workplace/smallMutations/similar-expressions/src/dataset_generation/nesymres/utils.py\", line 6, in <module>\n",
      "    from .dataset import generator\n",
      "ImportError: attempted relative import with no known parent package\n"
     ]
    }
   ],
   "source": [
    "!python nesymres/data_creation/dataset_creation.py --number_of_equations 1000 --no-debug"
   ]
  },
  {
   "cell_type": "code",
   "execution_count": 59,
   "metadata": {},
   "outputs": [],
   "source": [
    "import pickle\n",
    "import numpy as np\n",
    "import h5py\n",
    "import os\n",
    "from io import BytesIO\n",
    "from nesymres import dclasses, utils\n",
    "\n",
    "class CustomUnpickler(pickle.Unpickler):\n",
    "    def find_class(self, module, name):\n",
    "        if module == 'dclasses':\n",
    "            return getattr(dclasses, name)\n",
    "        elif module == 'utils':\n",
    "            return getattr(utils, name)\n",
    "        return super().find_class(module, name)\n",
    "\n",
    "def load_eq(path_folder, idx, num_eqs_per_set):\n",
    "    index_file = str(int(idx/num_eqs_per_set))\n",
    "    f = h5py.File(os.path.join(path_folder, f\"{index_file}.h5\"), 'r')\n",
    "    dataset_metadata = f[str(idx - int(index_file)*int(num_eqs_per_set))]\n",
    "    raw_metadata = np.array(dataset_metadata)\n",
    "    \n",
    "    # Create a BytesIO object from the raw_metadata bytes\n",
    "    metadata_bytes = BytesIO(raw_metadata.tobytes())\n",
    "    \n",
    "    # Use the CustomUnpickler with the BytesIO object\n",
    "    metadata = CustomUnpickler(metadata_bytes).load()\n",
    "    \n",
    "    f.close()\n",
    "    return metadata\n",
    "\n",
    "\n",
    "fpath = '/Users/luis/Desktop/Cranmer 2024/Workplace/smallMutations/similar-expressions/src/dataset_generation/nesymres/data_creation/data/raw_datasets/debug/200'\n",
    "a = load_eq(fpath, 0, 100)"
   ]
  },
  {
   "cell_type": "code",
   "execution_count": 62,
   "metadata": {},
   "outputs": [
    {
     "name": "stdout",
     "output_type": "stream",
     "text": [
      "Equation(code=<code object _lambdifygenerated at 0x139aa31b0, file \"<lambdifygenerated-1>\", line 1>,\n",
      "         expr='(({cm_0})*(({ca_0})+(x_1)))+((-1)*(({cm_1})*((({ca_1})+(x_3))*((({cm_2})*(({ca_2})+(x_3)))+(exp(x_2))))))',\n",
      "         coeff_dict={'ca_0': 'ca_0',\n",
      "                     'ca_1': 'ca_1',\n",
      "                     'ca_2': 'ca_2',\n",
      "                     'cm_0': 'cm_0',\n",
      "                     'cm_1': 'cm_1',\n",
      "                     'cm_2': 'cm_2'},\n",
      "         variables={'x_3', 'x_1', 'x_2'},\n",
      "         support=None,\n",
      "         tokenized=None,\n",
      "         valid=True,\n",
      "         number_of_points=None)\n"
     ]
    }
   ],
   "source": [
    "pprint(a)"
   ]
  },
  {
   "cell_type": "code",
   "execution_count": 93,
   "metadata": {},
   "outputs": [
    {
     "name": "stdout",
     "output_type": "stream",
     "text": [
      "used_consts = 4 symbols_used = ['ca_2', 'ca_1', 'ca_0', 'cm_2']\n"
     ]
    },
    {
     "data": {
      "text/plain": [
       "{'cm_0': 1,\n",
       " 'cm_1': 1,\n",
       " 'cm_2': 7.92,\n",
       " 'ca_0': 5.028,\n",
       " 'ca_1': 5.646,\n",
       " 'ca_2': 1.669}"
      ]
     },
     "execution_count": 93,
     "metadata": {},
     "output_type": "execute_result"
    }
   ],
   "source": [
    "from typing import Tuple\n",
    "from nesymres.dclasses import Equation\n",
    "from torch.distributions.uniform import Uniform\n",
    "import random\n",
    "\n",
    "\n",
    "def sample_symbolic_constants(eq: Equation, cfg=None) -> Tuple:\n",
    "    \"\"\"Given an equation, returns randomly sampled constants and dummy contants\n",
    "\n",
    "    Args:\n",
    "      eq: an Equation.\n",
    "      cfg: Used for specifying how many and in which range to sample constants. If None, consts equal to dummy_consts\n",
    "\n",
    "    Returns:\n",
    "      consts: \n",
    "      dummy_consts: \n",
    "    \"\"\"\n",
    "\n",
    "    dummy_consts = {const: 1 if const[:2] == \"cm\" else 0 for const in eq.coeff_dict.keys()}\n",
    "    consts = dummy_consts.copy()\n",
    "    if cfg:\n",
    "        used_consts = random.randint(0, min(len(eq.coeff_dict),cfg.num_constants))\n",
    "        symbols_used = random.sample(list(set(eq.coeff_dict.keys())), used_consts)\n",
    "        print(f'{used_consts = }', f'{symbols_used = }')\n",
    "        for si in symbols_used:\n",
    "            if si[:2] == \"ca\":\n",
    "                consts[si] = round(float(Uniform(cfg.additive.min, cfg.additive.max).sample()),3)\n",
    "            elif si[:2] == \"cm\":\n",
    "                consts[si] = round(float(Uniform(cfg.multiplicative.min, cfg.multiplicative.max).sample()),3)\n",
    "            else:\n",
    "                raise KeyError\n",
    "    else:\n",
    "        consts = dummy_consts\n",
    "    return consts, dummy_consts\n",
    "\n",
    "from types import SimpleNamespace\n",
    "\n",
    "cfg = SimpleNamespace(\n",
    "    num_constants=10,\n",
    "    additive=SimpleNamespace(min=0, max=10),\n",
    "    multiplicative=SimpleNamespace(min=0, max=10)\n",
    ")\n",
    "\n",
    "consts, dummy_consts = sample_symbolic_constants(a, cfg)\n",
    "consts"
   ]
  },
  {
   "cell_type": "code",
   "execution_count": 78,
   "metadata": {},
   "outputs": [
    {
     "data": {
      "text/plain": [
       "({'cm_0': 1, 'cm_1': 1, 'cm_2': 1, 'ca_0': 0, 'ca_1': 0, 'ca_2': 0},\n",
       " {'cm_0': 1, 'cm_1': 1, 'cm_2': 1, 'ca_0': 0, 'ca_1': 0, 'ca_2': 0})"
      ]
     },
     "execution_count": 78,
     "metadata": {},
     "output_type": "execute_result"
    }
   ],
   "source": []
  },
  {
   "cell_type": "code",
   "execution_count": 13,
   "metadata": {},
   "outputs": [
    {
     "ename": "TypeError",
     "evalue": "unsupported operand type(s) for +: 'set' and 'Symbol'",
     "output_type": "error",
     "traceback": [
      "\u001b[0;31m---------------------------------------------------------------------------\u001b[0m",
      "\u001b[0;31mValueError\u001b[0m                                Traceback (most recent call last)",
      "\u001b[0;31mValueError\u001b[0m: Error from parse_expr with transformed code: \"(({Symbol ('cm_0' )})*(({Symbol ('ca_0' )})+(Symbol ('x_1' ))))+((-Integer (1 ))*(({Symbol ('cm_1' )})*((({Symbol ('ca_1' )})+(Symbol ('x_3' )))*((({Symbol ('cm_2' )})*(({Symbol ('ca_2' )})+(Symbol ('x_3' ))))+(exp (Symbol ('x_2' )))))))\"",
      "\nThe above exception was the direct cause of the following exception:\n",
      "\u001b[0;31mTypeError\u001b[0m                                 Traceback (most recent call last)",
      "Cell \u001b[0;32mIn[13], line 3\u001b[0m\n\u001b[1;32m      1\u001b[0m \u001b[38;5;28;01mimport\u001b[39;00m \u001b[38;5;21;01msympy\u001b[39;00m \u001b[38;5;28;01mas\u001b[39;00m \u001b[38;5;21;01msp\u001b[39;00m\n\u001b[0;32m----> 3\u001b[0m \u001b[43msp\u001b[49m\u001b[38;5;241;43m.\u001b[39;49m\u001b[43msympify\u001b[49m\u001b[43m(\u001b[49m\u001b[43ma\u001b[49m\u001b[38;5;241;43m.\u001b[39;49m\u001b[43mexpr\u001b[49m\u001b[43m)\u001b[49m\n",
      "File \u001b[0;32m~/opt/anaconda3/envs/small-mutations/lib/python3.12/site-packages/sympy/core/sympify.py:481\u001b[0m, in \u001b[0;36msympify\u001b[0;34m(a, locals, convert_xor, strict, rational, evaluate)\u001b[0m\n\u001b[1;32m    479\u001b[0m \u001b[38;5;28;01mtry\u001b[39;00m:\n\u001b[1;32m    480\u001b[0m     a \u001b[38;5;241m=\u001b[39m a\u001b[38;5;241m.\u001b[39mreplace(\u001b[38;5;124m'\u001b[39m\u001b[38;5;130;01m\\n\u001b[39;00m\u001b[38;5;124m'\u001b[39m, \u001b[38;5;124m'\u001b[39m\u001b[38;5;124m'\u001b[39m)\n\u001b[0;32m--> 481\u001b[0m     expr \u001b[38;5;241m=\u001b[39m \u001b[43mparse_expr\u001b[49m\u001b[43m(\u001b[49m\u001b[43ma\u001b[49m\u001b[43m,\u001b[49m\u001b[43m \u001b[49m\u001b[43mlocal_dict\u001b[49m\u001b[38;5;241;43m=\u001b[39;49m\u001b[38;5;28;43mlocals\u001b[39;49m\u001b[43m,\u001b[49m\u001b[43m \u001b[49m\u001b[43mtransformations\u001b[49m\u001b[38;5;241;43m=\u001b[39;49m\u001b[43mtransformations\u001b[49m\u001b[43m,\u001b[49m\u001b[43m \u001b[49m\u001b[43mevaluate\u001b[49m\u001b[38;5;241;43m=\u001b[39;49m\u001b[43mevaluate\u001b[49m\u001b[43m)\u001b[49m\n\u001b[1;32m    482\u001b[0m \u001b[38;5;28;01mexcept\u001b[39;00m (TokenError, \u001b[38;5;167;01mSyntaxError\u001b[39;00m) \u001b[38;5;28;01mas\u001b[39;00m exc:\n\u001b[1;32m    483\u001b[0m     \u001b[38;5;28;01mraise\u001b[39;00m SympifyError(\u001b[38;5;124m'\u001b[39m\u001b[38;5;124mcould not parse \u001b[39m\u001b[38;5;132;01m%r\u001b[39;00m\u001b[38;5;124m'\u001b[39m \u001b[38;5;241m%\u001b[39m a, exc)\n",
      "File \u001b[0;32m~/opt/anaconda3/envs/small-mutations/lib/python3.12/site-packages/sympy/parsing/sympy_parser.py:1090\u001b[0m, in \u001b[0;36mparse_expr\u001b[0;34m(s, local_dict, transformations, global_dict, evaluate)\u001b[0m\n\u001b[1;32m   1088\u001b[0m \u001b[38;5;28;01mfor\u001b[39;00m i \u001b[38;5;129;01min\u001b[39;00m local_dict\u001b[38;5;241m.\u001b[39mpop(null, ()):\n\u001b[1;32m   1089\u001b[0m     local_dict[i] \u001b[38;5;241m=\u001b[39m null\n\u001b[0;32m-> 1090\u001b[0m \u001b[38;5;28;01mraise\u001b[39;00m e \u001b[38;5;28;01mfrom\u001b[39;00m \u001b[38;5;21;01mValueError\u001b[39;00m(\u001b[38;5;124mf\u001b[39m\u001b[38;5;124m\"\u001b[39m\u001b[38;5;124mError from parse_expr with transformed code: \u001b[39m\u001b[38;5;132;01m{\u001b[39;00mcode\u001b[38;5;132;01m!r}\u001b[39;00m\u001b[38;5;124m\"\u001b[39m)\n",
      "File \u001b[0;32m~/opt/anaconda3/envs/small-mutations/lib/python3.12/site-packages/sympy/parsing/sympy_parser.py:1081\u001b[0m, in \u001b[0;36mparse_expr\u001b[0;34m(s, local_dict, transformations, global_dict, evaluate)\u001b[0m\n\u001b[1;32m   1078\u001b[0m     code \u001b[38;5;241m=\u001b[39m \u001b[38;5;28mcompile\u001b[39m(evaluateFalse(code), \u001b[38;5;124m'\u001b[39m\u001b[38;5;124m<string>\u001b[39m\u001b[38;5;124m'\u001b[39m, \u001b[38;5;124m'\u001b[39m\u001b[38;5;124meval\u001b[39m\u001b[38;5;124m'\u001b[39m) \u001b[38;5;66;03m# type: ignore\u001b[39;00m\n\u001b[1;32m   1080\u001b[0m \u001b[38;5;28;01mtry\u001b[39;00m:\n\u001b[0;32m-> 1081\u001b[0m     rv \u001b[38;5;241m=\u001b[39m \u001b[43meval_expr\u001b[49m\u001b[43m(\u001b[49m\u001b[43mcode\u001b[49m\u001b[43m,\u001b[49m\u001b[43m \u001b[49m\u001b[43mlocal_dict\u001b[49m\u001b[43m,\u001b[49m\u001b[43m \u001b[49m\u001b[43mglobal_dict\u001b[49m\u001b[43m)\u001b[49m\n\u001b[1;32m   1082\u001b[0m     \u001b[38;5;66;03m# restore neutral definitions for names\u001b[39;00m\n\u001b[1;32m   1083\u001b[0m     \u001b[38;5;28;01mfor\u001b[39;00m i \u001b[38;5;129;01min\u001b[39;00m local_dict\u001b[38;5;241m.\u001b[39mpop(null, ()):\n",
      "File \u001b[0;32m~/opt/anaconda3/envs/small-mutations/lib/python3.12/site-packages/sympy/parsing/sympy_parser.py:909\u001b[0m, in \u001b[0;36meval_expr\u001b[0;34m(code, local_dict, global_dict)\u001b[0m\n\u001b[1;32m    903\u001b[0m \u001b[38;5;28;01mdef\u001b[39;00m \u001b[38;5;21meval_expr\u001b[39m(code, local_dict: DICT, global_dict: DICT):\n\u001b[1;32m    904\u001b[0m \u001b[38;5;250m    \u001b[39m\u001b[38;5;124;03m\"\"\"\u001b[39;00m\n\u001b[1;32m    905\u001b[0m \u001b[38;5;124;03m    Evaluate Python code generated by ``stringify_expr``.\u001b[39;00m\n\u001b[1;32m    906\u001b[0m \n\u001b[1;32m    907\u001b[0m \u001b[38;5;124;03m    Generally, ``parse_expr`` should be used.\u001b[39;00m\n\u001b[1;32m    908\u001b[0m \u001b[38;5;124;03m    \"\"\"\u001b[39;00m\n\u001b[0;32m--> 909\u001b[0m     expr \u001b[38;5;241m=\u001b[39m \u001b[38;5;28;43meval\u001b[39;49m\u001b[43m(\u001b[49m\n\u001b[1;32m    910\u001b[0m \u001b[43m        \u001b[49m\u001b[43mcode\u001b[49m\u001b[43m,\u001b[49m\u001b[43m \u001b[49m\u001b[43mglobal_dict\u001b[49m\u001b[43m,\u001b[49m\u001b[43m \u001b[49m\u001b[43mlocal_dict\u001b[49m\u001b[43m)\u001b[49m  \u001b[38;5;66;03m# take local objects in preference\u001b[39;00m\n\u001b[1;32m    911\u001b[0m     \u001b[38;5;28;01mreturn\u001b[39;00m expr\n",
      "File \u001b[0;32m<string>:1\u001b[0m\n",
      "\u001b[0;31mTypeError\u001b[0m: unsupported operand type(s) for +: 'set' and 'Symbol'"
     ]
    }
   ],
   "source": [
    "import sympy as sp\n",
    "\n",
    "sp.sympify(a.expr)"
   ]
  },
  {
   "cell_type": "markdown",
   "metadata": {},
   "source": [
    "## Using DLSM generator directly"
   ]
  },
  {
   "cell_type": "code",
   "execution_count": 55,
   "metadata": {},
   "outputs": [
    {
     "name": "stdout",
     "output_type": "stream",
     "text": [
      "GeneratorDetails(max_len=10,\n",
      "                 operators='add:10,mul:10,sin:4',\n",
      "                 max_ops=3,\n",
      "                 rewrite_functions='',\n",
      "                 variables=['x_1'],\n",
      "                 eos_index=1,\n",
      "                 pad_index=0)\n",
      "New stack: ['sin', None]\n",
      "New stack: ['sin', 'add', None, None]\n",
      "New stack: ['sin', 'add', None, 'add', None, None]\n",
      "leaves = [['x_1'], ['x_1'], ['x_1']]\n",
      "Finally: stack = ['sin', 'add', 'x_1', 'add', 'x_1', 'x_1']\n",
      "f_expr = ['sin', 'add', 'x_1', 'add', 'x_1', 'x_1']\n",
      "infix = '(sin((x_1)+((x_1)+(x_1))))'\n",
      "Process equation\n",
      "3, f = sin(3*x_1)\n",
      "4, f = cm*sin(3*cm**2*x_1)\n",
      "5, f = cm*(ca + sin(cm**(ca + 2)*(ca + 3)*(ca + x_1)))\n",
      "Process equation done\n",
      "f = cm*(ca + sin(cm**(ca + 2)*(ca + 3)*(ca + x_1)))\n",
      "f_prefix = ['mul', 'cm', 'add', 'ca', 'sin', 'mul', 'pow', 'cm', 'add', '2', 'ca', 'mul', 'add', '3', 'ca', 'add', 'ca', 'x_1']\n",
      "['mul', 'cm', 'add', 'ca', 'sin', 'mul', 'pow', 'cm', 'add', '2', 'ca', 'mul', 'add', '3', 'ca', 'add', 'ca', 'x_1']\n"
     ]
    }
   ],
   "source": [
    "from importlib import reload\n",
    "from nesymres.dataset import generator\n",
    "reload(generator)\n",
    "from nesymres.utils import create_env\n",
    "from pprint import pprint\n",
    "import sympy as sp\n",
    "from itertools import chain\n",
    "import numpy as np\n",
    "\n",
    "# np.random.seed(2)\n",
    "\n",
    "env, param, config_dict = create_env(\"./nesymres/dataset_configuration.json\")\n",
    "pprint(param)\n",
    "\n",
    "prefix, variables = env.generate_equation(np.random)\n",
    "print(prefix)"
   ]
  },
  {
   "cell_type": "markdown",
   "metadata": {},
   "source": [
    "## Using custom generator"
   ]
  },
  {
   "cell_type": "code",
   "execution_count": 149,
   "metadata": {},
   "outputs": [
    {
     "name": "stdout",
     "output_type": "stream",
     "text": [
      "Expressions have been written to /Users/luis/Desktop/Cranmer 2024/Workplace/smallMutations/similar-expressions/data/expr_240807_1.txt\n"
     ]
    }
   ],
   "source": [
    "from importlib import reload\n",
    "from custom import utils, generator, dclasses\n",
    "reload(generator)\n",
    "reload(utils)\n",
    "reload(dclasses)\n",
    "from custom.utils import create_generator\n",
    "\n",
    "import numpy as np\n",
    "\n",
    "# np.random.seed(2)\n",
    "\n",
    "gen, params = create_generator('./custom/data_settings.json')\n",
    "\n",
    "expressions = [gen.generate_equation(np.random, -1e3, 1e3, simplify=False, check_const_range=True) for _ in range(10000)]\n",
    "\n",
    "\n",
    "datapath = '/Users/luis/Desktop/Cranmer 2024/Workplace/smallMutations/similar-expressions/data'\n",
    "\n",
    "import os\n",
    "\n",
    "# Filter out empty strings\n",
    "expressions = [expr for expr in expressions if expr]\n",
    "\n",
    "# Create the full path for the output file\n",
    "output_file = os.path.join(datapath, 'expr_240807_1.txt')\n",
    "\n",
    "# Write expressions to the file\n",
    "with open(output_file, 'w') as f:\n",
    "    for expr in expressions:\n",
    "        f.write(f\"{expr}\\n\")\n",
    "\n",
    "print(f\"Expressions have been written to {output_file}\")\n",
    "\n"
   ]
  },
  {
   "cell_type": "code",
   "execution_count": null,
   "metadata": {},
   "outputs": [],
   "source": []
  },
  {
   "cell_type": "code",
   "execution_count": 64,
   "metadata": {},
   "outputs": [
    {
     "data": {
      "text/plain": [
       "['add', 'add', 8.140416442852966e+16, 'x_1', 'sin', 'x_1']"
      ]
     },
     "execution_count": 64,
     "metadata": {},
     "output_type": "execute_result"
    }
   ],
   "source": [
    "f = gen.replace_const_placeholder(f, 1e16, 1e17)\n",
    "f"
   ]
  },
  {
   "cell_type": "code",
   "execution_count": null,
   "metadata": {},
   "outputs": [],
   "source": []
  },
  {
   "cell_type": "code",
   "execution_count": 77,
   "metadata": {},
   "outputs": [
    {
     "data": {
      "text/plain": [
       "False"
      ]
     },
     "execution_count": 77,
     "metadata": {},
     "output_type": "execute_result"
    }
   ],
   "source": [
    "bool(None)"
   ]
  },
  {
   "cell_type": "code",
   "execution_count": 72,
   "metadata": {},
   "outputs": [
    {
     "data": {
      "text/plain": [
       "True"
      ]
     },
     "execution_count": 72,
     "metadata": {},
     "output_type": "execute_result"
    }
   ],
   "source": [
    "isinstance(f[2], float)"
   ]
  },
  {
   "cell_type": "code",
   "execution_count": 69,
   "metadata": {},
   "outputs": [
    {
     "data": {
      "text/plain": [
       "[numpy.str_, numpy.str_, float, str, numpy.str_, str]"
      ]
     },
     "execution_count": 69,
     "metadata": {},
     "output_type": "execute_result"
    }
   ],
   "source": [
    "list(map(type, f))"
   ]
  },
  {
   "cell_type": "code",
   "execution_count": 97,
   "metadata": {},
   "outputs": [
    {
     "data": {
      "text/plain": [
       "'((sin(sin(c)))*(x_1))'"
      ]
     },
     "execution_count": 97,
     "metadata": {},
     "output_type": "execute_result"
    }
   ],
   "source": [
    "f = gen._generate_expr(nb_total_ops=3, rng=np.random)\n",
    "infix = gen.prefix_to_infix(f, coefficients=gen.coefficients, variables=gen.variables)\n",
    "infix"
   ]
  },
  {
   "cell_type": "code",
   "execution_count": 98,
   "metadata": {},
   "outputs": [
    {
     "data": {
      "text/latex": [
       "$\\displaystyle x_{1} \\sin{\\left(\\sin{\\left(c \\right)} \\right)}$"
      ],
      "text/plain": [
       "x_1*sin(sin(c))"
      ]
     },
     "execution_count": 98,
     "metadata": {},
     "output_type": "execute_result"
    }
   ],
   "source": [
    "expr = gen.infix_to_sympy(infix, gen.variables, gen.rewrite_functions)\n",
    "expr"
   ]
  },
  {
   "cell_type": "code",
   "execution_count": 99,
   "metadata": {},
   "outputs": [
    {
     "data": {
      "text/plain": [
       "['mul', 'x_1', 'sin', 'sin', 'c']"
      ]
     },
     "execution_count": 99,
     "metadata": {},
     "output_type": "execute_result"
    }
   ],
   "source": [
    "f_prefix = gen.sympy_to_prefix(expr)\n",
    "f_prefix"
   ]
  },
  {
   "cell_type": "code",
   "execution_count": null,
   "metadata": {},
   "outputs": [],
   "source": []
  }
 ],
 "metadata": {
  "kernelspec": {
   "display_name": "small-mutations",
   "language": "python",
   "name": "python3"
  },
  "language_info": {
   "codemirror_mode": {
    "name": "ipython",
    "version": 3
   },
   "file_extension": ".py",
   "mimetype": "text/x-python",
   "name": "python",
   "nbconvert_exporter": "python",
   "pygments_lexer": "ipython3",
   "version": "3.12.4"
  }
 },
 "nbformat": 4,
 "nbformat_minor": 2
}
