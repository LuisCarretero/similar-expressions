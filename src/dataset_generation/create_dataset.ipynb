{
 "cells": [
  {
   "cell_type": "markdown",
   "metadata": {},
   "source": [
    "# Create dataset of expressions for training similar-expressions model"
   ]
  },
  {
   "cell_type": "markdown",
   "metadata": {},
   "source": [
    "## Using custom generator (based on NeSymRes and DLSM code)\n",
    "\n",
    "Creates .txt file with string expressions."
   ]
  },
  {
   "cell_type": "code",
   "execution_count": 226,
   "metadata": {},
   "outputs": [],
   "source": [
    "from importlib import reload\n",
    "from custom import utils, generator, dclasses\n",
    "reload(generator)\n",
    "reload(utils)\n",
    "reload(dclasses)\n",
    "from custom.utils import create_generator\n",
    "import os\n",
    "import numpy as np\n",
    "np.random.seed(2)\n",
    "\n",
    "gen, params = create_generator('./custom/data_settings.json')\n",
    "# gen.generate_equation(np.random, -1e3, 1e3, simplify=False, check_const_range=True)"
   ]
  },
  {
   "cell_type": "code",
   "execution_count": null,
   "metadata": {},
   "outputs": [],
   "source": [
    "# Generate data\n",
    "expressions = [gen.generate_equation(np.random, -1, 1, simplify=False, check_const_range=True) for _ in range(100000)]"
   ]
  },
  {
   "cell_type": "code",
   "execution_count": 227,
   "metadata": {},
   "outputs": [],
   "source": [
    "datapath = '/Users/luis/Desktop/Cranmer 2024/Workplace/smallMutations/similar-expressions/data'\n",
    "\n",
    "# Filter out empty strings\n",
    "expressions = [expr for expr in expressions if expr]\n",
    "\n",
    "# Save\n",
    "output_file = os.path.join(datapath, 'expr_240807_5.txt')\n",
    "with open(output_file, 'w') as f:\n",
    "    for expr in expressions:\n",
    "        f.write(f\"{expr}\\n\")"
   ]
  },
  {
   "cell_type": "markdown",
   "metadata": {},
   "source": [
    "## Parse string to onehot representation"
   ]
  },
  {
   "cell_type": "markdown",
   "metadata": {
    "vscode": {
     "languageId": "julia"
    }
   },
   "source": [
    "### Whole dataset"
   ]
  },
  {
   "cell_type": "code",
   "execution_count": 2,
   "metadata": {},
   "outputs": [],
   "source": [
    "import pandas as pd\n",
    "import h5py\n",
    "from parsing import parse_dataset"
   ]
  },
  {
   "cell_type": "code",
   "execution_count": 4,
   "metadata": {},
   "outputs": [],
   "source": [
    "# Load data\n",
    "datapath = r'/Users/luis/Desktop/Cranmer 2024/Workplace/smallMutations/similar-expressions/data/expr_240807_5.txt'\n",
    "with open(datapath, 'r') as f:\n",
    "    eqs = f.readlines()\n",
    "    eqs = [eq.strip('\\n') for eq in eqs]\n",
    "\n",
    "# Parse dataset\n",
    "onehot, invalid, consts = parse_dataset(eqs)\n",
    "\n",
    "# Save parsed dataset\n",
    "with h5py.File(f'{datapath[:-4]}-parsed.h5', 'w') as f:\n",
    "    f.create_dataset('data', data=onehot)\n",
    "    f.create_dataset('invalid_indices', data=invalid)"
   ]
  },
  {
   "cell_type": "code",
   "execution_count": 5,
   "metadata": {},
   "outputs": [],
   "source": []
  },
  {
   "cell_type": "code",
   "execution_count": null,
   "metadata": {},
   "outputs": [],
   "source": []
  },
  {
   "cell_type": "code",
   "execution_count": null,
   "metadata": {},
   "outputs": [],
   "source": [
    "a = [float(const) for const_list in consts for const in const_list]\n",
    "s = pd.Series(a)\n",
    "s.describe()"
   ]
  },
  {
   "cell_type": "code",
   "execution_count": null,
   "metadata": {},
   "outputs": [],
   "source": [
    "from importlib import reload\n",
    "import util\n",
    "reload(util)\n",
    "from util import plot_onehot\n",
    "\n",
    "plot_onehot(onehot[3, ...], GCFG)"
   ]
  }
 ],
 "metadata": {
  "kernelspec": {
   "display_name": "small-mutations",
   "language": "python",
   "name": "python3"
  },
  "language_info": {
   "codemirror_mode": {
    "name": "ipython",
    "version": 3
   },
   "file_extension": ".py",
   "mimetype": "text/x-python",
   "name": "python",
   "nbconvert_exporter": "python",
   "pygments_lexer": "ipython3",
   "version": "3.12.4"
  }
 },
 "nbformat": 4,
 "nbformat_minor": 2
}
