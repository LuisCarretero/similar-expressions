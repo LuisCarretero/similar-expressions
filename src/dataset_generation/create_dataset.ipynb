{
 "cells": [
  {
   "cell_type": "markdown",
   "metadata": {},
   "source": [
    "# Create dataset of expressions for training similar-expressions model"
   ]
  },
  {
   "cell_type": "markdown",
   "metadata": {},
   "source": [
    "## Using custom generator (based on NeSymRes and DLSM code)\n",
    "\n",
    "Creates .txt file with string expressions."
   ]
  },
  {
   "cell_type": "code",
   "execution_count": 226,
   "metadata": {},
   "outputs": [],
   "source": [
    "from importlib import reload\n",
    "from custom import utils, generator, dclasses\n",
    "reload(generator)\n",
    "reload(utils)\n",
    "reload(dclasses)\n",
    "from custom.utils import create_generator\n",
    "import os\n",
    "import numpy as np\n",
    "np.random.seed(2)\n",
    "\n",
    "gen, params = create_generator('./custom/data_settings.json')\n",
    "# gen.generate_equation(np.random, -1e3, 1e3, simplify=False, check_const_range=True)"
   ]
  },
  {
   "cell_type": "code",
   "execution_count": null,
   "metadata": {},
   "outputs": [],
   "source": [
    "# Generate data\n",
    "expressions = [gen.generate_equation(np.random, -1, 1, simplify=False, check_const_range=True) for _ in range(100000)]"
   ]
  },
  {
   "cell_type": "code",
   "execution_count": 227,
   "metadata": {},
   "outputs": [],
   "source": [
    "datapath = '/Users/luis/Desktop/Cranmer 2024/Workplace/smallMutations/similar-expressions/data'\n",
    "\n",
    "# Filter out empty strings\n",
    "expressions = [expr for expr in expressions if expr]\n",
    "\n",
    "# Save\n",
    "output_file = os.path.join(datapath, 'expr_240807_5.txt')\n",
    "with open(output_file, 'w') as f:\n",
    "    for expr in expressions:\n",
    "        f.write(f\"{expr}\\n\")"
   ]
  },
  {
   "cell_type": "markdown",
   "metadata": {},
   "source": [
    "## Parse string to onehot representation"
   ]
  },
  {
   "cell_type": "markdown",
   "metadata": {
    "vscode": {
     "languageId": "julia"
    }
   },
   "source": [
    "### Whole dataset"
   ]
  },
  {
   "cell_type": "code",
   "execution_count": 7,
   "metadata": {},
   "outputs": [],
   "source": [
    "import pandas as pd\n",
    "import h5py\n",
    "from parsing import parse_dataset\n",
    "from model.grammar import GCFG"
   ]
  },
  {
   "cell_type": "code",
   "execution_count": 4,
   "metadata": {},
   "outputs": [],
   "source": [
    "# Load data\n",
    "datapath = r'/Users/luis/Desktop/Cranmer 2024/Workplace/smallMutations/similar-expressions/data/expr_240807_5.txt'\n",
    "with open(datapath, 'r') as f:\n",
    "    eqs = f.readlines()\n",
    "    eqs = [eq.strip('\\n') for eq in eqs]\n",
    "\n",
    "# Parse dataset\n",
    "onehot, invalid, consts = parse_dataset(eqs)\n",
    "\n",
    "# Save parsed dataset\n",
    "with h5py.File(f'{datapath[:-4]}-parsed.h5', 'w') as f:\n",
    "    f.create_dataset('data', data=onehot)\n",
    "    f.create_dataset('invalid_indices', data=invalid)"
   ]
  },
  {
   "cell_type": "code",
   "execution_count": null,
   "metadata": {},
   "outputs": [],
   "source": [
    "a = [float(const) for const_list in consts for const in const_list]\n",
    "s = pd.Series(a)\n",
    "s.describe()"
   ]
  },
  {
   "cell_type": "code",
   "execution_count": 2,
   "metadata": {},
   "outputs": [
    {
     "ename": "ModuleNotFoundError",
     "evalue": "No module named 'model'",
     "output_type": "error",
     "traceback": [
      "\u001b[0;31m---------------------------------------------------------------------------\u001b[0m",
      "\u001b[0;31mModuleNotFoundError\u001b[0m                       Traceback (most recent call last)",
      "Cell \u001b[0;32mIn[2], line 2\u001b[0m\n\u001b[1;32m      1\u001b[0m \u001b[38;5;28;01mfrom\u001b[39;00m \u001b[38;5;21;01mimportlib\u001b[39;00m \u001b[38;5;28;01mimport\u001b[39;00m reload\n\u001b[0;32m----> 2\u001b[0m \u001b[38;5;28;01mfrom\u001b[39;00m \u001b[38;5;21;01mmodel\u001b[39;00m \u001b[38;5;28;01mimport\u001b[39;00m util\n\u001b[1;32m      3\u001b[0m reload(util)\n\u001b[1;32m      4\u001b[0m \u001b[38;5;28;01mfrom\u001b[39;00m \u001b[38;5;21;01mmodel\u001b[39;00m\u001b[38;5;21;01m.\u001b[39;00m\u001b[38;5;21;01mutil\u001b[39;00m \u001b[38;5;28;01mimport\u001b[39;00m plot_onehot\n",
      "\u001b[0;31mModuleNotFoundError\u001b[0m: No module named 'model'"
     ]
    }
   ],
   "source": [
    "from importlib import reload\n",
    "from model import util\n",
    "reload(util)\n",
    "from model.util import plot_onehot\n",
    "\n",
    "plot_onehot(onehot[3, ...], GCFG)"
   ]
  },
  {
   "cell_type": "markdown",
   "metadata": {},
   "source": [
    "# Create value dataset"
   ]
  },
  {
   "cell_type": "code",
   "execution_count": null,
   "metadata": {},
   "outputs": [],
   "source": [
    "import os\n",
    "import sys\n",
    "project_root = os.path.dirname(os.path.abspath(''))\n",
    "sys.path.insert(0, project_root)\n",
    "sys.path.insert(0, os.path.join(project_root, 'model'))\n",
    "sys.path.insert(0, os.path.join(project_root, 'dataset_generation'))"
   ]
  },
  {
   "cell_type": "code",
   "execution_count": 150,
   "metadata": {},
   "outputs": [],
   "source": [
    "from model.util import load_raw_parsed_data\n",
    "\n",
    "datapath = '/Users/luis/Desktop/Cranmer 2024/Workplace/smallMutations/similar-expressions/data'\n",
    "name = 'expr_240807_5'\n",
    "eqs, onehot = load_raw_parsed_data(datapath, name)"
   ]
  },
  {
   "cell_type": "code",
   "execution_count": 67,
   "metadata": {},
   "outputs": [
    {
     "data": {
      "text/plain": [
       "(93322,)"
      ]
     },
     "execution_count": 67,
     "metadata": {},
     "output_type": "execute_result"
    }
   ],
   "source": [
    "eqs.shape"
   ]
  },
  {
   "cell_type": "code",
   "execution_count": 68,
   "metadata": {},
   "outputs": [],
   "source": [
    "import sympy as sp\n",
    "\n",
    "MAX_ABS_VAL = 1e5\n",
    "\n",
    "x = np.linspace(-10, 10, 100)\n",
    "y = np.empty((len(eqs), len(x)))\n",
    "\n",
    "import multiprocess as mp\n",
    "\n",
    "def process_equation(args):\n",
    "    eq, x = args\n",
    "    expr = sp.sympify(eq)\n",
    "    return [expr.evalf(subs={sp.Symbol('x1'): val}) for val in x]\n",
    "\n",
    "\n",
    "with mp.Pool() as pool:\n",
    "    results = pool.map(process_equation, [(eq, x) for eq in eqs])\n",
    "\n",
    "y = np.array(results).astype(np.float32)\n",
    "\n",
    "invalid = np.any(np.isinf(y) | (np.abs(y) > MAX_ABS_VAL), axis=1)\n",
    "invalid.sum() / len(invalid)\n",
    "\n",
    "values = y[~invalid]\n"
   ]
  },
  {
   "cell_type": "code",
   "execution_count": 151,
   "metadata": {},
   "outputs": [],
   "source": [
    "import h5py\n",
    "\n",
    "# Save parsed dataset\n",
    "with h5py.File(f'{datapath}/{name}-values.h5', 'w') as f:\n",
    "    f.create_dataset('data', data=values)\n",
    "    f.create_dataset('invalid_indices', data=invalid)"
   ]
  },
  {
   "cell_type": "markdown",
   "metadata": {},
   "source": [
    "## Evaluated value distribution"
   ]
  },
  {
   "cell_type": "code",
   "execution_count": 123,
   "metadata": {},
   "outputs": [
    {
     "data": {
      "text/plain": [
       "count    8.412000e+06\n",
       "mean     1.089742e+02\n",
       "std      1.567060e+03\n",
       "min     -9.844108e+04\n",
       "25%     -5.092065e-01\n",
       "50%      4.271007e-01\n",
       "75%      2.682249e+00\n",
       "max      9.959591e+04\n",
       "dtype: float64"
      ]
     },
     "execution_count": 123,
     "metadata": {},
     "output_type": "execute_result"
    }
   ],
   "source": [
    "import pandas as pd\n",
    "\n",
    "a = pd.Series(y[~invalid].flatten())\n",
    "a.describe()"
   ]
  },
  {
   "cell_type": "code",
   "execution_count": 129,
   "metadata": {},
   "outputs": [
    {
     "data": {
      "image/png": "[encoded data removed]",
      "text/plain": [
       "<Figure size 640x480 with 1 Axes>"
      ]
     },
     "metadata": {},
     "output_type": "display_data"
    }
   ],
   "source": [
    "from matplotlib import pyplot as plt\n",
    "\n",
    "plt.hist(a.abs(), bins=100)\n",
    "plt.yscale('log')\n",
    "plt.xscale('log')"
   ]
  },
  {
   "cell_type": "code",
   "execution_count": 146,
   "metadata": {},
   "outputs": [
    {
     "data": {
      "text/plain": [
       "[<matplotlib.lines.Line2D at 0x1ff8c4e60>]"
      ]
     },
     "execution_count": 146,
     "metadata": {},
     "output_type": "execute_result"
    },
    {
     "data": {
      "image/png": "[encoded data removed]",
      "text/plain": [
       "<Figure size 640x480 with 1 Axes>"
      ]
     },
     "metadata": {},
     "output_type": "display_data"
    }
   ],
   "source": [
    "# Example function\n",
    "plt.plot(x, y[~invalid, :][15].T)"
   ]
  }
 ],
 "metadata": {
  "kernelspec": {
   "display_name": "small-mutations",
   "language": "python",
   "name": "python3"
  },
  "language_info": {
   "codemirror_mode": {
    "name": "ipython",
    "version": 3
   },
   "file_extension": ".py",
   "mimetype": "text/x-python",
   "name": "python",
   "nbconvert_exporter": "python",
   "pygments_lexer": "ipython3",
   "version": "3.12.4"
  }
 },
 "nbformat": 4,
 "nbformat_minor": 2
}
