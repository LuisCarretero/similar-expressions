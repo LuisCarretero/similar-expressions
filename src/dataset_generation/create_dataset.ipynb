{
 "cells": [
  {
   "cell_type": "markdown",
   "metadata": {},
   "source": [
    "# Create dataset of expressions for training similar-expressions model"
   ]
  },
  {
   "cell_type": "markdown",
   "metadata": {},
   "source": [
    "## Using custom generator (based on NeSymRes and DLSM code)\n",
    "\n",
    "Creates .txt file with string expressions."
   ]
  },
  {
   "cell_type": "code",
   "execution_count": 83,
   "metadata": {},
   "outputs": [],
   "source": [
    "from importlib import reload\n",
    "import utils\n",
    "import generator\n",
    "reload(utils)\n",
    "reload(generator)\n",
    "from generator import Generator\n",
    "from utils import create_generator\n",
    "import os\n",
    "import numpy as np\n",
    "np.random.seed(2)\n",
    "\n",
    "gen, params = create_generator('./data_settings.json')\n",
    "# gen.generate_equation(np.random, -1e3, 1e3, simplify=False, check_const_range=True)\n",
    "\n",
    "# Generate data\n",
    "N = int(1e5)\n",
    "expressions = [gen.generate_equation(np.random, -1, 1, simplify=False, check_const_range=True) for _ in range(N)]"
   ]
  },
  {
   "cell_type": "code",
   "execution_count": 84,
   "metadata": {},
   "outputs": [
    {
     "data": {
      "text/plain": [
       "['sin(0.7418164014816284)',\n",
       " 'exp(0.5811755657196045)',\n",
       " '((0.5323680639266968*x1)/x1)- x1',\n",
       " '(exp((-0.9104486703872681)+x1))+(-0.6661405563354492)',\n",
       " '(0.7553950548171997/0.92982017993927)/x1',\n",
       " 'x1+(x1/sin(x1))',\n",
       " '0.008991003036499023- x1',\n",
       " '(-0.27322161197662354)- (x1*0.02661740779876709)',\n",
       " 'sin(x1)/(-0.39094078540802)',\n",
       " 'exp(x1*exp(0.998916506767273))']"
      ]
     },
     "execution_count": 84,
     "metadata": {},
     "output_type": "execute_result"
    }
   ],
   "source": [
    "expressions[:10]"
   ]
  },
  {
   "cell_type": "code",
   "execution_count": 85,
   "metadata": {},
   "outputs": [],
   "source": [
    "datapath = '/Users/luis/Desktop/Cranmer 2024/Workplace/smallMutations/similar-expressions/data'\n",
    "\n",
    "# Filter out empty strings\n",
    "expressions = [expr for expr in expressions if expr]\n",
    "\n",
    "# Save\n",
    "output_file = os.path.join(datapath, 'expr_240811_1.txt')\n",
    "with open(output_file, 'w') as f:\n",
    "    for expr in expressions:\n",
    "        f.write(f\"{expr}\\n\")"
   ]
  },
  {
   "cell_type": "markdown",
   "metadata": {},
   "source": [
    "## Parse string to onehot representation"
   ]
  },
  {
   "cell_type": "markdown",
   "metadata": {
    "vscode": {
     "languageId": "julia"
    }
   },
   "source": [
    "### Whole dataset"
   ]
  },
  {
   "cell_type": "code",
   "execution_count": 86,
   "metadata": {},
   "outputs": [],
   "source": [
    "import pandas as pd\n",
    "import h5py\n",
    "from model.grammar import GCFG"
   ]
  },
  {
   "cell_type": "code",
   "execution_count": 87,
   "metadata": {},
   "outputs": [],
   "source": [
    "from importlib import reload\n",
    "import parsing\n",
    "reload(parsing)\n",
    "from parsing import parse_dataset\n",
    "\n",
    "# Load data\n",
    "datapath = r'/Users/luis/Desktop/Cranmer 2024/Workplace/smallMutations/similar-expressions/data/expr_240811_1.txt'\n",
    "with open(datapath, 'r') as f:\n",
    "    eqs = f.readlines()\n",
    "    eqs = [eq.strip('\\n') for eq in eqs]\n",
    "\n",
    "# Parse dataset\n",
    "syntax, invalid, consts = parse_dataset(eqs)\n",
    "\n",
    "# Save parsed dataset\n",
    "with h5py.File(f'{datapath[:-4]}-parsed.h5', 'w') as f:\n",
    "    f.create_dataset('data', data=syntax)\n",
    "    f.create_dataset('invalid_indices', data=invalid)"
   ]
  },
  {
   "cell_type": "markdown",
   "metadata": {},
   "source": [
    "## Create function value dataset"
   ]
  },
  {
   "cell_type": "code",
   "execution_count": 1,
   "metadata": {},
   "outputs": [],
   "source": [
    "import os\n",
    "import sys\n",
    "project_root = os.path.dirname(os.path.abspath(''))\n",
    "sys.path.insert(0, project_root)\n",
    "sys.path.insert(0, os.path.join(project_root, 'model'))\n",
    "sys.path.insert(0, os.path.join(project_root, 'dataset_generation'))"
   ]
  },
  {
   "cell_type": "code",
   "execution_count": 89,
   "metadata": {},
   "outputs": [],
   "source": [
    "from model.util import load_raw_parsed_data\n",
    "\n",
    "datapath = '/Users/luis/Desktop/Cranmer 2024/Workplace/smallMutations/similar-expressions/data'\n",
    "name = 'expr_240811_1'\n",
    "eqs, syntax = load_raw_parsed_data(datapath, name)"
   ]
  },
  {
   "cell_type": "code",
   "execution_count": 90,
   "metadata": {},
   "outputs": [],
   "source": [
    "import sympy as sp\n",
    "from sympy import oo, zoo, nan\n",
    "\n",
    "MAX_ABS_VAL = 1e5\n",
    "\n",
    "x = np.linspace(-10, 10, 100)\n",
    "y = np.empty((len(eqs), len(x)))\n",
    "\n",
    "import multiprocess as mp\n",
    "\n",
    "def process_equation(args):\n",
    "    eq, all_x = args\n",
    "\n",
    "    expr = sp.sympify(eq)\n",
    "    if expr.has(oo, -oo, zoo, nan):\n",
    "        return np.full(len(all_x), np.nan, dtype=np.float32)\n",
    "\n",
    "    try:\n",
    "        res = np.zeros(len(all_x), dtype=np.float32)\n",
    "        for i, x in enumerate(all_x):\n",
    "            value = expr.evalf(subs={sp.Symbol('x1'): x})\n",
    "            if abs(value) < np.finfo(np.float32).max:\n",
    "                res[i] = value\n",
    "            else:\n",
    "                return np.full(len(all_x), np.nan, dtype=np.float32)\n",
    "        return res\n",
    "    except TypeError:\n",
    "        return np.full(len(all_x), np.nan, dtype=np.float32)\n",
    "\n",
    "\n",
    "with mp.Pool() as pool:\n",
    "    results = pool.map(process_equation, [(eq, x) for eq in eqs])\n",
    "\n",
    "y = np.array(results).astype(np.float32)\n",
    "\n",
    "invalid = np.any(np.isinf(y) | (np.abs(y) > MAX_ABS_VAL) | np.isnan(y), axis=1)\n",
    "invalid.sum() / len(invalid)\n",
    "\n",
    "values = y[~invalid]"
   ]
  },
  {
   "cell_type": "code",
   "execution_count": 91,
   "metadata": {},
   "outputs": [],
   "source": [
    "import h5py\n",
    "\n",
    "# Save parsed dataset\n",
    "with h5py.File(f'{datapath}/{name}-values.h5', 'w') as f:\n",
    "    f.create_dataset('data', data=values)\n",
    "    f.create_dataset('invalid_mask', data=invalid)"
   ]
  },
  {
   "cell_type": "markdown",
   "metadata": {},
   "source": [
    "## Analyse syntax data"
   ]
  },
  {
   "cell_type": "code",
   "execution_count": 3,
   "metadata": {},
   "outputs": [],
   "source": [
    "from importlib import reload\n",
    "import util\n",
    "reload(util)\n",
    "from util import load_jl_dataset\n",
    "import pandas as pd\n",
    "import numpy as np\n",
    "\n",
    "datapath = '/Users/luis/Desktop/Cranmer 2024/Workplace/smallMutations/similar-expressions/data'\n",
    "# eqs, syntax, values = load_raw_parsed_value_data(datapath, 'expr_240810_1')\n",
    "\n",
    "syntax, values = load_jl_dataset(datapath, 'dataset_240816_3')"
   ]
  },
  {
   "cell_type": "code",
   "execution_count": 8,
   "metadata": {},
   "outputs": [
    {
     "name": "stdout",
     "output_type": "stream",
     "text": [
      "Number of unique rows: 34196\n",
      "Row: [5 7 8 8 8 8 8 8 8 8 8 8 8 8 8], Count: 5090\n",
      "Row: [4 7 8 8 8 8 8 8 8 8 8 8 8 8 8], Count: 4994\n",
      "Row: [3 7 7 8 8 8 8 8 8 8 8 8 8 8 8], Count: 1335\n",
      "Row: [2 7 7 8 8 8 8 8 8 8 8 8 8 8 8], Count: 1264\n",
      "Row: [0 7 7 8 8 8 8 8 8 8 8 8 8 8 8], Count: 1241\n",
      "Row: [1 7 7 8 8 8 8 8 8 8 8 8 8 8 8], Count: 1216\n",
      "Row: [4 5 7 8 8 8 8 8 8 8 8 8 8 8 8], Count: 880\n",
      "Row: [5 4 7 8 8 8 8 8 8 8 8 8 8 8 8], Count: 849\n",
      "Row: [4 4 7 8 8 8 8 8 8 8 8 8 8 8 8], Count: 824\n",
      "Row: [0 7 5 8 8 8 8 8 8 8 8 8 8 8 8], Count: 659\n"
     ]
    }
   ],
   "source": [
    "prod_idx = syntax[:, :, :-1].argmax(axis=-1)\n",
    "\n",
    "unique_rows, counts = np.unique(prod_idx, axis=0, return_counts=True)\n",
    "print(f\"Number of unique rows: {len(unique_rows)}\")\n",
    "res = sorted(zip(unique_rows, counts), key=lambda x: x[1], reverse=True)\n",
    "\n",
    "for row, count in res[:10]:\n",
    "    print(f\"Row: {row}, Count: {count}\")"
   ]
  },
  {
   "cell_type": "code",
   "execution_count": 52,
   "metadata": {},
   "outputs": [
    {
     "name": "stdout",
     "output_type": "stream",
     "text": [
      "0.5310274362564087 / x1\n",
      "0.1045372486114502 / x1\n",
      "0.22659552097320557 / x1\n",
      "0.7463392019271851 / x1\n",
      "0.03082895278930664 / x1\n"
     ]
    }
   ],
   "source": [
    "from util import logits_to_prods, prods_to_eq\n",
    "from grammar import GCFG\n",
    "import torch\n",
    "\n",
    "\n",
    "# Print 5 expressions with the same production\n",
    "n = 14\n",
    "for i in np.where(np.all(prod_idx == res[n][0], axis=1))[0][:5]:\n",
    "    prods = logits_to_prods(torch.tensor(syntax[i].squeeze()), GCFG)\n",
    "    eq = prods_to_eq(prods)\n",
    "    print(eq)\n",
    "    "
   ]
  },
  {
   "cell_type": "code",
   "execution_count": 415,
   "metadata": {},
   "outputs": [
    {
     "name": "stdout",
     "output_type": "stream",
     "text": [
      "0 \t sin( exp( exp( x1 ) ) )\n",
      "1 \t exp( exp( sin( x1 ) ) )\n",
      "2 \t sin( exp( sin( x1 ) ) )\n",
      "3 \t exp( exp( sin( [CONST] ) ) )\n",
      "4 \t sin( exp( sin( [CONST] ) ) )\n",
      "5 \t sin( exp( exp( [CONST] ) ) )\n",
      "6 \t sin( sin( exp( [CONST] ) ) )\n",
      "7 \t exp( sin( sin( [CONST] ) ) )\n",
      "8 \t sin( sin( exp( x1 ) ) )\n",
      "9 \t exp( exp( exp( [CONST] ) ) )\n",
      "10 \t sin( sin( sin( [CONST] ) ) )\n",
      "11 \t exp( sin( exp( x1 ) ) )\n",
      "12 \t sin( sin( sin( x1 ) ) )\n",
      "13 \t exp( sin( sin( x1 ) ) )\n",
      "14 \t exp( sin( exp( [CONST] ) ) )\n",
      "15 \t x1 / exp( sin( x1 ) )\n",
      "16 \t sin( sin( x1 ) ) + x1\n",
      "17 \t x1 + exp( sin( x1 ) )\n",
      "18 \t x1 * sin( sin( x1 ) )\n",
      "19 \t x1 * sin( exp( x1 ) )\n"
     ]
    }
   ],
   "source": [
    "# Print expressions from each unique production\n",
    "\n",
    "for n in range(20):\n",
    "    i = np.where(np.all(prod_idx == res[n][0], axis=1))[0][0]\n",
    "    prods = logits_to_prods(torch.tensor(syntax[i].squeeze()), GCFG, insert_const=False)\n",
    "    eq = prods_to_eq(prods)\n",
    "    print(n, '\\t', eq)"
   ]
  },
  {
   "cell_type": "code",
   "execution_count": 10,
   "metadata": {},
   "outputs": [
    {
     "data": {
      "image/png": "[encoded data removed]",
      "text/plain": [
       "<Figure size 1200x500 with 1 Axes>"
      ]
     },
     "metadata": {},
     "output_type": "display_data"
    }
   ],
   "source": [
    "from matplotlib import pyplot as plt\n",
    "\n",
    "counts_sorted = np.sort(counts)[::-1]\n",
    "\n",
    "fig, ax = plt.subplots(figsize=(12, 5))\n",
    "plt.plot(counts_sorted)\n",
    "# ax2 = plt.twinx()\n",
    "# ax2.plot(pd.Series(counts_sorted).diff().rolling(window=2).mean(), color='orange')\n",
    "# ax2.set_ylabel('Count diff')\n",
    "\n",
    "ax.set_xlabel('Expression idx (sorted by count)')\n",
    "ax.set_ylabel('Count')\n",
    "plt.xlim(0, len(counts_sorted))\n",
    "# plt.xlim(1000, len(res))\n",
    "# ax.set_ylim(0, 50)\n",
    "ax.grid(axis='x')\n",
    "plt.yscale('log')\n",
    "plt.title('Skeleton counts (unique production sequences): Weird kinks in distribution?')\n",
    "plt.show()"
   ]
  },
  {
   "cell_type": "code",
   "execution_count": 24,
   "metadata": {},
   "outputs": [
    {
     "data": {
      "text/plain": [
       "Nothing -> None      69840\n",
       "S -> T               24777\n",
       "T -> '[CONST]'       10059\n",
       "T -> 'x1'             9974\n",
       "T -> '(' S ')'        7767\n",
       "T -> 'sin(' S ')'     4181\n",
       "T -> 'exp(' S ')'     3449\n",
       "S -> S '-' T          2762\n",
       "S -> S '+' T          2720\n",
       "S -> S '/' T          2638\n",
       "S -> S '*' T          2533\n",
       "Name: count, dtype: int64"
      ]
     },
     "execution_count": 24,
     "metadata": {},
     "output_type": "execute_result"
    }
   ],
   "source": [
    "prod_counts = pd.Series(syntax[:, :, :-1].argmax(axis=-1).flatten()).value_counts()\n",
    "labels = {i: str(prod) for i, prod in enumerate(GCFG.productions())}\n",
    "prod_counts.index = prod_counts.index.map(labels)\n",
    "prod_counts"
   ]
  },
  {
   "cell_type": "code",
   "execution_count": 106,
   "metadata": {},
   "outputs": [
    {
     "data": {
      "text/plain": [
       "{0: \"S -> S '+' T\",\n",
       " 1: \"S -> S '-' T\",\n",
       " 2: \"S -> S '*' T\",\n",
       " 3: \"S -> S '/' T\",\n",
       " 4: 'S -> T',\n",
       " 5: \"T -> '(' S ')'\",\n",
       " 6: \"T -> 'sin(' S ')'\",\n",
       " 7: \"T -> 'exp(' S ')'\",\n",
       " 8: \"T -> 'x1'\",\n",
       " 9: \"T -> '[CONST]'\",\n",
       " 10: 'Nothing -> None'}"
      ]
     },
     "execution_count": 106,
     "metadata": {},
     "output_type": "execute_result"
    }
   ],
   "source": [
    "labels"
   ]
  },
  {
   "cell_type": "code",
   "execution_count": 109,
   "metadata": {},
   "outputs": [
    {
     "name": "stdout",
     "output_type": "stream",
     "text": [
      "Operator counts:\n"
     ]
    },
    {
     "data": {
      "text/plain": [
       "1    33275\n",
       "2    31591\n",
       "3    28652\n",
       "Name: count, dtype: int64"
      ]
     },
     "execution_count": 109,
     "metadata": {},
     "output_type": "execute_result"
    }
   ],
   "source": [
    "# Count operators per expression\n",
    "\n",
    "op_indices = [0, 1, 2, 3, 6, 7] #  [i for i, label in labels.items() for op_str in ['+', '-', '*', '/', 'sin', 'exp'] if op_str in label]\n",
    "is_op = np.zeros(len(labels), dtype=bool)\n",
    "is_op[op_indices] = 1\n",
    "\n",
    "op_counts = np.sum(is_op * syntax[:, :, :-1], axis=(1, 2)).astype(int)\n",
    "print('Operator counts:')\n",
    "pd.Series(op_counts).value_counts()"
   ]
  },
  {
   "cell_type": "code",
   "execution_count": 108,
   "metadata": {},
   "outputs": [
    {
     "name": "stdout",
     "output_type": "stream",
     "text": [
      "Variable x1 counts:\n"
     ]
    },
    {
     "data": {
      "text/plain": [
       "1    41982\n",
       "0    25767\n",
       "2    20586\n",
       "3     4725\n",
       "4      458\n",
       "Name: count, dtype: int64"
      ]
     },
     "execution_count": 108,
     "metadata": {},
     "output_type": "execute_result"
    }
   ],
   "source": [
    "# Count variables per expression\n",
    "var_indices = [8]\n",
    "is_var = np.zeros(len(labels), dtype=bool)\n",
    "is_var[var_indices] = 1\n",
    "var_counts = np.sum(is_var * syntax[:, :, :-1], axis=(1, 2)).astype(int)\n",
    "print('Variable x1 counts:')\n",
    "pd.Series(var_counts).value_counts()"
   ]
  },
  {
   "cell_type": "markdown",
   "metadata": {},
   "source": [
    "## Analyse function value data\n",
    "\n",
    "Use this to decide on value transformation"
   ]
  },
  {
   "cell_type": "code",
   "execution_count": 12,
   "metadata": {},
   "outputs": [],
   "source": [
    "from util import load_jl_dataset\n",
    "import pandas as pd\n",
    "import numpy as np\n",
    "\n",
    "datapath = '/Users/luis/Desktop/Cranmer 2024/Workplace/smallMutations/similar-expressions/data'\n",
    "# eqs, syntax, values = load_raw_parsed_value_data(datapath, 'expr_240810_1')\n",
    "\n",
    "syntax, values = load_jl_dataset(datapath, 'dataset_240816_3')\n",
    "x = np.linspace(-10, 10, 100)"
   ]
  },
  {
   "cell_type": "code",
   "execution_count": 14,
   "metadata": {},
   "outputs": [
    {
     "data": {
      "image/png": "[encoded data removed]",
      "text/plain": [
       "<Figure size 640x480 with 1 Axes>"
      ]
     },
     "metadata": {},
     "output_type": "display_data"
    },
    {
     "data": {
      "text/plain": [
       "count    8.877900e+06\n",
       "mean     1.308158e+02\n",
       "std      1.766104e+03\n",
       "min     -9.900358e+04\n",
       "25%     -7.158225e-01\n",
       "50%      2.107085e-01\n",
       "75%      2.300807e+00\n",
       "max      9.996652e+04\n",
       "dtype: float64"
      ]
     },
     "execution_count": 14,
     "metadata": {},
     "output_type": "execute_result"
    }
   ],
   "source": [
    "from matplotlib import pyplot as plt\n",
    "\n",
    "a = pd.Series(values.flatten())\n",
    "plt.hist(a.abs(), bins=100)\n",
    "\n",
    "plt.title('Value distribution')\n",
    "plt.yscale('log')\n",
    "plt.xscale('log')\n",
    "plt.ylabel('Count')\n",
    "plt.xlabel('Absolute value')\n",
    "plt.show()\n",
    "\n",
    "a.describe()"
   ]
  },
  {
   "cell_type": "code",
   "execution_count": 16,
   "metadata": {},
   "outputs": [
    {
     "data": {
      "text/plain": [
       "[<matplotlib.lines.Line2D at 0x33c125a00>]"
      ]
     },
     "execution_count": 16,
     "metadata": {},
     "output_type": "execute_result"
    },
    {
     "data": {
      "image/png": "[encoded data removed]",
      "text/plain": [
       "<Figure size 640x480 with 1 Axes>"
      ]
     },
     "metadata": {},
     "output_type": "display_data"
    }
   ],
   "source": [
    "# Example function\n",
    "plt.plot(x, values[0, :].T)"
   ]
  },
  {
   "cell_type": "code",
   "execution_count": 24,
   "metadata": {},
   "outputs": [
    {
     "data": {
      "text/plain": [
       "tensor(12.2061)"
      ]
     },
     "execution_count": 24,
     "metadata": {},
     "output_type": "execute_result"
    }
   ],
   "source": [
    "torch.arcsinh(torch.tensor(1e5))"
   ]
  },
  {
   "cell_type": "code",
   "execution_count": 20,
   "metadata": {},
   "outputs": [],
   "source": [
    "import torch\n",
    "\n",
    "def value_transform(x):\n",
    "    return torch.arcsinh(x)/10  # Example transformation\n",
    "\n",
    "y_transformed = value_transform(torch.tensor(values)).detach().numpy()"
   ]
  },
  {
   "cell_type": "code",
   "execution_count": 21,
   "metadata": {},
   "outputs": [
    {
     "data": {
      "image/png": "[encoded data removed]",
      "text/plain": [
       "<Figure size 640x480 with 1 Axes>"
      ]
     },
     "metadata": {},
     "output_type": "display_data"
    },
    {
     "data": {
      "text/plain": [
       "count    8.877900e+06\n",
       "mean     5.200277e-02\n",
       "std      2.550869e-01\n",
       "min     -1.219606e+00\n",
       "25%     -6.655807e-02\n",
       "50%      2.091797e-02\n",
       "75%      1.570600e-01\n",
       "max      1.220574e+00\n",
       "dtype: float64"
      ]
     },
     "execution_count": 21,
     "metadata": {},
     "output_type": "execute_result"
    }
   ],
   "source": [
    "from matplotlib import pyplot as plt\n",
    "\n",
    "a = pd.Series(y_transformed.flatten())\n",
    "plt.hist(a, bins=100)\n",
    "\n",
    "plt.title('Value distribution')\n",
    "plt.yscale('log')\n",
    "plt.ylabel('Count')\n",
    "plt.xlabel('Value')\n",
    "plt.show()\n",
    "\n",
    "a.describe()"
   ]
  },
  {
   "cell_type": "code",
   "execution_count": 22,
   "metadata": {},
   "outputs": [
    {
     "data": {
      "image/png": "[encoded data removed]",
      "text/plain": [
       "<Figure size 640x480 with 1 Axes>"
      ]
     },
     "metadata": {},
     "output_type": "display_data"
    }
   ],
   "source": [
    "from matplotlib import pyplot as plt\n",
    "\n",
    "plt.plot(x, y_transformed[:10, :].T)\n",
    "plt.show()"
   ]
  },
  {
   "cell_type": "markdown",
   "metadata": {},
   "source": [
    "## Analyse priors: syntax, constant function value"
   ]
  },
  {
   "cell_type": "code",
   "execution_count": 33,
   "metadata": {},
   "outputs": [
    {
     "name": "stdout",
     "output_type": "stream",
     "text": [
      "Nothing -> None      34998\n",
      "S -> T               31494\n",
      "T -> '(' S ')'       12524\n",
      "T -> 'x1'            12087\n",
      "T -> '[CONST]'       11833\n",
      "T -> 'sin(' S ')'     5643\n",
      "T -> 'exp(' S ')'     4749\n",
      "S -> S '-' T          3923\n",
      "S -> S '+' T          3854\n",
      "S -> S '/' T          3827\n",
      "S -> S '*' T          3738\n",
      "Name: count, dtype: int64\n",
      "\n",
      "cross_entropy_prior = np.float64(2.0447648982274034)\n",
      "mse_prior_consts = np.float64(0.0307035554081931)\n",
      "mse_prior_values = np.float32(0.14959595)\n"
     ]
    }
   ],
   "source": [
    "from util import load_raw_parsed_value_data\n",
    "import pandas as pd\n",
    "import numpy as np\n",
    "from grammar import GCFG\n",
    "\n",
    "datapath = '/Users/luis/Desktop/Cranmer 2024/Workplace/smallMutations/similar-expressions/data'\n",
    "eqs, syntax, values = load_raw_parsed_value_data(datapath, 'expr_240809_1')\n",
    "\n",
    "def value_transform(x):\n",
    "    eps = 1e-10\n",
    "    return torch.log(torch.abs(x) + eps)/10  # Example transformation\n",
    "\n",
    "\n",
    "# Calculate production counts\n",
    "prod_counts = pd.Series(syntax[:, :, :-1].argmax(axis=-1).flatten()).value_counts()\n",
    "labels = {i: str(prod) for i, prod in enumerate(GCFG.productions())}\n",
    "prod_counts.index = prod_counts.index.map(labels)\n",
    "print(prod_counts)\n",
    "\n",
    "# Calculate cross entropy prior for syntax\n",
    "p = prod_counts / prod_counts.sum()\n",
    "cross_entropy_prior = -np.sum(p * np.log(p))\n",
    "print(f'\\n{cross_entropy_prior = }')\n",
    "\n",
    "# Calculate MSE prior for constants\n",
    "consts = syntax[:, :, -1].flatten()\n",
    "mse_prior_consts = consts.var()\n",
    "print(f'{mse_prior_consts = }')\n",
    "\n",
    "# Calculate MSE prior for values\n",
    "values_transformed = value_transform(torch.tensor(values)).flatten().detach().numpy()\n",
    "mse_prior_values = values_transformed.var()\n",
    "print(f'{mse_prior_values = }')"
   ]
  },
  {
   "cell_type": "markdown",
   "metadata": {},
   "source": [
    "## Julia implementation debugging"
   ]
  },
  {
   "cell_type": "code",
   "execution_count": 10,
   "metadata": {},
   "outputs": [],
   "source": [
    "import numpy as np"
   ]
  },
  {
   "cell_type": "code",
   "execution_count": 7,
   "metadata": {},
   "outputs": [
    {
     "data": {
      "text/plain": [
       "[[0, 0, 0, 0, 0, 0, 0, 0, 0],\n",
       " [1, 2, 6, 22, 90, 394, 1806, 8558],\n",
       " [1, 4, 16, 68, 304, 1412, 6752],\n",
       " [1, 6, 30, 146, 714, 3534],\n",
       " [1, 8, 48, 264, 1408],\n",
       " [1, 10, 70, 430],\n",
       " [1, 12, 96],\n",
       " [1, 14],\n",
       " [1]]"
      ]
     },
     "execution_count": 7,
     "metadata": {},
     "output_type": "execute_result"
    }
   ],
   "source": [
    "# generation parameters. FIXME?\n",
    "nl = 1  # self.n_leaves\n",
    "p1 = 1  # len(self.una_ops)\n",
    "p2 = 1  # len(self.bin_ops)\n",
    "\n",
    "\n",
    "def generate_ubi_dist(max_ops):\n",
    "    \"\"\"\n",
    "    `max_ops`: maximum number of operators\n",
    "    Enumerate the number of possible unary-binary trees that can be generated from empty nodes.\n",
    "    D[e][n] represents the number of different binary trees with n nodes that\n",
    "    can be generated from e empty nodes, using the following recursion:\n",
    "        D(0, n) = 0\n",
    "        D(e, 0) = L ** e\n",
    "        D(e, n) = L * D(e - 1, n) + p_1 * D(e, n - 1) + p_2 * D(e + 1, n - 1)\n",
    "    \"\"\"\n",
    "    # enumerate possible trees\n",
    "    # first generate the tranposed version of D, then transpose it\n",
    "    D = []\n",
    "    D.append([0] + ([nl ** i for i in range(1, 2 * max_ops + 1)]))\n",
    "    for n in range(1, 2 * max_ops + 1):  # number of operators\n",
    "        s = [0]\n",
    "        for e in range(1, 2 * max_ops - n + 1):  # number of empty nodes\n",
    "            s.append(\n",
    "                nl * s[e - 1]\n",
    "                + p1 * D[n - 1][e]\n",
    "                + p2 * D[n - 1][e + 1]\n",
    "            )\n",
    "        D.append(s)\n",
    "    assert all(len(D[i]) >= len(D[i + 1]) for i in range(len(D) - 1))\n",
    "    D = [\n",
    "        [D[j][i] for j in range(len(D)) if i < len(D[j])]\n",
    "        for i in range(max(len(x) for x in D))\n",
    "    ]\n",
    "    return D\n",
    "\n",
    "ubi_dist = generate_ubi_dist(4)\n",
    "ubi_dist"
   ]
  },
  {
   "cell_type": "code",
   "execution_count": 31,
   "metadata": {},
   "outputs": [
    {
     "data": {
      "text/plain": [
       "(0, 2)"
      ]
     },
     "execution_count": 31,
     "metadata": {},
     "output_type": "execute_result"
    }
   ],
   "source": [
    "def sample_next_pos_ubi(nb_empty, nb_ops, rng):\n",
    "    \"\"\"\n",
    "    Sample the position of the next node (unary-binary case).\n",
    "    Sample a position in {0, ..., `nb_empty` - 1}, along with an arity.\n",
    "    \"\"\"\n",
    "    assert nb_empty > 0\n",
    "    assert nb_ops > 0\n",
    "    probs = []\n",
    "    for i in range(nb_empty):\n",
    "        probs.append(\n",
    "            (nl ** i) * p1 * ubi_dist[nb_empty - i][nb_ops - 1]\n",
    "        )\n",
    "    for i in range(nb_empty):\n",
    "        probs.append(\n",
    "            (nl ** i) * p2 * ubi_dist[nb_empty - i + 1][nb_ops - 1]\n",
    "        )\n",
    "    probs = [p / ubi_dist[nb_empty][nb_ops] for p in probs]\n",
    "    probs = np.array(probs, dtype=np.float64)\n",
    "    e = rng.choice(2 * nb_empty, p=probs)\n",
    "    arity = 1 if e < nb_empty else 2\n",
    "    e = e % nb_empty\n",
    "    return e, arity\n",
    "\n",
    "sample_next_pos_ubi(1, 4, np.random)"
   ]
  },
  {
   "cell_type": "code",
   "execution_count": null,
   "metadata": {},
   "outputs": [],
   "source": []
  }
 ],
 "metadata": {
  "kernelspec": {
   "display_name": "small-mutations",
   "language": "python",
   "name": "python3"
  },
  "language_info": {
   "codemirror_mode": {
    "name": "ipython",
    "version": 3
   },
   "file_extension": ".py",
   "mimetype": "text/x-python",
   "name": "python",
   "nbconvert_exporter": "python",
   "pygments_lexer": "ipython3",
   "version": "3.12.4"
  }
 },
 "nbformat": 4,
 "nbformat_minor": 2
}
