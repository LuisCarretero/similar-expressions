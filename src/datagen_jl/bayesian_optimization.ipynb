{
 "cells": [
  {
   "cell_type": "markdown",
   "id": "5fc6c9bf",
   "metadata": {},
   "source": [
    "### Bayesian Optimization on DynamicExpressions\n"
   ]
  },
  {
   "cell_type": "markdown",
   "id": "49d468d9",
   "metadata": {},
   "source": [
    "Import necessary packages"
   ]
  },
  {
   "cell_type": "code",
   "execution_count": 19,
   "id": "dbb9c0b3",
   "metadata": {},
   "outputs": [],
   "source": [
    "import juliapkg\n",
    "import juliacall\n",
    "import numpy as np"
   ]
  },
  {
   "cell_type": "markdown",
   "id": "8d65a71a",
   "metadata": {},
   "source": [
    "Install Julia packages"
   ]
  },
  {
   "cell_type": "code",
   "execution_count": 20,
   "id": "f949bd92",
   "metadata": {},
   "outputs": [],
   "source": [
    "try:\n",
    "    from juliacall import Main as jl\n",
    "except:\n",
    "    juliapkg.require_julia(\"=1.10.4\")\n",
    "    juliapkg.add(\n",
    "        \"Optim\",\n",
    "        \"429524aa-4258-5aef-a3af-852621145aeb\",\n",
    "        version=\"=1.9.4\",\n",
    "    )\n",
    "    juliapkg.add(\n",
    "        \"DynamicExpressions\",\n",
    "        \"a40a106e-89c9-4ca8-8020-a735e8728b6b\",\n",
    "        version=\"=0.18.5\",\n",
    "    )\n",
    "    juliapkg.resolve()\n",
    "\n",
    "from juliacall import Main as jl"
   ]
  },
  {
   "cell_type": "markdown",
   "id": "412e7279",
   "metadata": {},
   "source": [
    "Load main expression package"
   ]
  },
  {
   "cell_type": "code",
   "execution_count": 21,
   "id": "dab7b7ae",
   "metadata": {},
   "outputs": [],
   "source": [
    "%%julia\n",
    "using DynamicExpressions"
   ]
  },
  {
   "cell_type": "markdown",
   "id": "7b8294db",
   "metadata": {},
   "source": [
    "> **NOTE:**\n",
    ">\n",
    "> Here, we used the `%%julia` magic command. Normally you would wrap this with a `jl.seval(\"\"\" ... \"\"\")` call.\n",
    "\n",
    "Load dependency for constant optimization"
   ]
  },
  {
   "cell_type": "code",
   "execution_count": 22,
   "id": "7b65edb8",
   "metadata": {},
   "outputs": [],
   "source": [
    "%%julia\n",
    "using Optim: Optim"
   ]
  },
  {
   "cell_type": "markdown",
   "id": "7efa1492",
   "metadata": {},
   "source": [
    "Define a function that creates a single node from the node type and payload"
   ]
  },
  {
   "cell_type": "code",
   "execution_count": 45,
   "id": "49b60e0e",
   "metadata": {},
   "outputs": [
    {
     "data": {
      "text/plain": [
       "create_node (generic function with 1 method)"
      ]
     },
     "execution_count": 45,
     "metadata": {},
     "output_type": "execute_result"
    }
   ],
   "source": [
    "%%julia\n",
    "\n",
    "function create_node((node_type, payload), operators::OperatorEnum)\n",
    "    if node_type == \"constant\"\n",
    "        return Node{Float64}(; val=one(Float64))\n",
    "    elseif node_type == \"feature\"\n",
    "        return Node{Float64}(; feature=payload)\n",
    "    else\n",
    "        n = Node{Float64}()\n",
    "        degree = node_type == \"unary\" ? 1 : 2\n",
    "        n.degree = degree\n",
    "        if degree == 1\n",
    "            @assert(\n",
    "                payload in eachindex(operators.unaops),\n",
    "                \"Could not find unary operator with index $payload\"\n",
    "            )\n",
    "        else\n",
    "            @assert(\n",
    "                payload in eachindex(operators.binops),\n",
    "                \"Could not find binary operator with index $payload\"\n",
    "            )\n",
    "        end\n",
    "        n.op = payload\n",
    "        return n\n",
    "    end\n",
    "end\n"
   ]
  },
  {
   "cell_type": "markdown",
   "id": "f7f4df9b",
   "metadata": {},
   "source": [
    "Define a function that generates the full tree from a list of arbitrary nodes.\n",
    "This should work even if the list of nodes is invalid."
   ]
  },
  {
   "cell_type": "code",
   "execution_count": 46,
   "id": "e53be900",
   "metadata": {},
   "outputs": [
    {
     "data": {
      "text/plain": [
       "_create_tree! (generic function with 2 methods)"
      ]
     },
     "execution_count": 46,
     "metadata": {},
     "output_type": "execute_result"
    }
   ],
   "source": [
    "%%julia\n",
    "\n",
    "function create_tree(nodes::AbstractVector{Tuple{String,Int}}, operators::OperatorEnum)::Node\n",
    "    _create_tree!(copy(nodes), operators)\n",
    "end\n",
    "\n",
    "function _create_tree!(nodes::AbstractVector{Tuple{String,Int}}, operators::OperatorEnum)::Node\n",
    "    if isempty(nodes)\n",
    "        # Fallback is to simply return 1.0\n",
    "        return create_node((\"constant\", 0), operators)\n",
    "    end\n",
    "    new_root = create_node(popfirst!(nodes), operators)\n",
    "    if new_root.degree == 0\n",
    "        # Nothing to do\n",
    "    elseif new_root.degree == 1\n",
    "        new_root.l = _create_tree!(nodes, operators)\n",
    "    elseif new_root.degree == 2\n",
    "        new_root.l = _create_tree!(nodes, operators)\n",
    "        new_root.r = _create_tree!(nodes, operators)\n",
    "    else\n",
    "        error()\n",
    "    end\n",
    "    return new_root\n",
    "end\n"
   ]
  },
  {
   "cell_type": "markdown",
   "id": "e3e1f463",
   "metadata": {},
   "source": [
    "Define a function that returns the loss for a given tree"
   ]
  },
  {
   "cell_type": "code",
   "execution_count": 68,
   "id": "1a5bfd03",
   "metadata": {},
   "outputs": [
    {
     "data": {
      "text/plain": [
       "loss (generic function with 2 methods)"
      ]
     },
     "execution_count": 68,
     "metadata": {},
     "output_type": "execute_result"
    }
   ],
   "source": [
    "%%julia\n",
    "\n",
    "function loss(operators::OperatorEnum, X::Matrix{Float64}, y::Vector{Float64})\n",
    "    let X_t = X'\n",
    "        function (tree)\n",
    "            y_predicted = first(eval_tree_array(tree, X_t, operators))\n",
    "            return sum(i -> abs2(y[i] - y_predicted[i]), eachindex(y, y_predicted))\n",
    "        end\n",
    "    end\n",
    "end\n"
   ]
  },
  {
   "cell_type": "markdown",
   "id": "9651599e",
   "metadata": {},
   "source": [
    "Define a function that wraps `create_tree` with `loss`,\n",
    "so we can just pass in our list of nodes, dataset, operators,\n",
    "and get a result back."
   ]
  },
  {
   "cell_type": "code",
   "execution_count": 69,
   "id": "695d49ae",
   "metadata": {},
   "outputs": [
    {
     "data": {
      "text/plain": [
       "evaluate (generic function with 3 methods)"
      ]
     },
     "execution_count": 69,
     "metadata": {},
     "output_type": "execute_result"
    }
   ],
   "source": [
    "%%julia\n",
    "\n",
    "function evaluate(nodes::AbstractVector{Tuple{String,Int}}, operators::OperatorEnum, X::AbstractMatrix{Float64}, y::AbstractVector{Float64})\n",
    "    tree = create_tree(nodes, operators)\n",
    "    l = loss(operators, X, y)\n",
    "    if !has_constants(tree)\n",
    "        # Nothing to optimize\n",
    "        return (l(tree), tree)\n",
    "    end\n",
    "    res = Optim.optimize(l, tree, Optim.BFGS())\n",
    "    return (res.minimum, res.minimizer)\n",
    "end\n"
   ]
  },
  {
   "cell_type": "markdown",
   "id": "1bda75ee",
   "metadata": {},
   "source": [
    "Define the space of possibilities we can sample from"
   ]
  },
  {
   "cell_type": "code",
   "execution_count": 70,
   "id": "073bbce6",
   "metadata": {},
   "outputs": [
    {
     "data": {
      "text/plain": [
       "possibilities (generic function with 1 method)"
      ]
     },
     "execution_count": 70,
     "metadata": {},
     "output_type": "execute_result"
    }
   ],
   "source": [
    "%%julia\n",
    "\n",
    "function possibilities(n_features, operators::OperatorEnum)\n",
    "    possible_nodes = [\n",
    "        (\"binary\", i) for i in eachindex(operators.binops)\n",
    "    ]\n",
    "    append!(possible_nodes, [\n",
    "        (\"unary\", j) for j in eachindex(operators.unaops)\n",
    "    ])\n",
    "    append!(possible_nodes, [\n",
    "        (\"feature\", k) for k in 1:n_features\n",
    "    ])\n",
    "    append!(possible_nodes, [(\"constant\", 0)])\n",
    "    return possible_nodes\n",
    "end\n"
   ]
  },
  {
   "cell_type": "markdown",
   "id": "7a685a6f",
   "metadata": {},
   "source": [
    "Now, let's get this set in Python:\n"
   ]
  },
  {
   "cell_type": "code",
   "execution_count": 71,
   "id": "6e7a493a",
   "metadata": {},
   "outputs": [
    {
     "data": {
      "text/plain": [
       "9-element Vector{Tuple{String, Int64}}:\n",
       " (\"binary\", 1)\n",
       " (\"binary\", 2)\n",
       " (\"binary\", 3)\n",
       " (\"unary\", 1)\n",
       " (\"unary\", 2)\n",
       " (\"feature\", 1)\n",
       " (\"feature\", 2)\n",
       " (\"feature\", 3)\n",
       " (\"constant\", 0)"
      ]
     },
     "execution_count": 71,
     "metadata": {},
     "output_type": "execute_result"
    }
   ],
   "source": [
    "operators = jl.seval(\"OperatorEnum(binary_operators=(+, -, *), unary_operators=(sin, exp))\")\n",
    "num_features = 3\n",
    "jl.possibilities(num_features, operators)"
   ]
  },
  {
   "cell_type": "markdown",
   "id": "473e8831",
   "metadata": {},
   "source": [
    "This is a Julia array. But we can convert it to a numpy array too:"
   ]
  },
  {
   "cell_type": "code",
   "execution_count": 72,
   "id": "619bdab8",
   "metadata": {},
   "outputs": [
    {
     "data": {
      "text/plain": [
       "array([('binary', 1), ('binary', 2), ('binary', 3), ('unary', 1),\n",
       "       ('unary', 2), ('feature', 1), ('feature', 2), ('feature', 3),\n",
       "       ('constant', 0)], dtype=object)"
      ]
     },
     "execution_count": 72,
     "metadata": {},
     "output_type": "execute_result"
    }
   ],
   "source": [
    "np.array(jl.possibilities(num_features, operators))"
   ]
  },
  {
   "cell_type": "markdown",
   "id": "22252b66",
   "metadata": {},
   "source": [
    "Which means we can sample this!"
   ]
  },
  {
   "cell_type": "code",
   "execution_count": 73,
   "id": "a0e982ce",
   "metadata": {},
   "outputs": [
    {
     "data": {
      "text/plain": [
       "array([('feature', 3), ('unary', 2), ('constant', 0), ('unary', 2),\n",
       "       ('binary', 1), ('feature', 1), ('unary', 1), ('feature', 2),\n",
       "       ('binary', 2), ('constant', 0), ('unary', 1), ('feature', 1),\n",
       "       ('feature', 3), ('unary', 1), ('feature', 3), ('feature', 2),\n",
       "       ('binary', 1), ('binary', 3), ('binary', 1), ('feature', 2),\n",
       "       ('unary', 1), ('feature', 1), ('unary', 1), ('constant', 0),\n",
       "       ('binary', 1), ('feature', 2), ('binary', 3), ('feature', 2),\n",
       "       ('feature', 2), ('binary', 3)], dtype=object)"
      ]
     },
     "execution_count": 73,
     "metadata": {},
     "output_type": "execute_result"
    }
   ],
   "source": [
    "possibilities = np.array(jl.possibilities(num_features, operators))\n",
    "max_nodes = 30\n",
    "nodes = np.random.choice(possibilities, max_nodes)\n",
    "\n",
    "nodes"
   ]
  },
  {
   "cell_type": "markdown",
   "id": "c140282c",
   "metadata": {},
   "source": [
    "Now, let's convert this into a tree and evaluate it. Re-run this cell to get new results:\n"
   ]
  },
  {
   "cell_type": "code",
   "execution_count": 138,
   "id": "f0b17f62",
   "metadata": {},
   "outputs": [
    {
     "data": {
      "text/plain": [
       "(120.63556100144872,\n",
       " Julia: sin(sin((sin(-1.5071308401669326) - (exp(x2 + -43.92876236124431) + ((x1 - x2) - exp(sin((exp(26.456843581641678) + x1) + (x2 + x2)))))) + exp(sin(x2 - x2)))))"
      ]
     },
     "execution_count": 138,
     "metadata": {},
     "output_type": "execute_result"
    }
   ],
   "source": [
    "\n",
    "# Data:\n",
    "X = np.random.randn(100, num_features)\n",
    "# True relation we wish to predict:\n",
    "y = np.cos(X[:, 0] * 2.1 - 0.5) + X[:, 1]\n",
    "\n",
    "# Sample possibilities:\n",
    "nodes = np.random.choice(possibilities, max_nodes)\n",
    "\n",
    "# Evaluate, via also optimizing the constants in the tree:\n",
    "(loss, tree) = jl.evaluate(\n",
    "    juliacall.convert(jl.seval(\"Vector{Tuple{String, Int}}\"), nodes),\n",
    "    operators,\n",
    "    juliacall.convert(jl.Matrix, X),\n",
    "    juliacall.convert(jl.Vector, y)\n",
    ")\n",
    "loss, tree"
   ]
  },
  {
   "cell_type": "code",
   "execution_count": null,
   "id": "d2f214ac",
   "metadata": {},
   "outputs": [],
   "source": []
  }
 ],
 "metadata": {
  "jupytext": {
   "cell_metadata_filter": "-all",
   "main_language": "python",
   "notebook_metadata_filter": "-all"
  },
  "kernelspec": {
   "display_name": ".venv",
   "language": "python",
   "name": "python3"
  },
  "language_info": {
   "codemirror_mode": {
    "name": "ipython",
    "version": 3
   },
   "file_extension": ".py",
   "mimetype": "text/x-python",
   "name": "python",
   "nbconvert_exporter": "python",
   "pygments_lexer": "ipython3",
   "version": "3.12.3"
  }
 },
 "nbformat": 4,
 "nbformat_minor": 5
}
