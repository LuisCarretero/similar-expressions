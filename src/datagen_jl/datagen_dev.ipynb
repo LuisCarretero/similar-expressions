{
 "cells": [
  {
   "cell_type": "markdown",
   "metadata": {},
   "source": [
    "## Data generation\n",
    "\n",
    "- Parameters\n",
    "- Prefix list (const placeholder)\n",
    "- Prefix list (with consts)\n",
    "- DE.jl expr tree; Infix str (for debug)?\n",
    "\n",
    "Julia structuring: \n",
    "- No OOP\n",
    "- Throw all functions into a module?\n",
    "-> create functions here for now\n",
    "- Try to use off-the-shelf DE.jl functions"
   ]
  },
  {
   "cell_type": "code",
   "execution_count": 3,
   "metadata": {},
   "outputs": [],
   "source": [
    "using DynamicExpressions: OperatorEnum"
   ]
  },
  {
   "cell_type": "code",
   "execution_count": 4,
   "metadata": {},
   "outputs": [
    {
     "data": {
      "text/plain": [
       "(sin, exp, +, -, *)"
      ]
     },
     "metadata": {},
     "output_type": "display_data"
    }
   ],
   "source": [
    "ops = OperatorEnum((+, -, *), (sin, exp))\n",
    "nuna = length(ops.unaops)\n",
    "nbin = length(ops.binops)\n",
    "ops\n",
    "all_ops = (ops.unaops..., ops.binops...)"
   ]
  },
  {
   "cell_type": "code",
   "execution_count": 5,
   "metadata": {},
   "outputs": [
    {
     "data": {
      "text/plain": [
       "+ (generic function with 239 methods)"
      ]
     },
     "metadata": {},
     "output_type": "display_data"
    }
   ],
   "source": [
    "ops.binops[1]"
   ]
  },
  {
   "cell_type": "code",
   "execution_count": 6,
   "metadata": {},
   "outputs": [
    {
     "data": {
      "text/plain": [
       "12-element Vector{Vector{Int64}}:\n",
       " [0, 0, 0, 0, 0, 0, 0, 0, 0, 0, 0]\n",
       " [1, 2, 6, 22, 90, 394, 1806, 8558, 41586, 206098, 1037718]\n",
       " [1, 4, 16, 68, 304, 1412, 6752, 33028, 164512, 831620]\n",
       " [1, 6, 30, 146, 714, 3534, 17718, 89898, 461010]\n",
       " [1, 8, 48, 264, 1408, 7432, 39152, 206600]\n",
       " [1, 10, 70, 430, 2490, 14002, 77550]\n",
       " [1, 12, 96, 652, 4080, 24396]\n",
       " [1, 14, 126, 938, 6314]\n",
       " [1, 16, 160, 1296]\n",
       " [1, 18, 198]\n",
       " [1, 20]\n",
       " [1]"
      ]
     },
     "metadata": {},
     "output_type": "display_data"
    }
   ],
   "source": [
    "nl = 1\n",
    "p1 = 1\n",
    "p2 = 1\n",
    "\n",
    "ops = OperatorEnum((+, -, *), (sin, exp))\n",
    "\n",
    "function _generate_ubi_dist(max_ops::Int)\n",
    "    \"\"\"\n",
    "    `max_ops`: maximum number of operators\n",
    "    Enumerate the number of possible unary-binary trees that can be generated from empty nodes.\n",
    "    D[e][n] represents the number of different binary trees with n nodes that\n",
    "    can be generated from e empty nodes, using the following recursion:\n",
    "        D(0, n) = 0\n",
    "        D(e, 0) = L ** e\n",
    "        D(e, n) = L * D(e - 1, n) + p_1 * D(e, n - 1) + p_2 * D(e + 1, n - 1)\n",
    "    \"\"\"\n",
    "\n",
    "    # enumerate possible trees\n",
    "    # first generate the transposed version of D, then transpose it\n",
    "    D = Vector{Vector{Int}}()\n",
    "    push!(D, [0; [nl^i for i in 1:(2*max_ops+1)]])\n",
    "    \n",
    "    for n in 1:(2*max_ops)  # number of operators\n",
    "        s = [0]\n",
    "        for e in 1:(2*max_ops-n+1)  # number of empty nodes\n",
    "            push!(s, \n",
    "                nl * s[e] +\n",
    "                p1 * D[n][e+1] +\n",
    "                p2 * D[n][e+2]\n",
    "            )\n",
    "        end\n",
    "        push!(D, s)\n",
    "    end\n",
    "    \n",
    "    @assert all(length(D[i]) >= length(D[i+1]) for i in 1:length(D)-1)\n",
    "    \n",
    "    D = [\n",
    "        [D[j][i] for j in 1:length(D) if i <= length(D[j])]\n",
    "        for i in 1:maximum(length(x) for x in D)\n",
    "    ]\n",
    "    \n",
    "    return D\n",
    "end\n",
    "\n",
    "ubi_dist = _generate_ubi_dist(5)"
   ]
  },
  {
   "cell_type": "code",
   "execution_count": 8,
   "metadata": {},
   "outputs": [
    {
     "ename": "Base.Meta.ParseError",
     "evalue": "ParseError:\n# Error @ /Users/luis/Desktop/Cranmer 2024/Workplace/smallMutations/similar-expressions/src/datagen_jl/jl_notebook_cell_df34fa98e69747e1a8f8a730347b8e2f_W5sZmlsZQ==.jl:1:10\nparams = ...\n#        └─┘ ── invalid identifier",
     "output_type": "error",
     "traceback": [
      "ParseError:\n",
      "# Error @ /Users/luis/Desktop/Cranmer 2024/Workplace/smallMutations/similar-expressions/src/datagen_jl/jl_notebook_cell_df34fa98e69747e1a8f8a730347b8e2f_W5sZmlsZQ==.jl:1:10\n",
      "params = ...\n",
      "#        └─┘ ── invalid identifier\n",
      "\n",
      "Stacktrace:\n",
      " [1] top-level scope\n",
      "   @ ~/Desktop/Cranmer 2024/Workplace/smallMutations/similar-expressions/src/datagen_jl/jl_notebook_cell_df34fa98e69747e1a8f8a730347b8e2f_W5sZmlsZQ==.jl:1"
     ]
    }
   ],
   "source": [
    "params = ...\n",
    "\n",
    "self.ubi_dist = _generate_ubi_dist(params.max_ops)"
   ]
  },
  {
   "cell_type": "code",
   "execution_count": 7,
   "metadata": {},
   "outputs": [
    {
     "data": {
      "text/plain": [
       "(2, 2)"
      ]
     },
     "metadata": {},
     "output_type": "display_data"
    }
   ],
   "source": [
    "using Random\n",
    "using Distributions\n",
    "\n",
    "function _sample_next_pos_ubi(nb_empty::Int, nb_ops::Int, rng = Random.MersenneTwister(123))\n",
    "    \"\"\"\n",
    "    Sample the position of the next node (unary-binary case).\n",
    "    Sample a position in {0, ..., `nb_empty` - 1}, along with an arity.\n",
    "    \"\"\"\n",
    "    @assert nb_empty > 0\n",
    "    @assert nb_ops > 0\n",
    "    probs = Float64[]\n",
    "    for i in 0:(nb_empty-1)\n",
    "        push!(probs, \n",
    "            (nl ^ i) * p1 * ubi_dist[nb_empty - i + 1][nb_ops]\n",
    "        )\n",
    "    end\n",
    "    for i in 0:(nb_empty-1)\n",
    "        push!(probs, \n",
    "            (nl ^ i) * p2 * ubi_dist[nb_empty - i + 2][nb_ops]\n",
    "        )\n",
    "    end\n",
    "    probs ./= ubi_dist[nb_empty + 1][nb_ops + 1]\n",
    "    e = rand(rng, Categorical(probs)) - 1\n",
    "    arity = e < nb_empty ? 1 : 2\n",
    "    e = e % nb_empty\n",
    "    return e, arity\n",
    "end\n",
    "\n",
    "_sample_next_pos_ubi(5, 2)"
   ]
  },
  {
   "cell_type": "code",
   "execution_count": 8,
   "metadata": {},
   "outputs": [
    {
     "data": {
      "text/plain": [
       "OperatorProbEnum([0.5, 0.5], [0.5, 0.5])"
      ]
     },
     "metadata": {},
     "output_type": "display_data"
    }
   ],
   "source": [
    "struct OperatorProbEnum\n",
    "    binops_probs::Vector{Float64}\n",
    "    unaops_probs::Vector{Float64}\n",
    "end\n",
    "\n",
    "op_probs = OperatorProbEnum(\n",
    "    [0.5, 0.5],\n",
    "    [0.5, 0.5]\n",
    ")"
   ]
  },
  {
   "cell_type": "code",
   "execution_count": 9,
   "metadata": {},
   "outputs": [
    {
     "data": {
      "text/plain": [
       "-1.2164631331853586"
      ]
     },
     "metadata": {},
     "output_type": "display_data"
    }
   ],
   "source": [
    "using DynamicExpressions:\n",
    "    AbstractExpressionNode,\n",
    "    AbstractExpression,\n",
    "    AbstractNode,\n",
    "    NodeSampler,\n",
    "    Node,\n",
    "    get_contents,\n",
    "    with_contents,\n",
    "    constructorof,\n",
    "    copy_node,\n",
    "    set_node!,\n",
    "    count_nodes,\n",
    "    has_constants,\n",
    "    has_operators\n",
    "\n",
    "using Random: default_rng, AbstractRNG\n",
    "\n",
    "const DATA_TYPE = Number\n",
    "\n",
    "function make_random_leaf(\n",
    "    nfeatures::Int,\n",
    "    ::Type{T},\n",
    "    ::Type{N},\n",
    "    rng::AbstractRNG=default_rng(),\n",
    ") where {T<:DATA_TYPE,N<:AbstractExpressionNode}\n",
    "\"\"\"From SymbolicRegression.jl\"\"\"\n",
    "    if rand(rng, Bool)  # TODO: Add probs\n",
    "        return constructorof(N)(; val=randn(rng, T))\n",
    "    else\n",
    "        return constructorof(N)(T; feature=rand(rng, 1:nfeatures))\n",
    "    end\n",
    "end\n",
    "\n",
    "\n",
    "nfeatures = 1\n",
    "T = Float64\n",
    "N = Node{T}\n",
    "l=make_random_leaf(nfeatures, T, N, default_rng())\n",
    "l"
   ]
  },
  {
   "cell_type": "code",
   "execution_count": 102,
   "metadata": {},
   "outputs": [
    {
     "data": {
      "text/plain": [
       "x999"
      ]
     },
     "metadata": {},
     "output_type": "display_data"
    }
   ],
   "source": [
    "Node{Float64}(feature=999)"
   ]
  },
  {
   "cell_type": "code",
   "execution_count": 82,
   "metadata": {},
   "outputs": [
    {
     "data": {
      "text/plain": [
       "1.0"
      ]
     },
     "metadata": {},
     "output_type": "display_data"
    }
   ],
   "source": [
    "Node{Float64}(val=1.0)"
   ]
  },
  {
   "cell_type": "code",
   "execution_count": 87,
   "metadata": {},
   "outputs": [
    {
     "data": {
      "text/plain": [
       "-1.2164631331853586"
      ]
     },
     "metadata": {},
     "output_type": "display_data"
    }
   ],
   "source": [
    "l"
   ]
  },
  {
   "cell_type": "code",
   "execution_count": 95,
   "metadata": {},
   "outputs": [
    {
     "data": {
      "text/plain": [
       "unary_operator[1](x1)"
      ]
     },
     "metadata": {},
     "output_type": "display_data"
    }
   ],
   "source": [
    "op_node = Node{Float64}(; op=1, l=Node{Float64}(feature=1), r=nothing)\n",
    "\n",
    "op_node"
   ]
  },
  {
   "cell_type": "code",
   "execution_count": null,
   "metadata": {},
   "outputs": [],
   "source": [
    "# Use empty nodes as placeholders for leaves\n",
    "# Dont know total number of nodes beforehand (depends on unary-binary choices)\n",
    "\n",
    "function _generate_tree(nb_total_ops::Int, rng::AbstractRNG=default_rng())::QuoteNode\n",
    "    nb_empty = 1  # number of empty nodes\n",
    "    l_leaves = 0  # left leaves - nothing states reserved for leaves\n",
    "    t_leaves = 1  # total number of leaves (just used for sanity check)\n",
    "\n",
    "    stack = [nothing]\n",
    "\n",
    "    for nb_ops in nb_total_ops:-1:1\n",
    "        skipped, arity = _sample_next_pos_ubi(nb_empty, nb_ops)\n",
    "\n",
    "        if arity == 1\n",
    "            op_index = StatsBase.sample(1:nuna, StatsBase.Weights(op_probs.unaops_probs))\n",
    "            r = nothing\n",
    "        else\n",
    "            op_index = StatsBase.sample(1:nbin, StatsBase.Weights(op_probs.binops_probs))\n",
    "            r = Node{Float64}(feature=999)  # placeholder\n",
    "        end\n",
    "        l = Node{Float64}(feature=999)  # placeholder\n",
    "        op_node = Node{Float64}(; op=op_index, l=l, r=r)\n",
    "    end\n",
    "end"
   ]
  },
  {
   "cell_type": "code",
   "execution_count": 98,
   "metadata": {},
   "outputs": [
    {
     "name": "stdout",
     "output_type": "stream",
     "text": [
      "Union{Nothing, Node{Float64}}[binary_operator[1](-1.2164631331853586, 1.0), binary_operator[1](-1.2164631331853586, 1.0), nothing, binary_operator[1](-1.2164631331853586, 1.0), nothing, binary_operator[1](-1.2164631331853586, 1.0), nothing, binary_operator[1](-1.2164631331853586, 1.0), nothing, nothing, nothing]\n"
     ]
    },
    {
     "ename": "AssertionError",
     "evalue": "AssertionError: count((x->begin\n                #= /Users/luis/Desktop/Cranmer 2024/Workplace/smallMutations/similar-expressions/src/datagen_jl/jl_notebook_cell_df34fa98e69747e1a8f8a730347b8e2f_X13sZmlsZQ==.jl:50 =#\n                x in all_ops\n            end), stack) == nb_total_ops",
     "output_type": "error",
     "traceback": [
      "AssertionError: count((x->begin\n",
      "                #= /Users/luis/Desktop/Cranmer 2024/Workplace/smallMutations/similar-expressions/src/datagen_jl/jl_notebook_cell_df34fa98e69747e1a8f8a730347b8e2f_X13sZmlsZQ==.jl:50 =#\n",
      "                x in all_ops\n",
      "            end), stack) == nb_total_ops\n",
      "\n",
      "Stacktrace:\n",
      " [1] _generate_expr(nb_total_ops::Int64, rng::TaskLocalRNG)\n",
      "   @ Main ~/Desktop/Cranmer 2024/Workplace/smallMutations/similar-expressions/src/datagen_jl/jl_notebook_cell_df34fa98e69747e1a8f8a730347b8e2f_X13sZmlsZQ==.jl:50\n",
      " [2] _generate_expr(nb_total_ops::Int64)\n",
      "   @ Main ~/Desktop/Cranmer 2024/Workplace/smallMutations/similar-expressions/src/datagen_jl/jl_notebook_cell_df34fa98e69747e1a8f8a730347b8e2f_X13sZmlsZQ==.jl:16\n",
      " [3] top-level scope\n",
      "   @ ~/Desktop/Cranmer 2024/Workplace/smallMutations/similar-expressions/src/datagen_jl/jl_notebook_cell_df34fa98e69747e1a8f8a730347b8e2f_X13sZmlsZQ==.jl:73"
     ]
    }
   ],
   "source": [
    "using StatsBase\n",
    "\n",
    "\"\"\"\n",
    "Create a tree with exactly `nb_total_ops` operators.\n",
    "\n",
    "The tree is a list of operators and leaves in prefix notation (each one a Node).\n",
    "\n",
    "TODO: Add requires_x flag\n",
    "\n",
    "Steps:\n",
    "1. Create tree stack (prefix notation, with nothing as leaves)\n",
    "2. Create leaves list (same size as number of empty leaves)\n",
    "3. Insert leaves into tree\n",
    "\"\"\"\n",
    "function _generate_expr2(nb_total_ops::Int, rng::AbstractRNG=default_rng())::Vector{String}\n",
    "    stack = [nothing]\n",
    "    nb_empty = 1  # number of empty nodes\n",
    "    l_leaves = 0  # left leaves - nothing states reserved for leaves\n",
    "    t_leaves = 1  # total number of leaves (just used for sanity check)\n",
    "\n",
    "    # 1. Create tree\n",
    "    for nb_ops in nb_total_ops:-1:1\n",
    "        skipped, arity = _sample_next_pos_ubi(nb_empty, nb_ops)\n",
    "        \n",
    "        if arity == 1\n",
    "            op_index = StatsBase.sample(1:nuna, StatsBase.Weights(op_probs.unaops_probs))\n",
    "            r = nothing\n",
    "        else\n",
    "            op_index = StatsBase.sample(1:nbin, StatsBase.Weights(op_probs.binops_probs))\n",
    "            r = Node{Float64}(val=1.0)\n",
    "        end\n",
    "        op_node = Node{Float64}(; op=1, l=l, r=r)\n",
    "\n",
    "        nb_empty += (arity - 1 - skipped)\n",
    "        t_leaves += arity - 1\n",
    "        l_leaves += skipped\n",
    "        \n",
    "        # update tree\n",
    "        pos = findall(x -> x === nothing, stack)[l_leaves+1]\n",
    "        stack = [\n",
    "            stack[1:pos-1]...,\n",
    "            op_node,\n",
    "            [nothing for _ in 1:arity]...,\n",
    "            stack[pos+1:end]...\n",
    "        ]\n",
    "    end\n",
    "    println(stack)\n",
    "\n",
    "    # sanity check\n",
    "\n",
    "    @assert count(x -> x in all_ops, stack) == nb_total_ops\n",
    "    @assert count(x -> x === nothing, stack) == t_leaves\n",
    "\n",
    "    # 2. Create leaves\n",
    "    nfeatures = 1\n",
    "    T = Float64\n",
    "    N = Node{T}\n",
    "    # l=make_random_leaf(nfeatures, T, N, default_rng())\n",
    "\n",
    "    leaves = [make_random_leaf(nfeatures, T, N, default_rng()) for _ in 1:t_leaves]\n",
    "    println(leaves)\n",
    "    println(leaves)\n",
    "\n",
    "    # 3. Insert leaves into tree\n",
    "    for pos in length(stack):-1:1\n",
    "        if stack[pos] === nothing\n",
    "            stack = [stack[1:pos-1]..., pop!(leaves), stack[pos+1:end]...]\n",
    "        end\n",
    "    end\n",
    "    @assert isempty(leaves)\n",
    "    return stack\n",
    "end\n",
    "\n",
    "stack = _generate_expr(5, )\n",
    "stack"
   ]
  },
  {
   "cell_type": "code",
   "execution_count": 53,
   "metadata": {},
   "outputs": [
    {
     "data": {
      "text/plain": [
       "0x03"
      ]
     },
     "metadata": {},
     "output_type": "display_data"
    }
   ],
   "source": [
    "stack[1].degree"
   ]
  },
  {
   "cell_type": "code",
   "execution_count": 52,
   "metadata": {},
   "outputs": [
    {
     "data": {
      "text/plain": [
       "true"
      ]
     },
     "metadata": {},
     "output_type": "display_data"
    }
   ],
   "source": [
    "stack[1].degree == 3"
   ]
  },
  {
   "cell_type": "markdown",
   "metadata": {},
   "source": [
    "Conversions:\n",
    "- Prefix list <> DE.jl tree\n",
    "- Prefix list: \n",
    "\n",
    "\n",
    "        if node.degree == 1\n",
    "            node.op = rand(rng, 1:(options.nuna))\n",
    "        else\n",
    "            node.op = rand(rng, 1:(options.nbin))\n",
    "        end\n",
    "\n",
    "        function sample_mutation(w::MutationWeights)\n",
    "            weights = convert(Vector, w)\n",
    "            return StatsBase.sample(v_mutations, StatsBase.Weights(weights))\n",
    "        end"
   ]
  }
 ],
 "metadata": {
  "kernelspec": {
   "display_name": "Julia 1.10.4",
   "language": "julia",
   "name": "julia-1.10"
  },
  "language_info": {
   "file_extension": ".jl",
   "mimetype": "application/julia",
   "name": "julia",
   "version": "1.10.4"
  }
 },
 "nbformat": 4,
 "nbformat_minor": 2
}
