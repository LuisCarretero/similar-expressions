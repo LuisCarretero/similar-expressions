{
 "cells": [
  {
   "cell_type": "code",
   "execution_count": 1,
   "metadata": {},
   "outputs": [
    {
     "data": {
      "text/plain": [
       "1000×100 Matrix{Float64}:\n",
       " -0.449599   -0.43184      0.249547    0.165908   …   0.21918     0.0931207\n",
       "  0.302948   -0.141417    -0.0365261  -0.0583836      0.319736   -0.0060028\n",
       "  0.0968381   0.399164     0.071485    0.0203928      0.259951   -0.337851\n",
       "  0.252199   -0.331548     0.147167    0.222336       0.263729   -0.480748\n",
       "  0.323289   -0.312023     0.0633872   0.26423        0.168042   -0.26843\n",
       "  0.253986   -0.0653011   -0.102247   -0.424123   …   0.0847717  -0.158893\n",
       "  0.0188382   0.00645447  -0.0484565   0.216545      -0.195983   -0.071277\n",
       " -0.252928    0.172003    -0.50582    -0.406597       0.132372    0.252118\n",
       "  0.372643    0.0353264    0.0167546   0.247296      -0.471421    0.330399\n",
       "  0.22296    -0.441921     0.227966   -0.0416518     -0.448719   -0.339706\n",
       "  ⋮                                               ⋱              \n",
       "  0.340065   -0.31707     -0.0113651   0.0741836     -0.0616553  -0.321688\n",
       " -0.0848976   0.182414     0.182848   -0.276632       0.265606   -0.44463\n",
       "  0.414313    0.494112    -0.0394685   0.262833      -0.323899    0.107217\n",
       "  0.0141061   0.297627    -0.308679    0.231809       0.39347    -0.0457543\n",
       " -0.517022    0.1783       0.275192   -0.221498   …   0.444992   -0.36106\n",
       "  0.35591     0.216181     0.172429   -0.158759      -0.251993   -0.206541\n",
       "  0.460785    0.419421     0.280693    0.193371      -0.397666   -0.218908\n",
       "  0.249131   -0.339981     0.317642   -0.0388271     -0.120689    0.212283\n",
       "  0.0724271  -0.0234315   -0.324043   -0.04389        0.317779   -0.00175096"
      ]
     },
     "metadata": {},
     "output_type": "display_data"
    }
   ],
   "source": [
    "include(\"ExpressionGenerator.jl\")\n",
    "include(\"utils.jl\")\n",
    "\n",
    "using .Utils: eval_trees, encode_trees, get_onehot_legend, FilterSettings, filter_evaluated_trees, filter_encoded_trees, ValueTransformSettings, create_value_transform\n",
    "\n",
    "value_transform_settings = ValueTransformSettings(\n",
    "    mapping=\"arcsinh\",\n",
    "    bias=\"sample\",\n",
    "    scale=\"sample-range\"\n",
    ")\n",
    "\n",
    "values = rand(1000, 100)\n",
    "transform = create_value_transform(value_transform_settings, values)\n",
    "\n",
    "transform(values)"
   ]
  }
 ],
 "metadata": {
  "kernelspec": {
   "display_name": "Julia 1.10.4",
   "language": "julia",
   "name": "julia-1.10"
  },
  "language_info": {
   "file_extension": ".jl",
   "mimetype": "application/julia",
   "name": "julia",
   "version": "1.10.4"
  }
 },
 "nbformat": 4,
 "nbformat_minor": 2
}
