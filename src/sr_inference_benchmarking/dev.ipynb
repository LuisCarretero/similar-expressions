{
 "cells": [
  {
   "cell_type": "markdown",
   "metadata": {},
   "source": [
    "## Test LaSR datasets"
   ]
  },
  {
   "cell_type": "code",
   "execution_count": 74,
   "metadata": {},
   "outputs": [
    {
     "data": {
      "text/plain": [
       "<module 'dataset_utils' from '/Users/luis/Desktop/Cranmer2024/Workplace/smallMutations/similar-expressions/src/sr_inference_benchmarking/dataset_utils.py'>"
      ]
     },
     "execution_count": 74,
     "metadata": {},
     "output_type": "execute_result"
    }
   ],
   "source": [
    "import sys\n",
    "sys.path.append(\"/Users/luis/Desktop/Cranmer2024/Workplace/smallMutations/similar-expressions/src/sr_inference_benchmarking\")\n",
    "import dataset_utils\n",
    "from importlib import reload\n",
    "reload(dataset_utils)\n"
   ]
  },
  {
   "cell_type": "code",
   "execution_count": 75,
   "metadata": {},
   "outputs": [
    {
     "data": {
      "text/plain": [
       "[SyntheticDataset(idx=0, equation=\"y = exp(((1.485035504085099 - log(y2)) / (-0.5917667741788188 - y4)) + (sqrt(y1 + y4) + sqrt(y2)))\", X=(100, 5), Y=(100,), var_order={'x0': 'y3', 'x1': 'y1', 'x2': 'y5', 'x3': 'y4', 'x4': 'y2'})]"
      ]
     },
     "execution_count": 75,
     "metadata": {},
     "output_type": "execute_result"
    }
   ],
   "source": [
    "dataset_utils.create_datasets('synthetic', 100, 1e-4, equation_indices=[0])"
   ]
  },
  {
   "cell_type": "markdown",
   "metadata": {},
   "source": [
    "Note: Expressions from synthetic dataset without log or sqrt are:\n",
    "[5, 9, 16, 20, 25, 31, 32, 36, 39]"
   ]
  },
  {
   "cell_type": "markdown",
   "metadata": {},
   "source": [
    "## PySR integration tests"
   ]
  },
  {
   "cell_type": "code",
   "execution_count": 1,
   "metadata": {},
   "outputs": [],
   "source": [
    "import sys\n",
    "sys.path.append(\"/Users/luis/Desktop/Cranmer2024/Workplace/smallMutations/similar-expressions/src/sr_inference_benchmarking\")\n",
    "import dataset\n",
    "import matplotlib.pyplot as plt"
   ]
  },
  {
   "cell_type": "code",
   "execution_count": 28,
   "metadata": {},
   "outputs": [],
   "source": [
    "import pysr_interface_utils\n",
    "reload(pysr_interface_utils)\n",
    "from pysr_interface_utils import get_mutation_stats, reset_mutation_stats"
   ]
  },
  {
   "cell_type": "code",
   "execution_count": 2,
   "metadata": {},
   "outputs": [
    {
     "name": "stdout",
     "output_type": "stream",
     "text": [
      "Detected IPython. Loading juliacall extension. See https://juliapy.github.io/PythonCall.jl/stable/compat/#IPython\n"
     ]
    },
    {
     "name": "stderr",
     "output_type": "stream",
     "text": [
      "Precompiling SymbolicRegression...\n",
      "  34122.4 ms  ✓ SymbolicRegression\n",
      "  1 dependency successfully precompiled in 35 seconds. 123 already precompiled.\n",
      "Precompiling SymbolicRegressionJSON3Ext...\n",
      "   2052.0 ms  ✓ SymbolicRegression → SymbolicRegressionJSON3Ext\n",
      "  1 dependency successfully precompiled in 2 seconds. 128 already precompiled.\n"
     ]
    }
   ],
   "source": [
    "from pysr import PySRRegressor\n",
    "from pysr_interface_utils import get_mutation_stats, reset_mutation_stats\n",
    "import numpy as np\n",
    "import sys\n",
    "sys.path.append(\"/Users/luis/Desktop/Cranmer2024/Workplace/smallMutations/similar-expressions/src/sr_inference_benchmarking\")\n",
    "from importlib import reload\n",
    "import dataset\n",
    "reload(dataset)\n",
    "from dataset import synthetic_dataset"
   ]
  },
  {
   "cell_type": "code",
   "execution_count": 80,
   "metadata": {},
   "outputs": [],
   "source": [
    "def eval_equation(X, y, n_iterations=10, early_stopping_condition=1e-8):\n",
    "    custom_loss = \"\"\"\n",
    "    function eval_loss(tree, dataset::Dataset{T,L}, options)::L where {T,L}\n",
    "        prediction, flag = eval_tree_array(tree, dataset.X, options)\n",
    "        if !flag\n",
    "            return L(Inf)\n",
    "        end\n",
    "        return sum( (1000 .* (prediction .- dataset.y) ) .^ 2) / dataset.n\n",
    "    end\n",
    "    \"\"\"\n",
    "\n",
    "    model = PySRRegressor(\n",
    "        niterations=n_iterations,\n",
    "        binary_operators=[\"+\", \"*\", \"-\", \"/\"],\n",
    "        unary_operators=[\n",
    "            \"cos\",\n",
    "            \"exp\",\n",
    "            \"sin\",\n",
    "            \"tanh\",\n",
    "            \"cosh\",\n",
    "            \"sinh\"\n",
    "        ],\n",
    "        precision=64,\n",
    "        neural_options=dict(\n",
    "            active=True,\n",
    "            model_path=\"/Users/luis/Desktop/Cranmer2024/Workplace/smallMutations/similar-expressions/src/dev/ONNX/onnx-models/model-zwrgtnj0.onnx\",\n",
    "            sampling_eps=0.01,\n",
    "            subtree_min_nodes=2,\n",
    "            subtree_max_nodes=10,\n",
    "        ),\n",
    "        weight_neural_mutate_tree=0.0,\n",
    "        # elementwise_loss=\"loss(prediction, target) = (prediction - target)^2\",\n",
    "        loss_function=custom_loss,\n",
    "        early_stop_condition=f\"f(loss, complexity) = (loss < {early_stopping_condition:e})\"\n",
    "    )\n",
    "    model.fit(X, y)\n",
    "    return model"
   ]
  },
  {
   "cell_type": "code",
   "execution_count": 79,
   "metadata": {},
   "outputs": [
    {
     "data": {
      "text/plain": [
       "'y = y1 * (((y1 * y1) / (2.189911201366985 / cos((1.2114819663272414 - y4) + -0.20111570724898717))) / exp(-0.08661496242802426 * y5))'"
      ]
     },
     "execution_count": 79,
     "metadata": {},
     "output_type": "execute_result"
    }
   ],
   "source": [
    "dataset = dataset_utils.create_datasets('synthetic', num_samples=2000, noise=0, equation_indices=[9])[0]\n",
    "dataset.equation"
   ]
  },
  {
   "cell_type": "code",
   "execution_count": 81,
   "metadata": {},
   "outputs": [
    {
     "name": "stderr",
     "output_type": "stream",
     "text": [
      "/Users/luis/opt/anaconda3/envs/simexpr-arm64/lib/python3.12/site-packages/pysr/sr.py:2785: UserWarning: Note: it looks like you are running in Jupyter. The progress bar will be turned off.\n",
      "  warnings.warn(\n",
      "[ Info: Started!\n",
      "[ Info: Final population:\n",
      "[ Info: Results saved to:\n"
     ]
    },
    {
     "name": "stdout",
     "output_type": "stream",
     "text": [
      "\n",
      "Expressions evaluated per second: 6.110e+04\n",
      "Progress: 222 / 310 total iterations (71.613%)\n",
      "════════════════════════════════════════════════════════════════════════════════════════════════════\n",
      "───────────────────────────────────────────────────────────────────────────────────────────────────\n",
      "Complexity  Loss       Score      Equation\n",
      "1           4.432e+10  3.604e+01  y = 6.5622\n",
      "2           4.420e+10  2.781e-03  y = sin(x₃)\n",
      "3           4.414e+10  1.149e-03  y = exp(sin(x₃))\n",
      "4           3.035e+10  3.748e-01  y = sin(x₃) * 168.22\n",
      "6           2.038e+10  1.992e-01  y = (sin(x₃) * x₄) * 36.342\n",
      "8           1.676e+10  9.763e-02  y = (x₄ * (x₄ * sin(x₃))) * 5.07\n",
      "9           1.639e+10  2.230e-02  y = x₄ * (x₁ * (sin(sin(x₃)) * x₄))\n",
      "10          3.318e+09  1.597e+00  y = (x₄ * sin(x₃ + 0.56768)) * (x₄ / 0.15892)\n",
      "12          3.263e+09  8.382e-03  y = sin(x₃ + 0.66057) * (x₄ * (x₄ * (x₁ - -0.25252)))\n",
      "14          2.245e+09  1.870e-01  y = ((sin(x₃ + 0.56524) * ((x₄ * 10.32) - 32.006)) * x₄) +...\n",
      "                                       1.7613\n",
      "16          2.103e+09  3.260e-02  y = ((sin(x₃ + 0.56178) * ((x₄ * 4.4654) - 12.192)) / 0.35...\n",
      "                                      294) * (x₄ + -1.9995)\n",
      "19          1.660e+09  7.880e-02  y = (x₄ * ((x₄ - (x₁ - (x₁ * x₄))) + tanh(x₄ - x₀))) * sin...\n",
      "                                      (x₃ + 0.56527)\n",
      "24          1.298e+09  4.923e-02  y = sin(x₃ + 0.56368) * (((((((x₄ - (1.2359 - x₁)) - 4.699...\n",
      "                                      ) / 0.45551) * 2.7562) + (x₄ - x₁)) * x₄) + -1.2429)\n",
      "26          8.049e+08  2.389e-01  y = sin(x₃ + 0.56368) * ((((((x₄ - x₁) + (2.7562 * ((x₄ - ...\n",
      "                                      (1.2359 - x₁)) - 4.699))) / 0.45551) + -0.54986) * x₄) + -...\n",
      "                                      1.2429)\n",
      "28          7.826e+08  1.410e-02  y = sin(x₃ + 0.56368) * ((((((x₄ - x₁) + (2.7562 * ((x₄ - ...\n",
      "                                      (1.2359 - x₁)) - 4.699))) / 0.45551) + (0.33224 + -1.5595)...\n",
      "                                      ) * x₄) + -1.2429)\n",
      "───────────────────────────────────────────────────────────────────────────────────────────────────\n",
      "════════════════════════════════════════════════════════════════════════════════════════════════════\n",
      "Press 'q' and then <enter> to stop execution early.\n",
      "───────────────────────────────────────────────────────────────────────────────────────────────────\n",
      "Complexity  Loss       Score      Equation\n",
      "1           4.432e+10  3.604e+01  y = 6.5622\n",
      "2           4.420e+10  2.781e-03  y = sin(x₃)\n",
      "3           4.414e+10  1.149e-03  y = exp(sin(x₃))\n",
      "4           3.035e+10  3.748e-01  y = sin(x₃) * 168.22\n",
      "6           2.038e+10  1.992e-01  y = (sin(x₃) * x₄) * 36.342\n",
      "8           1.676e+10  9.763e-02  y = (x₄ * (x₄ * sin(x₃))) * 5.07\n",
      "9           9.019e+09  6.197e-01  y = (x₄ * 54.823) * tanh(sin(x₃ + -244.47))\n",
      "10          3.318e+09  1.000e+00  y = ((x₄ * sin(x₃ + 0.56768)) * x₄) / 0.15892\n",
      "12          3.263e+09  8.382e-03  y = sin(x₃ + 0.66057) * (x₄ * (x₄ * (x₁ - -0.25252)))\n",
      "14          2.245e+09  1.870e-01  y = ((sin(x₃ + 0.56524) * ((x₄ * 10.32) - 32.006)) * x₄) +...\n",
      "                                       1.7613\n",
      "16          2.103e+09  3.260e-02  y = ((sin(x₃ + 0.56178) * ((x₄ * 4.4654) - 12.192)) / 0.35...\n",
      "                                      294) * (x₄ + -1.9995)\n",
      "18          2.101e+09  3.926e-04  y = ((sin(x₃ + 0.56039) * (((x₄ * 4.5204) - 11.694) / 0.34...\n",
      "                                      382)) * (x₄ + -2.3856)) - -1.4301\n",
      "19          1.660e+09  2.356e-01  y = (x₄ * ((x₄ - (x₁ - (x₁ * x₄))) + tanh(x₄ - x₀))) * sin...\n",
      "                                      (x₃ + 0.56527)\n",
      "22          1.274e+09  8.822e-02  y = (((((x₄ - (1.2359 - x₁)) - 4.699) / 0.45551) * 2.7562)...\n",
      "                                       + x₄) * ((-1.0381 + x₄) * sin(x₃ + 0.56368))\n",
      "24          6.124e+08  3.664e-01  y = ((sin(x₃ + 0.57415) * ((x₄ + (((x₄ - (5.2964 - x₁)) - ...\n",
      "                                      9.2409) / 1.283)) + 2.349)) * (x₄ * 5.2597)) + -0.23039\n",
      "26          3.499e+08  2.798e-01  y = (sin(x₃ + -27.717) / 31.629) * (x₄ * ((((((1.1231 - x₄...\n",
      "                                      ) + -7.9639) * 10.803) * (x₄ - (-3.07 - x₁))) - 111.97) + ...\n",
      "                                      1224.3))\n",
      "───────────────────────────────────────────────────────────────────────────────────────────────────\n",
      "  - outputs/20250106_194348_d1qrUP/hall_of_fame.csv\n"
     ]
    }
   ],
   "source": [
    "reset_mutation_stats()\n",
    "model = eval_equation(dataset.X, dataset.Y, n_iterations=10, early_stopping_condition=1e-8)\n",
    "\n",
    "\n",
    "stats = get_mutation_stats()\n",
    "in_sizes, out_sizes = stats['subtree_in_sizes'], stats['subtree_out_sizes']"
   ]
  },
  {
   "cell_type": "code",
   "execution_count": 82,
   "metadata": {},
   "outputs": [
    {
     "ename": "ValueError",
     "evalue": "min() iterable argument is empty",
     "output_type": "error",
     "traceback": [
      "\u001b[0;31m---------------------------------------------------------------------------\u001b[0m",
      "\u001b[0;31mValueError\u001b[0m                                Traceback (most recent call last)",
      "Cell \u001b[0;32mIn[82], line 4\u001b[0m\n\u001b[1;32m      1\u001b[0m fig, (ax1, ax2) \u001b[38;5;241m=\u001b[39m plt\u001b[38;5;241m.\u001b[39msubplots(\u001b[38;5;241m1\u001b[39m, \u001b[38;5;241m2\u001b[39m, figsize\u001b[38;5;241m=\u001b[39m(\u001b[38;5;241m12\u001b[39m, \u001b[38;5;241m4\u001b[39m))\n\u001b[1;32m      3\u001b[0m \u001b[38;5;66;03m# Plot histograms of in and out sizes on first subplot\u001b[39;00m\n\u001b[0;32m----> 4\u001b[0m ax1\u001b[38;5;241m.\u001b[39mhist(in_sizes, alpha\u001b[38;5;241m=\u001b[39m\u001b[38;5;241m0.5\u001b[39m, label\u001b[38;5;241m=\u001b[39m\u001b[38;5;124m'\u001b[39m\u001b[38;5;124mInput sizes\u001b[39m\u001b[38;5;124m'\u001b[39m, bins\u001b[38;5;241m=\u001b[39m\u001b[38;5;28mrange\u001b[39m(\u001b[38;5;28;43mmin\u001b[39;49m\u001b[43m(\u001b[49m\u001b[43min_sizes\u001b[49m\u001b[43m)\u001b[49m, \u001b[38;5;28mmax\u001b[39m(in_sizes)\u001b[38;5;241m+\u001b[39m\u001b[38;5;241m2\u001b[39m), align\u001b[38;5;241m=\u001b[39m\u001b[38;5;124m'\u001b[39m\u001b[38;5;124mleft\u001b[39m\u001b[38;5;124m'\u001b[39m)\n\u001b[1;32m      5\u001b[0m ax1\u001b[38;5;241m.\u001b[39mhist(out_sizes, alpha\u001b[38;5;241m=\u001b[39m\u001b[38;5;241m0.5\u001b[39m, label\u001b[38;5;241m=\u001b[39m\u001b[38;5;124m'\u001b[39m\u001b[38;5;124mOutput sizes\u001b[39m\u001b[38;5;124m'\u001b[39m, bins\u001b[38;5;241m=\u001b[39m\u001b[38;5;28mrange\u001b[39m(\u001b[38;5;28mmin\u001b[39m(out_sizes), \u001b[38;5;28mmax\u001b[39m(out_sizes)\u001b[38;5;241m+\u001b[39m\u001b[38;5;241m2\u001b[39m), align\u001b[38;5;241m=\u001b[39m\u001b[38;5;124m'\u001b[39m\u001b[38;5;124mleft\u001b[39m\u001b[38;5;124m'\u001b[39m)\n\u001b[1;32m      6\u001b[0m ax1\u001b[38;5;241m.\u001b[39mset_xlabel(\u001b[38;5;124m'\u001b[39m\u001b[38;5;124mNumber of nodes\u001b[39m\u001b[38;5;124m'\u001b[39m)\n",
      "\u001b[0;31mValueError\u001b[0m: min() iterable argument is empty"
     ]
    },
    {
     "data": {
      "image/png": "[encoded data removed]",
      "text/plain": [
       "<Figure size 1200x400 with 2 Axes>"
      ]
     },
     "metadata": {},
     "output_type": "display_data"
    }
   ],
   "source": [
    "fig, (ax1, ax2) = plt.subplots(1, 2, figsize=(12, 4))\n",
    "\n",
    "# Plot histograms of in and out sizes on first subplot\n",
    "ax1.hist(in_sizes, alpha=0.5, label='Input sizes', bins=range(min(in_sizes), max(in_sizes)+2), align='left')\n",
    "ax1.hist(out_sizes, alpha=0.5, label='Output sizes', bins=range(min(out_sizes), max(out_sizes)+2), align='left')\n",
    "ax1.set_xlabel('Number of nodes')\n",
    "ax1.set_ylabel('Frequency')\n",
    "ax1.set_title('Distribution of input and output subtree sizes')\n",
    "ax1.legend()\n",
    "\n",
    "# Plot histogram of differences on second subplot\n",
    "differences = [out - in_ for out, in_ in zip(out_sizes, in_sizes)]\n",
    "ax2.hist(differences, bins=range(min(differences), max(differences)+2), align='left')\n",
    "ax2.set_xlabel('Size difference (output - input)')\n",
    "ax2.set_ylabel('Frequency') \n",
    "ax2.set_title('Distribution of size differences')\n",
    "\n",
    "plt.tight_layout()\n",
    "plt.show()\n"
   ]
  },
  {
   "cell_type": "code",
   "execution_count": 83,
   "metadata": {},
   "outputs": [
    {
     "data": {
      "image/png": "[encoded data removed]",
      "text/plain": [
       "<Figure size 600x400 with 1 Axes>"
      ]
     },
     "metadata": {},
     "output_type": "display_data"
    }
   ],
   "source": [
    "# Get counts for each stat type\n",
    "count_stats = {k: v for k, v in stats.items() if isinstance(v, int)} \n",
    "\n",
    "# Create bar plot\n",
    "plt.figure(figsize=(6, 4))\n",
    "plt.bar(count_stats.keys(), count_stats.values())\n",
    "plt.xticks(rotation=45, ha='right')\n",
    "plt.title('Neural Mutation Statistics')\n",
    "plt.ylabel('Count')\n",
    "plt.tight_layout()\n",
    "plt.show()"
   ]
  },
  {
   "cell_type": "code",
   "execution_count": 32,
   "metadata": {},
   "outputs": [
    {
     "data": {
      "text/plain": [
       "{'decoding_failures': 0,\n",
       " 'encoding_failures': 0,\n",
       " 'module_not_enabled': 5036,\n",
       " 'no_subtree_found': 0,\n",
       " 'successful_mutations': 0,\n",
       " 'total_attempts': 5036,\n",
       " 'tree_build_failures': 0}"
      ]
     },
     "execution_count": 32,
     "metadata": {},
     "output_type": "execute_result"
    }
   ],
   "source": [
    "count_stats"
   ]
  }
 ],
 "metadata": {
  "kernelspec": {
   "display_name": "simexpr-arm64",
   "language": "python",
   "name": "python3"
  },
  "language_info": {
   "codemirror_mode": {
    "name": "ipython",
    "version": 3
   },
   "file_extension": ".py",
   "mimetype": "text/x-python",
   "name": "python",
   "nbconvert_exporter": "python",
   "pygments_lexer": "ipython3",
   "version": "3.12.4"
  }
 },
 "nbformat": 4,
 "nbformat_minor": 2
}
