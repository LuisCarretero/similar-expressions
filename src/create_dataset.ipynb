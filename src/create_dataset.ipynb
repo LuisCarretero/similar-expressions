{
 "cells": [
  {
   "cell_type": "markdown",
   "metadata": {},
   "source": [
    "## Generate random expressions like the bayesian_optimization notebook and save them to file"
   ]
  },
  {
   "cell_type": "code",
   "execution_count": 2,
   "metadata": {},
   "outputs": [
    {
     "data": {
      "text/plain": [
       "possibilities (generic function with 1 method)"
      ]
     },
     "metadata": {},
     "output_type": "display_data"
    }
   ],
   "source": [
    "using SymbolicUtils\n",
    "using DynamicExpressions\n",
    "using Optim: Optim\n",
    "using StatsBase: sample, Weights\n",
    "\n",
    "\n",
    "function create_node((node_type, payload), operators::OperatorEnum)\n",
    "    if node_type == \"constant\"\n",
    "        return Node{Float64}(; val=rand(Float64))  # one(Float64)\n",
    "    elseif node_type == \"feature\"\n",
    "        return Node{Float64}(; feature=payload)\n",
    "    else\n",
    "        n = Node{Float64}()\n",
    "        degree = node_type == \"unary\" ? 1 : 2\n",
    "        n.degree = degree\n",
    "        if degree == 1\n",
    "            @assert(\n",
    "                payload in eachindex(operators.unaops),\n",
    "                \"Could not find unary operator with index $payload\"\n",
    "            )\n",
    "        else\n",
    "            @assert(\n",
    "                payload in eachindex(operators.binops),\n",
    "                \"Could not find binary operator with index $payload\"\n",
    "            )\n",
    "        end\n",
    "        n.op = payload\n",
    "        return n\n",
    "    end\n",
    "end\n",
    "\n",
    "function create_tree(nodes::AbstractVector{Tuple{String,Int}}, operators::OperatorEnum)::Node\n",
    "    _create_tree!(copy(nodes), operators)\n",
    "end\n",
    "\n",
    "function _create_tree!(nodes::AbstractVector{Tuple{String,Int}}, operators::OperatorEnum)::Node\n",
    "    if isempty(nodes)\n",
    "        # Fallback is to simply return 1.0\n",
    "        return create_node((\"constant\", 0), operators)\n",
    "    end\n",
    "    new_root = create_node(popfirst!(nodes), operators)\n",
    "    if new_root.degree == 0\n",
    "        # Nothing to do\n",
    "    elseif new_root.degree == 1\n",
    "        new_root.l = _create_tree!(nodes, operators)\n",
    "    elseif new_root.degree == 2\n",
    "        new_root.l = _create_tree!(nodes, operators)\n",
    "        new_root.r = _create_tree!(nodes, operators)\n",
    "    else\n",
    "        error()\n",
    "    end\n",
    "    return new_root\n",
    "end\n",
    "\n",
    "function loss(operators::OperatorEnum, X::Matrix{Float64}, y::Vector{Float64})\n",
    "    let X_t = X'\n",
    "        function (tree)\n",
    "            y_predicted = first(eval_tree_array(tree, X_t, operators))\n",
    "            return sum(i -> abs2(y[i] - y_predicted[i]), eachindex(y, y_predicted))\n",
    "        end\n",
    "    end\n",
    "end\n",
    "\n",
    "function evaluate(nodes::AbstractVector{Tuple{String,Int}}, operators::OperatorEnum, X::AbstractMatrix{Float64}, y::AbstractVector{Float64})\n",
    "    tree = create_tree(nodes, operators)\n",
    "    l = loss(operators, X, y)\n",
    "    if !has_constants(tree)\n",
    "        # Nothing to optimize\n",
    "        return (l(tree), tree)\n",
    "    end\n",
    "    res = Optim.optimize(l, tree, Optim.BFGS())\n",
    "    return (res.minimum, res.minimizer)\n",
    "end\n",
    "\n",
    "function possibilities(n_features, operators::OperatorEnum)\n",
    "    possible_nodes = [\n",
    "        (\"binary\", i) for i in eachindex(operators.binops)\n",
    "    ]\n",
    "    append!(possible_nodes, [\n",
    "        (\"unary\", j) for j in eachindex(operators.unaops)\n",
    "    ])\n",
    "    append!(possible_nodes, [\n",
    "        (\"feature\", k) for k in 1:n_features\n",
    "    ])\n",
    "    append!(possible_nodes, [(\"constant\", 0)])\n",
    "    return possible_nodes\n",
    "end"
   ]
  },
  {
   "cell_type": "code",
   "execution_count": 3,
   "metadata": {},
   "outputs": [
    {
     "name": "stdout",
     "output_type": "stream",
     "text": [
      "[(\"binary\", 1), (\"binary\", 2), (\"binary\", 3), (\"unary\", 1), (\"unary\", 2), (\"feature\", 1), (\"constant\", 0)]\n",
      "[1.0, 1.0, 1.0, 0.5, 0.5, 2.0, 0.4]\n",
      "[1.0, 1.0, 1.0, 0.5, 0.5, 0.01, 0.0]\n"
     ]
    }
   ],
   "source": [
    "operators = OperatorEnum(binary_operators=(+, -, *), unary_operators=(sin, exp))\n",
    "num_features = 1\n",
    "node_types = possibilities(num_features, operators)\n",
    "println(node_types)\n",
    "\n",
    "weights = Weights([1, 1, 1, 0.5, 0.5, 2, 0.4])\n",
    "println(weights)\n",
    "\n",
    "weights_first = Weights([1, 1, 1, 0.5, 0.5, 0.01, 0])\n",
    "println(weights_first)"
   ]
  },
  {
   "cell_type": "code",
   "execution_count": 4,
   "metadata": {},
   "outputs": [
    {
     "data": {
      "text/plain": [
       "53150-element Vector{Any}:\n",
       " sin(sin(x1))\n",
       " ((x1 - 0.6914618846717281) - 0.9852721251433112) - 0.08464646046007085\n",
       " (x1 * x1) - x1\n",
       " x1 * 0.915150496639181\n",
       " (x1 * x1) * 1.1766125290979907\n",
       " x1 + -0.5449750350590586\n",
       " 0.3392351121778863 + x1\n",
       " exp(exp(x1))\n",
       " (((x1 + 0.44671198424866765) * 0.9784414178570849) - 0.9527580796164442) * 0.8421678230366046\n",
       " (x1 - 0.7888589470028463) * 0.7146740405120758\n",
       " ⋮\n",
       " ((exp(x1) * 0.28884774583091877) + 0.6519908121268015) * 0.7153064190183511\n",
       " ((x1 * 0.12609399104627717) - 0.647191513128363) * 0.2974244331041176\n",
       " (sin(x1) + 0.3446762901728785) * 0.8985911394850951\n",
       " sin(x1) - (x1 * 0.4625861326169689)\n",
       " x1 - -0.8101443430022055\n",
       " (x1 - x1) * 0.47436690799625914\n",
       " x1 - 0.6373028475394451\n",
       " (0.1729007190028713 + (x1 * 0.6099519872152004)) + 0.46878893894843576\n",
       " x1 + ((x1 - 0.0958735796680441) * 0.7173702105678573)"
      ]
     },
     "metadata": {},
     "output_type": "display_data"
    }
   ],
   "source": [
    "# Sample list of nodes\n",
    "n = 5\n",
    "cnt = 100_000\n",
    "\n",
    "trees = []\n",
    "for _ in 1:cnt\n",
    "    # Make sure first node is not a constant\n",
    "    first_node = sample(node_types, weights_first, 1)\n",
    "    node_list = [first_node; sample(node_types, weights, n-1)]\n",
    "    tree = create_tree(node_list, operators)\n",
    "    # println(tree)\n",
    "    simplify_tree!(tree, operators)\n",
    "    # println(tree)\n",
    "    # println(\"-----------\")\n",
    "    if tree.degree > 0\n",
    "        push!(trees, tree)\n",
    "    end\n",
    "end\n",
    "\n",
    "trees = unique(trees)"
   ]
  },
  {
   "cell_type": "code",
   "execution_count": 53,
   "metadata": {},
   "outputs": [],
   "source": [
    "# Write trees to a file, one per line\n",
    "open(\"../data/expressions.txt\", \"w\") do file\n",
    "    for tree in trees\n",
    "        println(file, string(tree))\n",
    "    end\n",
    "end\n"
   ]
  },
  {
   "cell_type": "code",
   "execution_count": 131,
   "metadata": {},
   "outputs": [],
   "source": [
    "# Read the expressions from the file\n",
    "expressions = String[]\n",
    "open(\"../data/expressions.txt\", \"r\") do file\n",
    "    for line in eachline(file)\n",
    "        push!(expressions, String(line))\n",
    "    end\n",
    "end"
   ]
  },
  {
   "cell_type": "code",
   "execution_count": 235,
   "metadata": {},
   "outputs": [],
   "source": [
    "function tree_to_seq(node::GraphNode, operators::OperatorEnum)\n",
    "    if node.constant\n",
    "        @info \"constant\"\n",
    "        return [string(node.val)]\n",
    "    elseif node.degree == 0  # Feature\n",
    "        @info \"feature\"\n",
    "        return [\"x\" * string(node.feature)]\n",
    "    elseif node.degree == 1  # Unary op\n",
    "        @info \"unary\"\n",
    "        return vcat([string(operators.unaops[node.op])], tree_to_seq(node.l, operators))\n",
    "    elseif node.degree == 2  # Binary op\n",
    "        @info \"binary\"\n",
    "        return vcat([string(operators.binops[node.op])], tree_to_seq(node.l, operators), tree_to_seq(node.r, operators))\n",
    "    end\n",
    "end\n",
    "for _ in 1:10000\n",
    "    seq = tree_to_seq(ex.tree, operators)\n",
    "end"
   ]
  },
  {
   "cell_type": "code",
   "execution_count": 246,
   "metadata": {},
   "outputs": [
    {
     "name": "stdout",
     "output_type": "stream",
     "text": [
      "[\"0.0\"]\n"
     ]
    }
   ],
   "source": [
    "function test(str::String, operators::OperatorEnum, variable_names::Vector{Symbol}, encoding::Vector{String})\n",
    "    expr = Meta.parse(str)\n",
    "    ex = parse_expression(expr, operators=operators, variable_names=variable_names, node_type=GraphNode)\n",
    "\n",
    "    # Parse tree into normal Polish (prefix) notation of fixed length (incl padding)\n",
    "    function tree_to_seq(node::GraphNode, operators::OperatorEnum)\n",
    "        if node.constant\n",
    "            @info \"constant\"\n",
    "            return [string(node.val)]\n",
    "        elseif node.degree == 0  # Feature\n",
    "            @info \"feature\"\n",
    "            return [\"x\" * string(node.feature)]\n",
    "        elseif node.degree == 1  # Unary op\n",
    "            @info \"unary\"\n",
    "            return vcat([string(operators.unaops[node.op])], tree_to_seq(node.l, operators))\n",
    "        elseif node.degree == 2  # Binary op\n",
    "            @info \"binary\"\n",
    "            return vcat([string(operators.binops[node.op])], tree_to_seq(node.l, operators), tree_to_seq(node.r, operators))\n",
    "        end\n",
    "    end\n",
    "    seq = tree_to_seq(ex.tree, operators)\n",
    "    println(seq)\n",
    "end\n"
   ]
  },
  {
   "cell_type": "code",
   "execution_count": 255,
   "metadata": {},
   "outputs": [
    {
     "name": "stdout",
     "output_type": "stream",
     "text": [
      "[\"2.519974064e-314\"]\n"
     ]
    }
   ],
   "source": [
    "test(expressions[1], operators, variable_names, encoding)"
   ]
  },
  {
   "cell_type": "code",
   "execution_count": null,
   "metadata": {},
   "outputs": [],
   "source": []
  },
  {
   "cell_type": "code",
   "execution_count": 233,
   "metadata": {},
   "outputs": [
    {
     "name": "stdout",
     "output_type": "stream",
     "text": [
      "(x1 - 0.125192826477114) + 0.43174347075339936\n",
      "[\"2.519974064e-314\"]\n",
      "[\"2.519974064e-314\", \"[PAD]\", \"[PAD]\", \"[PAD]\", \"[PAD]\", \"[PAD]\", \"[PAD]\", \"[PAD]\", \"[PAD]\", \"[PAD]\", \"[PAD]\"]\n",
      "[\"2.519974064e-314\", \"[PAD]\", \"[PAD]\", \"[PAD]\", \"[PAD]\", \"[PAD]\", \"[PAD]\", \"[PAD]\", \"[PAD]\", \"[PAD]\", \"[PAD]\"]\n"
     ]
    },
    {
     "ename": "AssertionError",
     "evalue": "AssertionError: Token 2.519974064e-314 not in encoding",
     "output_type": "error",
     "traceback": [
      "AssertionError: Token 2.519974064e-314 not in encoding\n",
      "\n",
      "Stacktrace:\n",
      " [1] str_to_onehot(str::String, operators::OperatorEnum{Tuple{typeof(+), typeof(-), typeof(*)}, Tuple{typeof(sin), typeof(exp)}}, variable_names::Vector{Symbol}, encoding::Vector{String})\n",
      "   @ Main ~/Desktop/Cranmer 2024/Workplace/smallMutations/similar-expressions/src/create_dataset.ipynb:56\n",
      " [2] top-level scope\n",
      "   @ ~/Desktop/Cranmer 2024/Workplace/smallMutations/similar-expressions/src/create_dataset.ipynb:66"
     ]
    }
   ],
   "source": [
    "max_node_cnt = 5\n",
    "seq_len = 2 * max_node_cnt + 1  # Worst case: linear binary tree with each node having two children (const + binary) and last binary has two const nodes\n",
    "operators = OperatorEnum(binary_operators=(+, -, *), unary_operators=(sin, exp))\n",
    "variable_names = [:x1]\n",
    "\n",
    "# Encoding for onehot matrix\n",
    "encoding = [string(op) for op in vcat(collect(operators.binops), collect(operators.unaops), variable_names)]\n",
    "push!(encoding, \"[NUM]\")\n",
    "push!(encoding, \"[PAD]\")\n",
    "\n",
    "\n",
    "function str_to_onehot(str::String, operators::OperatorEnum, variable_names::Vector{Symbol}, encoding::Vector{String})\n",
    "    # String to DynamicExpressions expression (incl tree)\n",
    "    expr = Meta.parse(str)\n",
    "    ex = parse_expression(expr, operators=operators, variable_names=variable_names, node_type=GraphNode)\n",
    "\n",
    "    # Parse tree into normal Polish (prefix) notation of fixed length (incl padding)\n",
    "    function tree_to_seq(node::GraphNode, operators::OperatorEnum)\n",
    "        if node.constant\n",
    "            @info \"constant\"\n",
    "            return [string(node.val)]\n",
    "        elseif node.degree == 0  # Feature\n",
    "            @info \"feature\"\n",
    "            return [\"x\" * string(node.feature)]\n",
    "        elseif node.degree == 1  # Unary op\n",
    "            @info \"unary\"\n",
    "            return vcat([string(operators.unaops[node.op])], tree_to_seq(node.l, operators))\n",
    "        elseif node.degree == 2  # Binary op\n",
    "            @info \"binary\"\n",
    "            return vcat([string(operators.binops[node.op])], tree_to_seq(node.l, operators), tree_to_seq(node.r, operators))\n",
    "        end\n",
    "    end\n",
    "    seq = tree_to_seq(ex.tree, operators)\n",
    "    println(seq)\n",
    "    seq = vcat(seq, repeat([\"[PAD]\"], seq_len - length(seq)))\n",
    "    println(seq)\n",
    "\n",
    "    # Parse sequence into onehot matrix with numerical values extracted into extra vector (which is part of matrix)\n",
    "\n",
    "    # This intermediate step replaces numbers with \"[NUM]\" and stores the numbers in a separate vector. Redunant but might become beneficial\n",
    "    seq_num = Vector{Float32}(undef, length(seq))\n",
    "    for (i, token) in enumerate(seq)\n",
    "        # Check if token is a number\n",
    "        if occursin(r\"^-?\\d+(\\.\\d+)?$\", token)\n",
    "            seq_num[i] = parse(Float32, token)\n",
    "            seq[i] = \"[NUM]\"\n",
    "        else\n",
    "            seq_num[i] = 0\n",
    "        end\n",
    "    end\n",
    "\n",
    "    println(seq)\n",
    "\n",
    "    onehot = zeros(Float32, length(encoding)+1, length(seq))\n",
    "    for (i, token) in enumerate(seq)\n",
    "        @assert token in encoding \"Token $token not in encoding\"\n",
    "        onehot[findfirst(==(token), encoding), i] = 1\n",
    "        if token == \"[NUM]\"\n",
    "            onehot[end, i] = seq_num[i]\n",
    "        end\n",
    "    end\n",
    "    return onehot\n",
    "end\n",
    "\n",
    "println(expressions[1])\n",
    "onehot = str_to_onehot(expressions[1], operators, variable_names, encoding)\n",
    "onehot"
   ]
  },
  {
   "cell_type": "code",
   "execution_count": 160,
   "metadata": {},
   "outputs": [
    {
     "name": "stdout",
     "output_type": "stream",
     "text": [
      "[\"+\", \"-\", \"*\", \"sin\", \"exp\", \"x1\", \"[NUM]\", \"[PAD]\"]\n",
      "Float32[1.0, 0.0, 0.0, 0.0, 0.0, 0.0, 0.0, 0.0, 0.0]\n",
      "Float32[1.0, 0.0, 0.0, 0.0, 0.0, 0.0, 0.0, 0.0, 0.0]\n",
      "Float32[0.0, 0.0, 1.0, 0.0, 0.0, 0.0, 0.0, 0.0, 0.0]\n",
      "Float32[0.0, 0.0, 0.0, 0.0, 0.0, 1.0, 0.0, 0.0, 0.0]\n",
      "Float32[0.0, 0.0, 0.0, 0.0, 0.0, 0.0, 1.0, 0.0, 0.44960538]\n",
      "Float32[0.0, 0.0, 0.0, 0.0, 0.0, 0.0, 1.0, 0.0, 0.60018736]\n",
      "Float32[0.0, 0.0, 0.0, 0.0, 0.0, 0.0, 1.0, 0.0, 0.8458093]\n",
      "Float32[0.0, 0.0, 0.0, 0.0, 0.0, 0.0, 0.0, 1.0, 0.0]\n",
      "Float32[0.0, 0.0, 0.0, 0.0, 0.0, 0.0, 0.0, 1.0, 0.0]\n",
      "Float32[0.0, 0.0, 0.0, 0.0, 0.0, 0.0, 0.0, 1.0, 0.0]\n",
      "Float32[0.0, 0.0, 0.0, 0.0, 0.0, 0.0, 0.0, 1.0, 0.0]\n"
     ]
    }
   ],
   "source": [
    "# Print onehot matrix incl column names\n",
    "function print_onehot(onehot)\n",
    "    println(encoding)\n",
    "    for i in 1:size(onehot, 2)\n",
    "        println(onehot[:, i])\n",
    "    end\n",
    "end\n",
    "print_onehot(onehot)"
   ]
  },
  {
   "cell_type": "code",
   "execution_count": 141,
   "metadata": {},
   "outputs": [
    {
     "data": {
      "text/plain": [
       "2-element Vector{String}:\n",
       " \"(x1 - 0.125192826477114) + 0.43174347075339936\"\n",
       " \"sin(exp(sin(x1) * 0.4609526466213322))\""
      ]
     },
     "metadata": {},
     "output_type": "display_data"
    }
   ],
   "source": [
    "expressions[1:2]"
   ]
  },
  {
   "cell_type": "code",
   "execution_count": 180,
   "metadata": {},
   "outputs": [
    {
     "name": "stdout",
     "output_type": "stream",
     "text": [
      "(x1 - 0.125192826477114) + 0.43174347075339936\n",
      "[\"2.225919638e-314\", \"[PAD]\", \"[PAD]\", \"[PAD]\", \"[PAD]\", \"[PAD]\", \"[PAD]\", \"[PAD]\", \"[PAD]\", \"[PAD]\", \"[PAD]\"]\n"
     ]
    },
    {
     "ename": "AssertionError",
     "evalue": "AssertionError: Token 2.225919638e-314 not in encoding",
     "output_type": "error",
     "traceback": [
      "AssertionError: Token 2.225919638e-314 not in encoding\n",
      "\n",
      "Stacktrace:\n",
      " [1] str_to_onehot(str::String, operators::OperatorEnum{Tuple{typeof(+), typeof(-), typeof(*)}, Tuple{typeof(sin), typeof(exp)}}, variable_names::Vector{Symbol}, encoding::Vector{String})\n",
      "   @ Main ~/Desktop/Cranmer 2024/Workplace/smallMutations/similar-expressions/src/create_dataset.ipynb:54\n",
      " [2] create_dataset(expressions::Vector{String}, operators::OperatorEnum{Tuple{typeof(+), typeof(-), typeof(*)}, Tuple{typeof(sin), typeof(exp)}}, variable_names::Vector{Symbol}, encoding::Vector{String})\n",
      "   @ Main ~/Desktop/Cranmer 2024/Workplace/smallMutations/similar-expressions/src/create_dataset.ipynb:10\n",
      " [3] top-level scope\n",
      "   @ ~/Desktop/Cranmer 2024/Workplace/smallMutations/similar-expressions/src/create_dataset.ipynb:17"
     ]
    }
   ],
   "source": [
    "# Apply str_to_onehot to each expression and create one large tensor\n",
    "function create_dataset(expressions, operators, variable_names, encoding)\n",
    "\n",
    "    # Initialize the tensor\n",
    "    dataset = zeros(Float32, length(encoding)+1, seq_len, length(expressions))\n",
    "    \n",
    "    # Fill the tensor\n",
    "    for (i, expr) in enumerate(expressions)\n",
    "        println(expr)\n",
    "        dataset[:, :, i] = str_to_onehot(expr, operators, variable_names, encoding)\n",
    "    end\n",
    "    \n",
    "    return dataset\n",
    "end\n",
    "\n",
    "# Create the dataset\n",
    "dataset = create_dataset([expressions[1]], operators, variable_names, encoding)\n",
    "\n",
    "# Print the shape of the resulting tensor\n",
    "println(\"Dataset shape: \", size(dataset))"
   ]
  },
  {
   "cell_type": "code",
   "execution_count": 14,
   "metadata": {},
   "outputs": [],
   "source": [
    "using Logging\n",
    "using IJulia\n",
    "\n",
    "# Create a custom logger that writes to the notebook output\n",
    "notebook_logger = IJulia.ConsoleLogger(IJulia.stdout, Logging.Warn)\n",
    "\n",
    "# Set the global logger to use the notebook logger\n",
    "global_logger(notebook_logger)\n",
    "\n",
    "@info \"test\""
   ]
  },
  {
   "cell_type": "code",
   "execution_count": 95,
   "metadata": {},
   "outputs": [
    {
     "data": {
      "text/plain": [
       "7×7 Matrix{Float32}:\n",
       " 1.0  0.0  0.0  0.0  1.0  0.0  0.0\n",
       " 0.0  0.0  1.0  0.0  0.0  0.0  0.0\n",
       " 0.0  0.0  0.0  0.0  0.0  0.0  0.0\n",
       " 0.0  0.0  0.0  0.0  0.0  0.0  0.0\n",
       " 0.0  0.0  0.0  0.0  0.0  0.0  1.0\n",
       " 0.0  1.0  0.0  1.0  0.0  1.0  0.0\n",
       " 0.0  2.0  0.0  3.0  0.0  5.0  0.0"
      ]
     },
     "metadata": {},
     "output_type": "display_data"
    }
   ],
   "source": [
    "onehot = zeros(Float32, length(encoding)+1, length(seq))\n",
    "for (i, token) in enumerate(seq)\n",
    "    onehot[findfirst(==(token), encoding), i] = 1\n",
    "    if token == \"[NUM]\"\n",
    "        onehot[end, i] = seq_num[i]\n",
    "    end\n",
    "end\n",
    "onehot"
   ]
  },
  {
   "cell_type": "markdown",
   "metadata": {},
   "source": [
    "### Use older SR.jl and DE.jl versions. Go directly from tree generation to onehot without intermediate str step"
   ]
  },
  {
   "cell_type": "code",
   "execution_count": 53,
   "metadata": {},
   "outputs": [
    {
     "data": {
      "text/plain": [
       "possibilities (generic function with 1 method)"
      ]
     },
     "metadata": {},
     "output_type": "display_data"
    }
   ],
   "source": [
    "using DynamicExpressions\n",
    "using StatsBase: sample, Weights\n",
    "\n",
    "function create_node((node_type, payload), operators::OperatorEnum)\n",
    "    if node_type == \"constant\"\n",
    "        return Node{Float64}(; val=rand(Float64))  # one(Float64)\n",
    "    elseif node_type == \"feature\"\n",
    "        return Node{Float64}(; feature=payload)\n",
    "    else\n",
    "        n = Node{Float64}()\n",
    "        degree = node_type == \"unary\" ? 1 : 2\n",
    "        n.degree = degree\n",
    "        n.constant = false\n",
    "        if degree == 1\n",
    "            @assert(\n",
    "                payload in eachindex(operators.unaops),\n",
    "                \"Could not find unary operator with index $payload\"\n",
    "            )\n",
    "        else\n",
    "            @assert(\n",
    "                payload in eachindex(operators.binops),\n",
    "                \"Could not find binary operator with index $payload\"\n",
    "            )\n",
    "        end\n",
    "        n.op = payload\n",
    "        return n\n",
    "    end\n",
    "end\n",
    "\n",
    "function create_tree(nodes::AbstractVector{Tuple{String,Int}}, operators::OperatorEnum)::Node\n",
    "    _create_tree!(copy(nodes), operators)\n",
    "end\n",
    "\n",
    "function _create_tree!(nodes::AbstractVector{Tuple{String,Int}}, operators::OperatorEnum)::Node\n",
    "    if isempty(nodes)\n",
    "        # Fallback is to simply return 1.0\n",
    "        return create_node((\"constant\", 0), operators)\n",
    "    end\n",
    "    new_root = create_node(popfirst!(nodes), operators)\n",
    "    if new_root.degree == 0\n",
    "        # Nothing to do\n",
    "    elseif new_root.degree == 1\n",
    "        new_root.l = _create_tree!(nodes, operators)\n",
    "    elseif new_root.degree == 2\n",
    "        new_root.l = _create_tree!(nodes, operators)\n",
    "        new_root.r = _create_tree!(nodes, operators)\n",
    "    else\n",
    "        error()\n",
    "    end\n",
    "    return new_root\n",
    "end\n",
    "\n",
    "function possibilities(n_features, operators::OperatorEnum)\n",
    "    possible_nodes = [\n",
    "        (\"binary\", i) for i in eachindex(operators.binops)\n",
    "    ]\n",
    "    append!(possible_nodes, [\n",
    "        (\"unary\", j) for j in eachindex(operators.unaops)\n",
    "    ])\n",
    "    append!(possible_nodes, [\n",
    "        (\"feature\", k) for k in 1:n_features\n",
    "    ])\n",
    "    append!(possible_nodes, [(\"constant\", 0)])\n",
    "    return possible_nodes\n",
    "end"
   ]
  },
  {
   "cell_type": "code",
   "execution_count": 54,
   "metadata": {},
   "outputs": [
    {
     "name": "stdout",
     "output_type": "stream",
     "text": [
      "[(\"binary\", 1), (\"binary\", 2), (\"binary\", 3), (\"unary\", 1), (\"unary\", 2), (\"feature\", 1), (\"constant\", 0)]\n",
      "[1.0, 1.0, 1.0, 0.5, 0.5, 2.0, 0.4]\n",
      "[1.0, 1.0, 1.0, 0.5, 0.5, 0.01, 0.0]\n"
     ]
    }
   ],
   "source": [
    "operators = OperatorEnum(binary_operators=(+, -, *), unary_operators=(sin, exp))\n",
    "num_features = 1\n",
    "node_types = possibilities(num_features, operators)\n",
    "println(node_types)\n",
    "\n",
    "weights = Weights([1, 1, 1, 0.5, 0.5, 2, 0.4])\n",
    "println(weights)\n",
    "\n",
    "weights_first = Weights([1, 1, 1, 0.5, 0.5, 0.01, 0])\n",
    "println(weights_first)"
   ]
  },
  {
   "cell_type": "code",
   "execution_count": 55,
   "metadata": {},
   "outputs": [
    {
     "data": {
      "text/plain": [
       "52568-element Vector{Any}:\n",
       " (x1 * 1.5883793909563968) - 0.05018838430294015\n",
       " x1 - exp(x1)\n",
       " x1 + 1.3273607784897687\n",
       " x1 - x1\n",
       " x1 * sin(x1 - 0.8478050523738035)\n",
       " x1 * sin(x1 * 0.9926585513644764)\n",
       " sin(x1)\n",
       " x1 * 0.007129792565842735\n",
       " x1 - (x1 + x1)\n",
       " (x1 + 0.027105777019746712) + 0.8523044948527446\n",
       " ⋮\n",
       " x1 * (x1 - 0.31330857936116474)\n",
       " ((x1 - x1) + 0.5222009241403515) + 0.7279472766667405\n",
       " exp(x1 - (x1 + 0.7311724776009595))\n",
       " ((x1 - x1) - 0.7308134763855079) * 0.1188677075324851\n",
       " ((x1 - 1.8668722946694833) + 0.35752874650552646) + 0.3368278888588794\n",
       " ((x1 + 1.0224859217038054) - 0.5168092179685329) + 0.2877963905705141\n",
       " x1 + (x1 - 0.47315278983161935)\n",
       " (x1 * 0.8200813489194786) * 0.8291529567896694\n",
       " (sin(x1) * x1) - 0.17428806088570314"
      ]
     },
     "metadata": {},
     "output_type": "display_data"
    }
   ],
   "source": [
    "# Sample list of nodes\n",
    "max_node_cnt = 5\n",
    "cnt = 100_000\n",
    "\n",
    "trees = []\n",
    "for _ in 1:cnt\n",
    "    # Make sure first node is not a constant\n",
    "    first_node = sample(node_types, weights_first, 1)\n",
    "    node_list = [first_node; sample(node_types, weights, max_node_cnt-1)]\n",
    "    tree = create_tree(node_list, operators)\n",
    "    # println(tree)\n",
    "    simplify_tree!(tree, operators)\n",
    "    # println(tree)\n",
    "    # println(\"-----------\")\n",
    "    if tree.degree > 0\n",
    "        push!(trees, tree)\n",
    "    end\n",
    "end\n",
    "\n",
    "trees = unique(trees)"
   ]
  },
  {
   "cell_type": "code",
   "execution_count": 56,
   "metadata": {},
   "outputs": [
    {
     "name": "stdout",
     "output_type": "stream",
     "text": [
      "(x1 * 1.5883793909563968) - 0.05018838430294015\n"
     ]
    },
    {
     "data": {
      "text/plain": [
       "9×11 Matrix{Float32}:\n",
       " 0.0  0.0  0.0  0.0      0.0        0.0  0.0  0.0  0.0  0.0  0.0\n",
       " 1.0  0.0  0.0  0.0      0.0        0.0  0.0  0.0  0.0  0.0  0.0\n",
       " 0.0  1.0  0.0  0.0      0.0        0.0  0.0  0.0  0.0  0.0  0.0\n",
       " 0.0  0.0  0.0  0.0      0.0        0.0  0.0  0.0  0.0  0.0  0.0\n",
       " 0.0  0.0  0.0  0.0      0.0        0.0  0.0  0.0  0.0  0.0  0.0\n",
       " 0.0  0.0  1.0  0.0      0.0        0.0  0.0  0.0  0.0  0.0  0.0\n",
       " 0.0  0.0  0.0  1.0      1.0        0.0  0.0  0.0  0.0  0.0  0.0\n",
       " 0.0  0.0  0.0  0.0      0.0        1.0  1.0  1.0  1.0  1.0  1.0\n",
       " 0.0  0.0  0.0  1.58838  0.0501884  0.0  0.0  0.0  0.0  0.0  0.0"
      ]
     },
     "metadata": {},
     "output_type": "display_data"
    }
   ],
   "source": [
    "seq_len = 2 * max_node_cnt + 1  # Worst case: linear binary tree with each node having two children (const + binary) and last binary has two const nodes\n",
    "operators = OperatorEnum(binary_operators=(+, -, *), unary_operators=(sin, exp))\n",
    "variable_names = [:x1]\n",
    "\n",
    "# Encoding for onehot matrix\n",
    "encoding = [string(op) for op in vcat(collect(operators.binops), collect(operators.unaops), variable_names)]\n",
    "push!(encoding, \"[NUM]\")\n",
    "push!(encoding, \"[PAD]\")\n",
    "\n",
    "\n",
    "function tree_to_onehot(tree::Node, operators::OperatorEnum, variable_names::Vector{Symbol}, encoding::Vector{String})\n",
    "    @assert !tree.constant \"Tree is constant. Tree: $tree\"\n",
    "\n",
    "    # Parse tree into normal Polish (prefix) notation of fixed length (incl padding)\n",
    "    function tree_to_seq(node::Node, operators::OperatorEnum)\n",
    "        if node.constant\n",
    "            @info \"constant\"\n",
    "            return [string(\"~\", node.val)]\n",
    "        elseif node.degree == 0  # Feature\n",
    "            @info \"feature\"\n",
    "            return [\"x\" * string(node.feature)]\n",
    "        elseif node.degree == 1  # Unary op\n",
    "            @info \"unary\"\n",
    "            return vcat([string(operators.unaops[node.op])], tree_to_seq(node.l, operators))\n",
    "        elseif node.degree == 2  # Binary op\n",
    "            @info \"binary\"\n",
    "            return vcat([string(operators.binops[node.op])], tree_to_seq(node.l, operators), tree_to_seq(node.r, operators))\n",
    "        end\n",
    "    end\n",
    "    seq = tree_to_seq(tree, operators)\n",
    "    # println(seq)\n",
    "    seq = vcat(seq, repeat([\"[PAD]\"], seq_len - length(seq)))\n",
    "    # println(seq)\n",
    "\n",
    "    # Parse sequence into onehot matrix with numerical values extracted into extra vector (which is part of matrix)\n",
    "\n",
    "    # This intermediate step replaces numbers with \"[NUM]\" and stores the numbers in a separate vector. Redunant but might become beneficial\n",
    "    seq_num = Vector{Float32}(undef, length(seq))\n",
    "    for (i, token) in enumerate(seq)\n",
    "        # Check if token is a number\n",
    "        if startswith(token, \"~\")\n",
    "            seq_num[i] = parse(Float32, token[2:end])\n",
    "            seq[i] = \"[NUM]\"\n",
    "        else\n",
    "            seq_num[i] = 0\n",
    "        end\n",
    "    end\n",
    "\n",
    "    # println(seq)\n",
    "\n",
    "    onehot = zeros(Float32, length(encoding)+1, length(seq))\n",
    "    for (i, token) in enumerate(seq)\n",
    "        @assert token in encoding \"Token $token not in encoding. Sequence: $seq. Tree: $tree. Const?: $(tree.constant)\"\n",
    "        onehot[findfirst(==(token), encoding), i] = 1\n",
    "        if token == \"[NUM]\"\n",
    "            onehot[end, i] = seq_num[i]\n",
    "        end\n",
    "    end\n",
    "    return onehot\n",
    "end\n",
    "\n",
    "println(trees[1])\n",
    "onehot = tree_to_onehot(trees[1], operators, variable_names, encoding)\n",
    "onehot"
   ]
  },
  {
   "cell_type": "code",
   "execution_count": 57,
   "metadata": {},
   "outputs": [
    {
     "ename": "AssertionError",
     "evalue": "AssertionError: Token 2.1837942978386593e-6 not in encoding. Sequence: [\"exp\", \"-\", \"[NUM]\", \"-\", \"x1\", \"2.1837942978386593e-6\", \"[PAD]\", \"[PAD]\", \"[PAD]\", \"[PAD]\", \"[PAD]\"]. Tree: exp(0.6079614079139909 - (x1 - 2.1837942978386593e-6)). Const?: false",
     "output_type": "error",
     "traceback": [
      "AssertionError: Token 2.1837942978386593e-6 not in encoding. Sequence: [\"exp\", \"-\", \"[NUM]\", \"-\", \"x1\", \"2.1837942978386593e-6\", \"[PAD]\", \"[PAD]\", \"[PAD]\", \"[PAD]\", \"[PAD]\"]. Tree: exp(0.6079614079139909 - (x1 - 2.1837942978386593e-6)). Const?: false\n",
      "\n",
      "Stacktrace:\n",
      " [1] tree_to_onehot(tree::Node{Float64}, operators::OperatorEnum{Tuple{typeof(+), typeof(-), typeof(*)}, Tuple{typeof(sin), typeof(exp)}}, variable_names::Vector{Symbol}, encoding::Vector{String})\n",
      "   @ Main ~/Desktop/Cranmer 2024/Workplace/smallMutations/similar-expressions/src/create_dataset.ipynb:51\n",
      " [2] create_dataset(trees::Vector{Any}, operators::OperatorEnum{Tuple{typeof(+), typeof(-), typeof(*)}, Tuple{typeof(sin), typeof(exp)}}, variable_names::Vector{Symbol}, encoding::Vector{String})\n",
      "   @ Main ~/Desktop/Cranmer 2024/Workplace/smallMutations/similar-expressions/src/create_dataset.ipynb:7\n",
      " [3] top-level scope\n",
      "   @ ~/Desktop/Cranmer 2024/Workplace/smallMutations/similar-expressions/src/create_dataset.ipynb:13"
     ]
    }
   ],
   "source": [
    "\n",
    "function create_dataset(trees, operators, variable_names, encoding)\n",
    "    dataset = zeros(Float32, length(encoding)+1, seq_len, length(trees))\n",
    "    for (i, tree) in enumerate(trees)\n",
    "        # println(tree)\n",
    "        # println(i)\n",
    "        dataset[:, :, i] = tree_to_onehot(tree, operators, variable_names, encoding)\n",
    "    end\n",
    "    return dataset\n",
    "end\n",
    "\n",
    "# Create the dataset\n",
    "dataset = create_dataset(trees, operators, variable_names, encoding)\n",
    "\n",
    "# Print the shape of the resulting tensor\n",
    "println(\"Dataset shape: \", size(dataset))"
   ]
  },
  {
   "cell_type": "code",
   "execution_count": 52,
   "metadata": {},
   "outputs": [
    {
     "data": {
      "text/plain": [
       "true"
      ]
     },
     "metadata": {},
     "output_type": "display_data"
    }
   ],
   "source": [
    "trees[3075].constant"
   ]
  }
 ],
 "metadata": {
  "kernelspec": {
   "display_name": "Julia 1.10.4",
   "language": "julia",
   "name": "julia-1.10"
  },
  "language_info": {
   "file_extension": ".jl",
   "mimetype": "application/julia",
   "name": "julia",
   "version": "1.10.4"
  }
 },
 "nbformat": 4,
 "nbformat_minor": 2
}
