{
 "cells": [
  {
   "cell_type": "code",
   "execution_count": 1,
   "metadata": {},
   "outputs": [],
   "source": [
    "# Add path\n",
    "import os\n",
    "import sys\n",
    "# project_root = os.path.dirname(os.path.abspath('..'))\n",
    "project_root = os.path.dirname(os.path.dirname(os.path.abspath('..')))\n",
    "sys.path.insert(0, project_root)\n",
    "sys.path.insert(0, os.path.join(project_root, 'model'))\n",
    "sys.path.insert(0, os.path.join(project_root, 'dataset_generation'))\n",
    "\n",
    "# Reload modules\n",
    "from importlib import reload"
   ]
  },
  {
   "cell_type": "code",
   "execution_count": 2,
   "metadata": {},
   "outputs": [
    {
     "name": "stderr",
     "output_type": "stream",
     "text": [
      "/cephfs/store/gr-mc2473/lc865/misc/condaforge/envs/ml/lib/python3.12/site-packages/onnxscript/converter.py:823: FutureWarning: 'onnxscript.values.Op.param_schemas' is deprecated in version 0.1 and will be removed in the future. Please use '.op_signature' instead.\n",
      "  param_schemas = callee.param_schemas()\n",
      "/cephfs/store/gr-mc2473/lc865/misc/condaforge/envs/ml/lib/python3.12/site-packages/onnxscript/converter.py:823: FutureWarning: 'onnxscript.values.OnnxFunction.param_schemas' is deprecated in version 0.1 and will be removed in the future. Please use '.op_signature' instead.\n",
      "  param_schemas = callee.param_schemas()\n"
     ]
    },
    {
     "name": "stdout",
     "output_type": "stream",
     "text": [
      "Imported model from run \"e51hcsb9\".\n",
      "  | Name    | Type    | Params | Mode\n",
      "-------------------------------------------\n",
      "0 | encoder | Encoder | 8.9 M  | eval\n",
      "1 | decoder | Decoder | 8.6 M  | eval\n",
      "-------------------------------------------\n",
      "17.5 M    Trainable params\n",
      "0         Non-trainable params\n",
      "17.5 M    Total params\n",
      "70.150    Total estimated model params size (MB)\n",
      "0         Modules in train mode\n",
      "78        Modules in eval mode\n"
     ]
    }
   ],
   "source": [
    "import torch\n",
    "from src.model.data_util import load_wandb_model, create_dataloader_from_wandb, data_from_loader\n",
    "\n",
    "# Load model and dataset\n",
    "run_id = 'e51hcsb9'\n",
    "model, cfg = load_wandb_model(run=run_id, name='epoch=57.ckpt', project='simexp-03', replace=True, fallback_cfg_path='../../model/config.yaml',\n",
    "                              wandb_cache_path='/cephfs/store/gr-mc2473/lc865/wandb_cache')\n",
    "# train_loader, valid_loader, info = create_dataloader_from_wandb(cfg)"
   ]
  },
  {
   "cell_type": "code",
   "execution_count": 3,
   "metadata": {},
   "outputs": [],
   "source": [
    "batch_size = 1\n",
    "syntax_shape = (batch_size, cfg.model.io_format.seq_len, cfg.model.io_format.token_cnt)\n",
    "x = torch.zeros(syntax_shape, dtype=torch.float32)\n",
    "sample_eps = 1e-3\n",
    "sample_count = 8\n",
    "input = {\n",
    "    'input_sample': x,\n",
    "    'sample_eps': sample_eps,\n",
    "    'sample_count': sample_count\n",
    "}"
   ]
  },
  {
   "cell_type": "code",
   "execution_count": 5,
   "metadata": {},
   "outputs": [
    {
     "name": "stdout",
     "output_type": "stream",
     "text": [
      "/mhome/damtp/q/lc865/workspace/similar-expressions/src/dev/ONNX/onnx-models/model-e51hcsb9.onnx\n"
     ]
    }
   ],
   "source": [
    "fpath = f'./onnx-models/model-{run_id}.onnx'\n",
    "print(os.path.abspath(fpath))\n"
   ]
  },
  {
   "cell_type": "code",
   "execution_count": 6,
   "metadata": {},
   "outputs": [],
   "source": [
    "fpath = f'./onnx-models/model-{run_id}.onnx'\n",
    "model.to_onnx(fpath, tuple(input.values()), export_params=True)"
   ]
  },
  {
   "cell_type": "markdown",
   "metadata": {},
   "source": [
    "## 2. Load model via ONNX"
   ]
  },
  {
   "cell_type": "code",
   "execution_count": 23,
   "metadata": {},
   "outputs": [],
   "source": [
    "input_arr = data_from_loader(train_loader, 'x', idx=0).detach().numpy()"
   ]
  },
  {
   "cell_type": "code",
   "execution_count": 31,
   "metadata": {},
   "outputs": [],
   "source": [
    "import onnxruntime\n",
    "import numpy as np\n",
    "\n",
    "ort_session = onnxruntime.InferenceSession(fpath)\n",
    "input_name = ort_session.get_inputs()[0].name\n",
    "sample_eps_name = ort_session.get_inputs()[1].name\n",
    "ort_inputs = {input_name: input_arr, sample_eps_name: np.array([sample_eps], dtype=np.float64)}\n",
    "ort_outs = ort_session.run(None, ort_inputs)"
   ]
  },
  {
   "cell_type": "code",
   "execution_count": 19,
   "metadata": {},
   "outputs": [
    {
     "name": "stdout",
     "output_type": "stream",
     "text": [
      "(1, 32)\n",
      "(1, 32)\n",
      "(1, 32)\n",
      "(1, 15, 14)\n",
      "(1, 100)\n"
     ]
    }
   ],
   "source": [
    "for a in ort_outs:\n",
    "    print(a.shape)"
   ]
  },
  {
   "cell_type": "code",
   "execution_count": 39,
   "metadata": {},
   "outputs": [
    {
     "data": {
      "image/png": "[encoded data removed]",
      "text/plain": [
       "<Figure size 640x480 with 2 Axes>"
      ]
     },
     "metadata": {},
     "output_type": "display_data"
    }
   ],
   "source": [
    "from matplotlib import pyplot as plt\n",
    "\n",
    "plt.imshow(torch.tensor(ort_outs[3].squeeze()[:, :-1]).softmax(dim=-1).detach().numpy())\n",
    "plt.colorbar()\n",
    "plt.show()"
   ]
  }
 ],
 "metadata": {
  "kernelspec": {
   "display_name": "ml",
   "language": "python",
   "name": "python3"
  },
  "language_info": {
   "codemirror_mode": {
    "name": "ipython",
    "version": 3
   },
   "file_extension": ".py",
   "mimetype": "text/x-python",
   "name": "python",
   "nbconvert_exporter": "python",
   "pygments_lexer": "ipython3",
   "version": "3.12.7"
  }
 },
 "nbformat": 4,
 "nbformat_minor": 2
}
