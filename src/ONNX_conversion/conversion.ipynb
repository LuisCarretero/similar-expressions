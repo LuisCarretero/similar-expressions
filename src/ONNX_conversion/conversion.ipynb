{
 "cells": [
  {
   "cell_type": "code",
   "execution_count": 4,
   "metadata": {},
   "outputs": [],
   "source": [
    "# Add path\n",
    "import os\n",
    "import sys\n",
    "project_root = os.path.dirname(os.path.abspath('..'))\n",
    "# project_root = os.path.dirname(os.path.dirname(os.path.abspath('..')))\n",
    "sys.path.insert(0, project_root)\n",
    "sys.path.insert(0, os.path.join(project_root, 'model'))\n",
    "sys.path.insert(0, os.path.join(project_root, 'dataset_generation'))"
   ]
  },
  {
   "cell_type": "code",
   "execution_count": 6,
   "metadata": {},
   "outputs": [
    {
     "name": "stderr",
     "output_type": "stream",
     "text": [
      "/cephfs/store/gr-mc2473/lc865/misc/condaforge/envs/ml/lib/python3.12/site-packages/onnxscript/converter.py:823: FutureWarning: 'onnxscript.values.Op.param_schemas' is deprecated in version 0.1 and will be removed in the future. Please use '.op_signature' instead.\n",
      "  param_schemas = callee.param_schemas()\n",
      "/cephfs/store/gr-mc2473/lc865/misc/condaforge/envs/ml/lib/python3.12/site-packages/onnxscript/converter.py:823: FutureWarning: 'onnxscript.values.OnnxFunction.param_schemas' is deprecated in version 0.1 and will be removed in the future. Please use '.op_signature' instead.\n",
      "  param_schemas = callee.param_schemas()\n",
      "Fontconfig error: Cannot load default config file: No such file: (null)\n",
      "\u001b[34m\u001b[1mwandb\u001b[0m: Using wandb-core as the SDK backend. Please refer to https://wandb.me/wandb-core for more information.\n",
      "\u001b[34m\u001b[1mwandb\u001b[0m: Logging into wandb.ai. (Learn how to deploy a W&B server locally: https://wandb.me/wandb-server)\n",
      "\u001b[34m\u001b[1mwandb\u001b[0m: You can find your API key in your browser here: https://wandb.ai/authorize\n",
      "\u001b[34m\u001b[1mwandb\u001b[0m: Paste an API key from your profile and hit enter, or press ctrl+c to quit:\u001b[34m\u001b[1mwandb\u001b[0m: Appending key for api.wandb.ai to your netrc file: /cephfs/home/lc865/.netrc\n",
      "/cephfs/home/lc865/workspace/similar-expressions/src/utils/dataset_dev.py:45: FutureWarning: You are using `torch.load` with `weights_only=False` (the current default value), which uses the default pickle module implicitly. It is possible to construct malicious pickle data which will execute arbitrary code during unpickling (See https://github.com/pytorch/pytorch/blob/main/SECURITY.md#untrusted-models for more details). In a future release, the default value for `weights_only` will be flipped to `True`. This limits the functions that could be executed during unpickling. Arbitrary objects will no longer be allowed to be loaded via this mode unless they are explicitly allowlisted by the user via `torch.serialization.add_safe_globals`. We recommend you start setting `weights_only=True` for any use case where you don't have full control of the loaded file. Please open an issue on GitHub for any issues related to this experimental feature.\n",
      "  checkpoint = torch.load(model_fname, map_location=device)\n"
     ]
    },
    {
     "name": "stdout",
     "output_type": "stream",
     "text": [
      "dict_keys(['encoder.mlp.net.0.weight', 'encoder.mlp.net.0.bias', 'encoder.mlp.net.2.weight', 'encoder.mlp.net.2.bias', 'encoder.mlp.net.2.running_mean', 'encoder.mlp.net.2.running_var', 'encoder.mlp.net.2.num_batches_tracked', 'encoder.mlp.net.3.block.0.weight', 'encoder.mlp.net.3.block.0.bias', 'encoder.mlp.net.3.block.2.weight', 'encoder.mlp.net.3.block.2.bias', 'encoder.mlp.net.3.block.2.running_mean', 'encoder.mlp.net.3.block.2.running_var', 'encoder.mlp.net.3.block.2.num_batches_tracked', 'encoder.mlp.net.3.block.3.weight', 'encoder.mlp.net.3.block.3.bias', 'encoder.mlp.net.3.block.5.weight', 'encoder.mlp.net.3.block.5.bias', 'encoder.mlp.net.3.block.5.running_mean', 'encoder.mlp.net.3.block.5.running_var', 'encoder.mlp.net.3.block.5.num_batches_tracked', 'encoder.mlp.net.4.block.0.weight', 'encoder.mlp.net.4.block.0.bias', 'encoder.mlp.net.4.block.2.weight', 'encoder.mlp.net.4.block.2.bias', 'encoder.mlp.net.4.block.2.running_mean', 'encoder.mlp.net.4.block.2.running_var', 'encoder.mlp.net.4.block.2.num_batches_tracked', 'encoder.mlp.net.4.block.3.weight', 'encoder.mlp.net.4.block.3.bias', 'encoder.mlp.net.4.block.5.weight', 'encoder.mlp.net.4.block.5.bias', 'encoder.mlp.net.4.block.5.running_mean', 'encoder.mlp.net.4.block.5.running_var', 'encoder.mlp.net.4.block.5.num_batches_tracked', 'encoder.mlp.net.5.block.0.weight', 'encoder.mlp.net.5.block.0.bias', 'encoder.mlp.net.5.block.2.weight', 'encoder.mlp.net.5.block.2.bias', 'encoder.mlp.net.5.block.2.running_mean', 'encoder.mlp.net.5.block.2.running_var', 'encoder.mlp.net.5.block.2.num_batches_tracked', 'encoder.mlp.net.5.block.3.weight', 'encoder.mlp.net.5.block.3.bias', 'encoder.mlp.net.5.block.5.weight', 'encoder.mlp.net.5.block.5.bias', 'encoder.mlp.net.5.block.5.running_mean', 'encoder.mlp.net.5.block.5.running_var', 'encoder.mlp.net.5.block.5.num_batches_tracked', 'encoder.mlp.net.6.block.0.weight', 'encoder.mlp.net.6.block.0.bias', 'encoder.mlp.net.6.block.2.weight', 'encoder.mlp.net.6.block.2.bias', 'encoder.mlp.net.6.block.2.running_mean', 'encoder.mlp.net.6.block.2.running_var', 'encoder.mlp.net.6.block.2.num_batches_tracked', 'encoder.mlp.net.6.block.3.weight', 'encoder.mlp.net.6.block.3.bias', 'encoder.mlp.net.6.block.5.weight', 'encoder.mlp.net.6.block.5.bias', 'encoder.mlp.net.6.block.5.running_mean', 'encoder.mlp.net.6.block.5.running_var', 'encoder.mlp.net.6.block.5.num_batches_tracked', 'encoder.mlp.net.7.weight', 'encoder.mlp.net.7.bias', 'encoder.mu.weight', 'encoder.mu.bias', 'encoder.sigma.weight', 'encoder.sigma.bias', 'decoder.mlp.net.0.weight', 'decoder.mlp.net.0.bias', 'decoder.mlp.net.2.weight', 'decoder.mlp.net.2.bias', 'decoder.mlp.net.2.running_mean', 'decoder.mlp.net.2.running_var', 'decoder.mlp.net.2.num_batches_tracked', 'decoder.mlp.net.3.block.0.weight', 'decoder.mlp.net.3.block.0.bias', 'decoder.mlp.net.3.block.2.weight', 'decoder.mlp.net.3.block.2.bias', 'decoder.mlp.net.3.block.2.running_mean', 'decoder.mlp.net.3.block.2.running_var', 'decoder.mlp.net.3.block.2.num_batches_tracked', 'decoder.mlp.net.3.block.3.weight', 'decoder.mlp.net.3.block.3.bias', 'decoder.mlp.net.3.block.5.weight', 'decoder.mlp.net.3.block.5.bias', 'decoder.mlp.net.3.block.5.running_mean', 'decoder.mlp.net.3.block.5.running_var', 'decoder.mlp.net.3.block.5.num_batches_tracked', 'decoder.mlp.net.4.block.0.weight', 'decoder.mlp.net.4.block.0.bias', 'decoder.mlp.net.4.block.2.weight', 'decoder.mlp.net.4.block.2.bias', 'decoder.mlp.net.4.block.2.running_mean', 'decoder.mlp.net.4.block.2.running_var', 'decoder.mlp.net.4.block.2.num_batches_tracked', 'decoder.mlp.net.4.block.3.weight', 'decoder.mlp.net.4.block.3.bias', 'decoder.mlp.net.4.block.5.weight', 'decoder.mlp.net.4.block.5.bias', 'decoder.mlp.net.4.block.5.running_mean', 'decoder.mlp.net.4.block.5.running_var', 'decoder.mlp.net.4.block.5.num_batches_tracked', 'decoder.mlp.net.5.block.0.weight', 'decoder.mlp.net.5.block.0.bias', 'decoder.mlp.net.5.block.2.weight', 'decoder.mlp.net.5.block.2.bias', 'decoder.mlp.net.5.block.2.running_mean', 'decoder.mlp.net.5.block.2.running_var', 'decoder.mlp.net.5.block.2.num_batches_tracked', 'decoder.mlp.net.5.block.3.weight', 'decoder.mlp.net.5.block.3.bias', 'decoder.mlp.net.5.block.5.weight', 'decoder.mlp.net.5.block.5.bias', 'decoder.mlp.net.5.block.5.running_mean', 'decoder.mlp.net.5.block.5.running_var', 'decoder.mlp.net.5.block.5.num_batches_tracked', 'decoder.mlp.net.6.block.0.weight', 'decoder.mlp.net.6.block.0.bias', 'decoder.mlp.net.6.block.2.weight', 'decoder.mlp.net.6.block.2.bias', 'decoder.mlp.net.6.block.2.running_mean', 'decoder.mlp.net.6.block.2.running_var', 'decoder.mlp.net.6.block.2.num_batches_tracked', 'decoder.mlp.net.6.block.3.weight', 'decoder.mlp.net.6.block.3.bias', 'decoder.mlp.net.6.block.5.weight', 'decoder.mlp.net.6.block.5.bias', 'decoder.mlp.net.6.block.5.running_mean', 'decoder.mlp.net.6.block.5.running_var', 'decoder.mlp.net.6.block.5.num_batches_tracked', 'decoder.mlp.net.7.weight', 'decoder.mlp.net.7.bias'])\n",
      "Imported model from run \"e51hcsb9\".\n",
      "  | Name    | Type    | Params | Mode\n",
      "-------------------------------------------\n",
      "0 | encoder | Encoder | 8.9 M  | eval\n",
      "1 | decoder | Decoder | 8.6 M  | eval\n",
      "-------------------------------------------\n",
      "17.5 M    Trainable params\n",
      "0         Non-trainable params\n",
      "17.5 M    Total params\n",
      "70.150    Total estimated model params size (MB)\n",
      "0         Modules in train mode\n",
      "81        Modules in eval mode\n"
     ]
    }
   ],
   "source": [
    "import torch\n",
    "from pathlib import Path\n",
    "from src.utils.dataset_dev import load_wandb_model, dataloader_from_wandb_cfg, data_from_loader\n",
    "\n",
    "# Load model and dataset\n",
    "run_id = 'e51hcsb9'\n",
    "model, cfg = load_wandb_model(run=run_id, name='epoch=57.ckpt', project='simexp-03', replace=True, fallback_cfg_path='../train/config.yaml',\n",
    "                              wandb_cache_path='/cephfs/store/gr-mc2473/lc865/wandb_cache')\n",
    "# /cephfs/store/gr-mc2473/lc865/wandb_cache"
   ]
  },
  {
   "cell_type": "code",
   "execution_count": 7,
   "metadata": {},
   "outputs": [],
   "source": [
    "batch_size = 1\n",
    "syntax_shape = (batch_size, cfg.model.io_format.seq_len, cfg.model.io_format.token_cnt)\n",
    "x = torch.zeros(syntax_shape, dtype=torch.float32)\n",
    "sample_eps = 1e-3\n",
    "sample_count = 8\n",
    "input = {\n",
    "    'input_sample': x,\n",
    "    'sample_eps': sample_eps,\n",
    "    'sample_count': sample_count\n",
    "}"
   ]
  },
  {
   "cell_type": "code",
   "execution_count": 9,
   "metadata": {},
   "outputs": [
    {
     "name": "stdout",
     "output_type": "stream",
     "text": [
      "/cephfs/home/lc865/workspace/similar-expressions/src/ONNX_conversion/onnx-models/model-e51hcsb9.onnx\n"
     ]
    }
   ],
   "source": [
    "fpath = f'./onnx-models/model-{run_id}.onnx'\n",
    "print(os.path.abspath(fpath))"
   ]
  },
  {
   "cell_type": "code",
   "execution_count": null,
   "metadata": {},
   "outputs": [],
   "source": [
    "fpath = Path(f'./onnx-models/model-{run_id}.onnx')\n",
    "if not fpath.exists():  # Make sure we don't overwrite files\n",
    "    if not fpath.parent.exists():\n",
    "        fpath.parent.mkdir(parents=True, exist_ok=True)\n",
    "    model.to_onnx(fpath, tuple(input.values()), export_params=True)"
   ]
  },
  {
   "cell_type": "markdown",
   "metadata": {},
   "source": [
    "## 2. Load model via ONNX"
   ]
  },
  {
   "cell_type": "code",
   "execution_count": 13,
   "metadata": {},
   "outputs": [
    {
     "name": "stdout",
     "output_type": "stream",
     "text": [
      "Warning: Using different dataset than used for training.\n",
      "Using dataset \"dataset_250110_2\" of size 900\n",
      "DataLoader Summary\n",
      "---------------------------------------------------------------------\n",
      "  | Train        | Size: 900     | Batch: 512   | Batches: 1    \n",
      "  | valid        | Size: 100     | Batch: 512   | Batches: 0    \n",
      "---------------------------------------------------------------------\n"
     ]
    }
   ],
   "source": [
    "train_loader, valid_loader, info = dataloader_from_wandb_cfg(\n",
    "    cfg, \n",
    "    datapath='/cephfs/store/gr-mc2473/lc865/workspace/data/',\n",
    "    max_length=1000, \n",
    "    allow_different_dataset_hash=True\n",
    ")\n",
    "input_arr = data_from_loader(train_loader, 'x', idx=0).detach().numpy()"
   ]
  },
  {
   "cell_type": "code",
   "execution_count": 25,
   "metadata": {},
   "outputs": [
    {
     "data": {
      "text/plain": [
       "(16, 15, 12)"
      ]
     },
     "execution_count": 25,
     "metadata": {},
     "output_type": "execute_result"
    }
   ],
   "source": [
    "import onnxruntime\n",
    "import numpy as np\n",
    "\n",
    "sample_eps, sample_count = 1e-1, 16\n",
    "\n",
    "ort_session = onnxruntime.InferenceSession(fpath)\n",
    "ort_inputs = {\n",
    "    ort_session.get_inputs()[0].name: input_arr, \n",
    "    ort_session.get_inputs()[1].name: np.array([sample_eps], dtype=np.float64),\n",
    "    ort_session.get_inputs()[2].name: np.array([sample_count], dtype=np.int64)\n",
    "}\n",
    "ort_outs = ort_session.run(None, ort_inputs)\n",
    "ort_outs[0].shape"
   ]
  },
  {
   "cell_type": "code",
   "execution_count": 24,
   "metadata": {},
   "outputs": [
    {
     "data": {
      "image/png": "[encoded data removed]",
      "text/plain": [
       "<Figure size 640x480 with 2 Axes>"
      ]
     },
     "metadata": {},
     "output_type": "display_data"
    }
   ],
   "source": [
    "from matplotlib import pyplot as plt\n",
    "\n",
    "i = 6\n",
    "plt.imshow(torch.tensor(ort_outs[0][i].squeeze()[:, :-1]).softmax(dim=-1).detach().numpy())\n",
    "plt.colorbar()\n",
    "plt.show()"
   ]
  },
  {
   "cell_type": "code",
   "execution_count": null,
   "metadata": {},
   "outputs": [],
   "source": []
  }
 ],
 "metadata": {
  "kernelspec": {
   "display_name": "simexpr-arm64",
   "language": "python",
   "name": "python3"
  },
  "language_info": {
   "codemirror_mode": {
    "name": "ipython",
    "version": 3
   },
   "file_extension": ".py",
   "mimetype": "text/x-python",
   "name": "python",
   "nbconvert_exporter": "python",
   "pygments_lexer": "ipython3",
   "version": "3.12.4"
  }
 },
 "nbformat": 4,
 "nbformat_minor": 2
}
