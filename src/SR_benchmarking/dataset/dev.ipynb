{
 "cells": [
  {
   "cell_type": "code",
   "execution_count": 4,
   "id": "b22b558c",
   "metadata": {},
   "outputs": [
    {
     "data": {
      "text/html": [
       "<div>\n",
       "<style scoped>\n",
       "    .dataframe tbody tr th:only-of-type {\n",
       "        vertical-align: middle;\n",
       "    }\n",
       "\n",
       "    .dataframe tbody tr th {\n",
       "        vertical-align: top;\n",
       "    }\n",
       "\n",
       "    .dataframe thead th {\n",
       "        text-align: right;\n",
       "    }\n",
       "</style>\n",
       "<table border=\"1\" class=\"dataframe\">\n",
       "  <thead>\n",
       "    <tr style=\"text-align: right;\">\n",
       "      <th></th>\n",
       "      <th>true_complexity</th>\n",
       "      <th>true_equation</th>\n",
       "      <th>true_stdev</th>\n",
       "      <th>found_loss</th>\n",
       "      <th>found_equation</th>\n",
       "    </tr>\n",
       "  </thead>\n",
       "  <tbody>\n",
       "    <tr>\n",
       "      <th>1</th>\n",
       "      <td>26</td>\n",
       "      <td>(0.889758134323455 - cos((-0.5579692881660584...</td>\n",
       "      <td>355.518202</td>\n",
       "      <td>22329.841090</td>\n",
       "      <td>(((1.8677049149506384 - cos(x2 - cos(x1 - 0.5...</td>\n",
       "    </tr>\n",
       "    <tr>\n",
       "      <th>101</th>\n",
       "      <td>27</td>\n",
       "      <td>((log(x4) + 0.028516294341771057) + (x5 / (-1...</td>\n",
       "      <td>11.905102</td>\n",
       "      <td>2.187014</td>\n",
       "      <td>((x2 + -0.3138700622409988) * ((cos((cos(x3) ...</td>\n",
       "    </tr>\n",
       "    <tr>\n",
       "      <th>201</th>\n",
       "      <td>13</td>\n",
       "      <td>cos(x2 * cos(x1)) / (sqrt(x1) + (x1 - cos(x2)...</td>\n",
       "      <td>1.464725</td>\n",
       "      <td>0.419142</td>\n",
       "      <td>((0.018038988000511288 / (x1 + -0.35516868232...</td>\n",
       "    </tr>\n",
       "    <tr>\n",
       "      <th>301</th>\n",
       "      <td>20</td>\n",
       "      <td>(exp(exp(x1 / -0.6026808576490582) + cos(x2 /...</td>\n",
       "      <td>6.421801</td>\n",
       "      <td>0.119451</td>\n",
       "      <td>(((sqrt(log(((1.363540084423274 / x1) / x1) +...</td>\n",
       "    </tr>\n",
       "    <tr>\n",
       "      <th>401</th>\n",
       "      <td>27</td>\n",
       "      <td>cos(cos(x1 / (-1.3927370953533718 / (x1 + x1)...</td>\n",
       "      <td>43.328103</td>\n",
       "      <td>0.040674</td>\n",
       "      <td>(((cos((2.8720197127507587 * (x1 * x1)) - -3....</td>\n",
       "    </tr>\n",
       "  </tbody>\n",
       "</table>\n",
       "</div>"
      ],
      "text/plain": [
       "     true_complexity                                      true_equation  \\\n",
       "1                 26   (0.889758134323455 - cos((-0.5579692881660584...   \n",
       "101               27   ((log(x4) + 0.028516294341771057) + (x5 / (-1...   \n",
       "201               13   cos(x2 * cos(x1)) / (sqrt(x1) + (x1 - cos(x2)...   \n",
       "301               20   (exp(exp(x1 / -0.6026808576490582) + cos(x2 /...   \n",
       "401               27   cos(cos(x1 / (-1.3927370953533718 / (x1 + x1)...   \n",
       "\n",
       "     true_stdev    found_loss  \\\n",
       "1    355.518202  22329.841090   \n",
       "101   11.905102      2.187014   \n",
       "201    1.464725      0.419142   \n",
       "301    6.421801      0.119451   \n",
       "401   43.328103      0.040674   \n",
       "\n",
       "                                        found_equation  \n",
       "1     (((1.8677049149506384 - cos(x2 - cos(x1 - 0.5...  \n",
       "101   ((x2 + -0.3138700622409988) * ((cos((cos(x3) ...  \n",
       "201   ((0.018038988000511288 / (x1 + -0.35516868232...  \n",
       "301   (((sqrt(log(((1.363540084423274 / x1) / x1) +...  \n",
       "401   (((cos((2.8720197127507587 * (x1 * x1)) - -3....  "
      ]
     },
     "execution_count": 4,
     "metadata": {},
     "output_type": "execute_result"
    }
   ],
   "source": [
    "import pandas as pd\n",
    "\n",
    "df = pd.read_csv('/cephfs/home/lc865/workspace/similar-expressions/src/SR_benchmarking/dataset/PySR-difficultEquations.csv')\n",
    "\n",
    "df.iloc[[1, 101, 201, 301, 401]]"
   ]
  },
  {
   "cell_type": "code",
   "execution_count": 5,
   "id": "6a38e556",
   "metadata": {},
   "outputs": [
    {
     "data": {
      "text/plain": [
       "(3361, 5)"
      ]
     },
     "execution_count": 5,
     "metadata": {},
     "output_type": "execute_result"
    }
   ],
   "source": [
    "df.shape"
   ]
  }
 ],
 "metadata": {
  "kernelspec": {
   "display_name": "ml",
   "language": "python",
   "name": "python3"
  },
  "language_info": {
   "codemirror_mode": {
    "name": "ipython",
    "version": 3
   },
   "file_extension": ".py",
   "mimetype": "text/x-python",
   "name": "python",
   "nbconvert_exporter": "python",
   "pygments_lexer": "ipython3",
   "version": "3.12.7"
  }
 },
 "nbformat": 4,
 "nbformat_minor": 5
}
