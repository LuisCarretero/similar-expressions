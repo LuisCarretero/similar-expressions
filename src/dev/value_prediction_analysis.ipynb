{
 "cells": [
  {
   "cell_type": "code",
   "execution_count": 1,
   "metadata": {},
   "outputs": [
    {
     "data": {
      "text/plain": [
       "<module 'data_util' from '/Users/luis/Desktop/Cranmer2024/Workplace/smallMutations/similar-expressions/src/model/data_util.py'>"
      ]
     },
     "execution_count": 1,
     "metadata": {},
     "output_type": "execute_result"
    }
   ],
   "source": [
    "# Add path\n",
    "import os\n",
    "import sys\n",
    "project_root = os.path.dirname(os.path.abspath(''))\n",
    "sys.path.insert(0, project_root)\n",
    "sys.path.insert(0, os.path.join(project_root, 'model'))\n",
    "sys.path.insert(0, os.path.join(project_root, 'dataset_generation'))\n",
    "\n",
    "# Reload modules\n",
    "from importlib import reload\n",
    "import util\n",
    "import model\n",
    "import value_decoder\n",
    "import decoder\n",
    "import encoder\n",
    "import data_util\n",
    "import grammar\n",
    "reload(grammar)\n",
    "reload(util)\n",
    "reload(model)\n",
    "reload(value_decoder)\n",
    "reload(decoder)\n",
    "reload(encoder)\n",
    "reload(data_util)"
   ]
  },
  {
   "cell_type": "code",
   "execution_count": 2,
   "metadata": {},
   "outputs": [
    {
     "data": {
      "text/plain": [
       "<torch.autograd.grad_mode.set_grad_enabled at 0x14fbefe00>"
      ]
     },
     "execution_count": 2,
     "metadata": {},
     "output_type": "execute_result"
    }
   ],
   "source": [
    "import torch\n",
    "import numpy as np\n",
    "import sympy as sp\n",
    "import pandas as pd\n",
    "from parsing import prods_to_prefix, logits_to_prefix, logits_to_prods, eval_from_logits\n",
    "from data_util import load_wandb_model, create_dataloader_from_wandb, data_from_loader\n",
    "from debug_util import plot_var_distributions, plot_latent_distribution\n",
    "from matplotlib import pyplot as plt\n",
    "from typing import Union, List, Dict\n",
    "torch.manual_seed(42)\n",
    "torch.set_grad_enabled(False)"
   ]
  },
  {
   "cell_type": "code",
   "execution_count": 55,
   "metadata": {},
   "outputs": [
    {
     "name": "stdout",
     "output_type": "stream",
     "text": [
      "Imported model from run \"o2qjaymk\".\n",
      "  | Name          | Type         | Params | Mode\n",
      "------------------------------------------------------\n",
      "0 | encoder       | Encoder      | 18.6 M | eval\n",
      "1 | decoder       | Decoder      | 38.6 K | eval\n",
      "2 | value_decoder | ValueDecoder | 95.3 K | eval\n",
      "------------------------------------------------------\n",
      "18.7 M    Trainable params\n",
      "0         Non-trainable params\n",
      "18.7 M    Total params\n",
      "74.856    Total estimated model params size (MB)\n",
      "0         Modules in train mode\n",
      "24        Modules in eval mode\n",
      "Using dataset \"dataset_241008_1\" of size 629985\n",
      "DataLoader Summary\n",
      "---------------------------------------------------------------------\n",
      "  | Train        | Size: 629985  | Batch: 2048  | Batches: 308  \n",
      "  | valid        | Size: 69998   | Batch: 2048  | Batches: 35   \n",
      "---------------------------------------------------------------------\n"
     ]
    }
   ],
   "source": [
    "# Load model and dataset\n",
    "\n",
    "# luis-carretero-eth-zurich/simexp-03/qy3u03or\n",
    "\n",
    "model, cfg = load_wandb_model(run='o2qjaymk', name='last.ckpt', project='simexp-03')\n",
    "train_loader, test_loader, info = create_dataloader_from_wandb(cfg)\n",
    "val_x, syntax_cats, value_transform = info['val_x'], info['syntax_cats'], info['value_transform']"
   ]
  },
  {
   "cell_type": "code",
   "execution_count": 38,
   "metadata": {},
   "outputs": [
    {
     "name": "stdout",
     "output_type": "stream",
     "text": [
      "Imported model from run \"qy3u03or\".\n",
      "  | Name          | Type         | Params | Mode\n",
      "------------------------------------------------------\n",
      "0 | encoder       | Encoder      | 18.5 M | eval\n",
      "1 | decoder       | Decoder      | 19.4 K | eval\n",
      "2 | value_decoder | ValueDecoder | 45.9 K | eval\n",
      "------------------------------------------------------\n",
      "18.6 M    Trainable params\n",
      "0         Non-trainable params\n",
      "18.6 M    Total params\n",
      "74.319    Total estimated model params size (MB)\n",
      "0         Modules in train mode\n",
      "20        Modules in eval mode\n"
     ]
    }
   ],
   "source": [
    "model2, _ = load_wandb_model(run='qy3u03or', name='last.ckpt', project='simexp-03')"
   ]
  },
  {
   "cell_type": "markdown",
   "metadata": {},
   "source": [
    "Idea:\n",
    "- Check prediction error of n different models and see if the same expressions are predicted poorly by all models.\n"
   ]
  },
  {
   "cell_type": "code",
   "execution_count": 39,
   "metadata": {},
   "outputs": [],
   "source": [
    "# Predict values from syntax\n",
    "\n",
    "N = 2**16\n",
    "BATCH_SIZE = 2**15\n",
    "data_loader = train_loader\n",
    "\n",
    "values_true = data_from_loader(data_loader, 'values', max_length=N)\n",
    "x = data_from_loader(data_loader, 'x', max_length=N)\n",
    "values_pred = torch.empty(N, model.cfg.model.io_format.val_points)\n",
    "# values_pred2 = torch.empty(N, model2.cfg.model.io_format.val_points)\n",
    "for i, x in enumerate(data_from_loader(data_loader, 'x', batch_size=BATCH_SIZE, max_length=N)):\n",
    "    mean, ln_var = model.encoder(x)\n",
    "    values_pred[i*BATCH_SIZE:(i+1)*BATCH_SIZE, :] = model.value_decoder(mean)\n",
    "    # mean2, ln_var2 = model2.encoder(x)\n",
    "    # values_pred2[i*BATCH_SIZE:(i+1)*BATCH_SIZE, :] = model2.value_decoder(mean2)"
   ]
  },
  {
   "cell_type": "code",
   "execution_count": 40,
   "metadata": {},
   "outputs": [],
   "source": [
    "loss = torch.nn.MSELoss(reduction='none')\n",
    "mse = loss(values_true, values_pred).mean(dim=1)\n",
    "mse2 = loss(values_true, values_pred2).mean(dim=1)"
   ]
  },
  {
   "cell_type": "code",
   "execution_count": 54,
   "metadata": {},
   "outputs": [
    {
     "name": "stdout",
     "output_type": "stream",
     "text": [
      "Confusion Matrix:\n",
      "GG: 65475  FB: 29\n",
      "BF: 17  BB: 15\n"
     ]
    }
   ],
   "source": [
    "# Calculate correlation coefficient between MSE of both models within interval [0.05, 1]\n",
    "\n",
    "threshold = 0.2\n",
    "is_bad = mse > threshold\n",
    "is_bad2 = mse2 > threshold\n",
    "\n",
    "# Create confusion matrix\n",
    "confusion = np.zeros((2, 2))\n",
    "confusion[0,0] = ((~is_bad) & (~is_bad2)).sum()  #\n",
    "confusion[0,1] = ((~is_bad) & is_bad2).sum()     # False positives \n",
    "confusion[1,0] = (is_bad & (~is_bad2)).sum()     # False negatives\n",
    "confusion[1,1] = (is_bad & is_bad2).sum()        # True positives\n",
    "\n",
    "print(\"Confusion Matrix:\")\n",
    "print(f\"GG: {confusion[0,0]:.0f}  FB: {confusion[0,1]:.0f}\")\n",
    "print(f\"BF: {confusion[1,0]:.0f}  BB: {confusion[1,1]:.0f}\")\n"
   ]
  },
  {
   "cell_type": "code",
   "execution_count": null,
   "metadata": {},
   "outputs": [],
   "source": [
    "mask = (mse >= 0.05) & (mse <= 1) & (mse2 >= 0.05) & (mse2 <= 1)\n",
    "correlation = np.corrcoef(mse[mask], mse2[mask])[0,1]\n",
    "print(f\"Correlation coefficient between model MSEs (0.05 <= MSE <= 1): {correlation:.3f}\")\n"
   ]
  },
  {
   "cell_type": "code",
   "execution_count": 45,
   "metadata": {},
   "outputs": [
    {
     "name": "stderr",
     "output_type": "stream",
     "text": [
      "/var/folders/kn/k8zt16ss511gp4m6y14ttn840000gn/T/ipykernel_28116/1999721159.py:3: RuntimeWarning: invalid value encountered in divide\n",
      "  hist = hist / hist.sum(axis=0, keepdims=True)  # Normalize columns\n"
     ]
    },
    {
     "data": {
      "image/png": "[encoded data removed]",
      "text/plain": [
       "<Figure size 640x480 with 2 Axes>"
      ]
     },
     "metadata": {},
     "output_type": "display_data"
    }
   ],
   "source": [
    "# Normalize each column by dividing by column sums\n",
    "hist, xedges, yedges = np.histogram2d(mse, mse2, bins=100)\n",
    "hist = hist / hist.sum(axis=0, keepdims=True)  # Normalize columns\n",
    "\n",
    "plt.pcolormesh(xedges, yedges, hist.T)  # Transpose to match hist2d orientation\n",
    "plt.colorbar(label='Normalized Frequency')\n",
    "plt.xlabel('MSE Model 1')\n",
    "plt.ylabel('MSE Model 2') \n",
    "plt.show()"
   ]
  },
  {
   "cell_type": "code",
   "execution_count": 37,
   "metadata": {},
   "outputs": [
    {
     "data": {
      "image/png": "[encoded data removed]",
      "text/plain": [
       "<Figure size 800x300 with 2 Axes>"
      ]
     },
     "metadata": {},
     "output_type": "display_data"
    }
   ],
   "source": [
    "loss = torch.nn.MSELoss(reduction='none')\n",
    "mse = loss(values_true, values_pred).mean(dim=1)\n",
    "\n",
    "fig, (ax1, ax2) = plt.subplots(1, 2, figsize=(8, 3))\n",
    "\n",
    "# Regular histogram\n",
    "vals, bin_edges = np.histogram(mse, bins=100)\n",
    "ax1.step(bin_edges[:-1], vals, where='post')\n",
    "ax1.set_yscale('log')\n",
    "ax1.set_title('Distribution (log scale)')\n",
    "ax1.set_xlabel('MSE')\n",
    "ax1.set_ylabel('Count')\n",
    "\n",
    "# Cumulative histogram\n",
    "vals, bin_edges = np.histogram(mse, bins=100)\n",
    "vals = np.insert(vals, 0, 0)\n",
    "ax2.step(bin_edges, np.cumsum(vals))\n",
    "ax2.set_title('Cumulative Distribution')\n",
    "ax2.set_xlabel('MSE')\n",
    "ax2.set_ylabel('Count')\n",
    "\n",
    "\n",
    "plt.tight_layout()\n",
    "plt.show()\n"
   ]
  },
  {
   "cell_type": "code",
   "execution_count": null,
   "metadata": {},
   "outputs": [],
   "source": []
  }
 ],
 "metadata": {
  "kernelspec": {
   "display_name": "simexpr-arm64",
   "language": "python",
   "name": "python3"
  },
  "language_info": {
   "codemirror_mode": {
    "name": "ipython",
    "version": 3
   },
   "file_extension": ".py",
   "mimetype": "text/x-python",
   "name": "python",
   "nbconvert_exporter": "python",
   "pygments_lexer": "ipython3",
   "version": "3.12.4"
  }
 },
 "nbformat": 4,
 "nbformat_minor": 2
}
