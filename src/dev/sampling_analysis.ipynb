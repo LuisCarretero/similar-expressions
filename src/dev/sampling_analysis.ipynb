{
 "cells": [
  {
   "cell_type": "markdown",
   "metadata": {},
   "source": [
    "## Aim: Understand distribution of samples in training set (and subsequently in neighbourhoods of latent space)\n"
   ]
  },
  {
   "cell_type": "code",
   "execution_count": 19,
   "metadata": {},
   "outputs": [
    {
     "data": {
      "text/plain": [
       "<module 'data_util' from '/Users/luis/Desktop/Cranmer2024/Workplace/smallMutations/similar-expressions/src/model/data_util.py'>"
      ]
     },
     "execution_count": 19,
     "metadata": {},
     "output_type": "execute_result"
    }
   ],
   "source": [
    "# Add path\n",
    "import os\n",
    "import sys\n",
    "project_root = os.path.dirname(os.path.abspath(''))\n",
    "sys.path.insert(0, project_root)\n",
    "sys.path.insert(0, os.path.join(project_root, 'model'))\n",
    "sys.path.insert(0, os.path.join(project_root, 'dataset_generation'))\n",
    "\n",
    "# Reload modules\n",
    "from importlib import reload\n",
    "import util\n",
    "import model\n",
    "import value_decoder\n",
    "import decoder\n",
    "import encoder\n",
    "import data_util\n",
    "reload(util)\n",
    "reload(model)\n",
    "reload(value_decoder)\n",
    "reload(decoder)\n",
    "reload(encoder)\n",
    "reload(data_util)"
   ]
  },
  {
   "cell_type": "code",
   "execution_count": 20,
   "metadata": {},
   "outputs": [
    {
     "name": "stdout",
     "output_type": "stream",
     "text": [
      "Imported model from run \"om4vbk2m\".\n",
      "  | Name          | Type         | Params | Mode\n",
      "------------------------------------------------------\n",
      "0 | encoder       | Encoder      | 8.9 M  | eval\n",
      "1 | decoder       | Decoder      | 6.6 M  | eval\n",
      "2 | value_decoder | ValueDecoder | 6.4 M  | eval\n",
      "------------------------------------------------------\n",
      "21.9 M    Trainable params\n",
      "0         Non-trainable params\n",
      "21.9 M    Total params\n",
      "87.677    Total estimated model params size (MB)\n",
      "0         Modules in train mode\n",
      "101       Modules in eval mode\n",
      "Using dataset \"dataset_241127_2\" of size 1868052\n",
      "DataLoader Summary\n",
      "---------------------------------------------------------------------\n",
      "  | Train        | Size: 1868052 | Batch: 512   | Batches: 3649 \n",
      "  | valid        | Size: 207561  | Batch: 512   | Batches: 406  \n",
      "---------------------------------------------------------------------\n"
     ]
    }
   ],
   "source": [
    "import torch\n",
    "import numpy as np\n",
    "import sympy as sp\n",
    "import pandas as pd\n",
    "from data_util import load_wandb_model, create_dataloader_from_wandb, data_from_loader\n",
    "from debug_util import plot_var_distributions, plot_latent_distribution\n",
    "from matplotlib import pyplot as plt\n",
    "from typing import Union, List, Dict\n",
    "from tqdm import tqdm\n",
    "torch.manual_seed(42)\n",
    "torch.set_grad_enabled(False)\n",
    "\n",
    "# Load model and dataset\n",
    "model, cfg = load_wandb_model(run='om4vbk2m', name='last.ckpt', project='simexp-03', replace=True, fallback_cfg_path='../model/config.yaml') # NB: This model is pre-normalisation introduction so local fallback config is used for these values.\n",
    "train_loader, test_loader, info = create_dataloader_from_wandb(cfg)\n",
    "val_x, syntax_cats, value_transform = info['val_x'], info['syntax_cats'], info['value_transform']"
   ]
  },
  {
   "cell_type": "markdown",
   "metadata": {},
   "source": [
    "### 1. Check distribution of samples around a single sample (in y space)\n",
    "\n",
    "- Take single sample from training set and compare the other samples to it (in y)\n",
    "- Repeat for multiple samples to be more robust\n",
    "- Using dataloaders from wandb run (easiest for now)"
   ]
  },
  {
   "cell_type": "code",
   "execution_count": 21,
   "metadata": {},
   "outputs": [
    {
     "data": {
      "image/png": "[encoded data removed]",
      "text/plain": [
       "<Figure size 640x480 with 1 Axes>"
      ]
     },
     "metadata": {},
     "output_type": "display_data"
    }
   ],
   "source": [
    "target_idx = 4\n",
    "data_loader = train_loader  # FIXME: Only works with train_loader currently...\n",
    "values_target = data_from_loader(data_loader, 'values', idx=target_idx)  \n",
    "\n",
    "plt.plot(val_x.squeeze(), values_target.squeeze().detach().numpy())\n",
    "plt.title('Target function')\n",
    "plt.xlabel('x')\n",
    "plt.ylabel('y')\n",
    "plt.show()"
   ]
  },
  {
   "cell_type": "code",
   "execution_count": 22,
   "metadata": {},
   "outputs": [
    {
     "name": "stderr",
     "output_type": "stream",
     "text": [
      "100%|██████████| 28/28 [00:06<00:00,  4.41it/s]\n"
     ]
    }
   ],
   "source": [
    "# Calculate MSE to target for all samples in training set\n",
    "\n",
    "N = 2**21\n",
    "BATCH_SIZE = 2**16\n",
    "data_loader = train_loader\n",
    "\n",
    "N = (min(len(data_loader.dataset), N) // BATCH_SIZE) * BATCH_SIZE  # Round down to nearest batch size\n",
    "dist_y = torch.ones(N)\n",
    "for i, values in tqdm(enumerate(data_from_loader(data_loader, 'values', batch_size=BATCH_SIZE, max_length=N)), total=N//BATCH_SIZE):\n",
    "    assert values.isnan().sum() == 0, 'NaN values in dataset'\n",
    "    dist_y[i*BATCH_SIZE:(i+1)*BATCH_SIZE] = torch.mean((values - values_target)**2, dim=1)  # MSE\n",
    "\n",
    "mse_sorted = pd.Series(dist_y).sort_values()"
   ]
  },
  {
   "cell_type": "code",
   "execution_count": 23,
   "metadata": {},
   "outputs": [
    {
     "data": {
      "text/plain": [
       "tensor(94862)"
      ]
     },
     "execution_count": 23,
     "metadata": {},
     "output_type": "execute_result"
    }
   ],
   "source": [
    "(dist_y > 1).sum()\n"
   ]
  },
  {
   "cell_type": "code",
   "execution_count": 24,
   "metadata": {},
   "outputs": [
    {
     "data": {
      "text/plain": [
       "np.int64(1094823)"
      ]
     },
     "execution_count": 24,
     "metadata": {},
     "output_type": "execute_result"
    }
   ],
   "source": [
    "mse_sorted.index[-1]"
   ]
  },
  {
   "cell_type": "code",
   "execution_count": 25,
   "metadata": {},
   "outputs": [
    {
     "data": {
      "text/plain": [
       "[<matplotlib.lines.Line2D at 0x312e9e420>]"
      ]
     },
     "execution_count": 25,
     "metadata": {},
     "output_type": "execute_result"
    },
    {
     "data": {
      "image/png": "[encoded data removed]",
      "text/plain": [
       "<Figure size 640x480 with 1 Axes>"
      ]
     },
     "metadata": {},
     "output_type": "display_data"
    }
   ],
   "source": [
    "plt.plot(data_from_loader(data_loader, 'values', idx=mse_sorted.index[-1]).squeeze().detach().numpy())"
   ]
  },
  {
   "cell_type": "code",
   "execution_count": 7,
   "metadata": {},
   "outputs": [
    {
     "data": {
      "image/png": "[encoded data removed]",
      "text/plain": [
       "<Figure size 640x480 with 1 Axes>"
      ]
     },
     "metadata": {},
     "output_type": "display_data"
    }
   ],
   "source": [
    "# Plot distribution of MSEs\n",
    "plt.hist(dist_y.detach().numpy(), bins=100)\n",
    "plt.xlabel('MSE')\n",
    "plt.ylabel('Count')\n",
    "plt.yscale('log')\n",
    "plt.show()\n"
   ]
  },
  {
   "cell_type": "code",
   "execution_count": 14,
   "metadata": {},
   "outputs": [
    {
     "data": {
      "application/vnd.jupyter.widget-view+json": {
       "model_id": "63f541ebc49a45fdb9347b02d8ab4fd6",
       "version_major": 2,
       "version_minor": 0
      },
      "text/plain": [
       "interactive(children=(FloatLogSlider(value=3e-05, continuous_update=False, description='MSE Target:', max=12.0…"
      ]
     },
     "execution_count": 14,
     "metadata": {},
     "output_type": "execute_result"
    }
   ],
   "source": [
    "# Plot sample with a specific MSE to target (to get an idea for meaning of magnitude of MSE)\n",
    "\n",
    "import ipywidgets as widgets\n",
    "\n",
    "mse_wanted = widgets.FloatLogSlider(\n",
    "    value=3e-5,\n",
    "    min=-7,\n",
    "    max=12,\n",
    "    step=0.1,\n",
    "    description='MSE Target:',\n",
    "    continuous_update=False\n",
    ")\n",
    "\n",
    "max_mse = widgets.FloatLogSlider(\n",
    "    value=1e-3, \n",
    "    min=-7,\n",
    "    max=12,\n",
    "    step=0.1,\n",
    "    description='Max MSE:',\n",
    "    continuous_update=False\n",
    ")\n",
    "\n",
    "def update_plot(mse_target, mse_max):\n",
    "    idx = (pd.Series(dist_y) - mse_target).abs().idxmin()\n",
    "    \n",
    "    fig, (ax1, ax2) = plt.subplots(1, 2, figsize=(12, 5))\n",
    "    \n",
    "    # Left subplot - histogram\n",
    "    counts, bins = np.histogram(dist_y.detach().numpy(), bins=100, range=(0, mse_max))\n",
    "    ax1.bar(bins[:-1], counts, width=np.diff(bins), align='edge')\n",
    "    ax1.axvline(x=mse_target, color='r', linestyle='--')\n",
    "    ax1.set_yscale('log')\n",
    "    ax1.set_xlabel('MSE')\n",
    "    ax1.set_ylabel('Count')\n",
    "    \n",
    "    # Right subplot - function comparison\n",
    "    ax2.plot(val_x.squeeze(), values_target.squeeze().detach().numpy(), label='Target', color='r')\n",
    "    ax2.plot(val_x.squeeze(), data_from_loader(data_loader, 'values', idx=idx).squeeze().detach().numpy(), \n",
    "             label=f'MSE: {dist_y.detach().numpy()[idx]:.2e}')\n",
    "    ax2.set_xlabel('x')\n",
    "    ax2.set_ylabel('y')\n",
    "    ax2.legend()\n",
    "    \n",
    "    plt.tight_layout()\n",
    "    plt.show()\n",
    "\n",
    "widgets.interactive(update_plot, \n",
    "                   mse_target=mse_wanted,\n",
    "                   mse_max=max_mse)"
   ]
  }
 ],
 "metadata": {
  "kernelspec": {
   "display_name": "simexpr-arm64",
   "language": "python",
   "name": "python3"
  },
  "language_info": {
   "codemirror_mode": {
    "name": "ipython",
    "version": 3
   },
   "file_extension": ".py",
   "mimetype": "text/x-python",
   "name": "python",
   "nbconvert_exporter": "python",
   "pygments_lexer": "ipython3",
   "version": "3.12.4"
  }
 },
 "nbformat": 4,
 "nbformat_minor": 2
}
