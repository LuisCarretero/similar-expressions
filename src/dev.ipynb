{
 "cells": [
  {
   "cell_type": "markdown",
   "metadata": {},
   "source": [
    "Tokenization and encoding"
   ]
  },
  {
   "cell_type": "code",
   "execution_count": 10,
   "metadata": {},
   "outputs": [
    {
     "data": {
      "text/plain": [
       "'(x1 - 0.125192826477114) + 0.43174347075339936'"
      ]
     },
     "execution_count": 10,
     "metadata": {},
     "output_type": "execute_result"
    }
   ],
   "source": [
    "with open('../data/expressions.txt') as f:\n",
    "    data = list(map(lambda x: x.rstrip('\\n'), f.readlines()))\n",
    "\n",
    "data[0]"
   ]
  },
  {
   "cell_type": "code",
   "execution_count": 14,
   "metadata": {},
   "outputs": [
    {
     "data": {
      "text/latex": [
       "$\\displaystyle \\sin{\\left(e^{0.4609526466213322 \\sin{\\left(x_{1} \\right)}} \\right)}$"
      ],
      "text/plain": [
       "sin(exp(0.4609526466213322*sin(x1)))"
      ]
     },
     "execution_count": 14,
     "metadata": {},
     "output_type": "execute_result"
    }
   ],
   "source": [
    "import sympy as sp\n",
    "\n",
    "expr = sp.parse_expr(data[1])\n",
    "expr"
   ]
  },
  {
   "cell_type": "code",
   "execution_count": 22,
   "metadata": {},
   "outputs": [
    {
     "name": "stdout",
     "output_type": "stream",
     "text": [
      "Expression: sin(exp(0.4609526466213322*sin(x1)))\n",
      "Type: sin\n",
      "Class: sin\n",
      "Arguments: (exp(0.4609526466213322*sin(x1)),)\n",
      "Free symbols: {x1}\n",
      "Is atomic: False\n",
      "Function: sin\n",
      "Is commutative: True\n",
      "Is real: None\n",
      "Is integer: None\n",
      "Is rational: None\n",
      "Is algebraic: None\n",
      "Is transcendental: None\n",
      "\n",
      "Expression structure:\n"
     ]
    },
    {
     "ename": "AttributeError",
     "evalue": "'sin' object has no attribute 'structurally_equal'",
     "output_type": "error",
     "traceback": [
      "\u001b[0;31m---------------------------------------------------------------------------\u001b[0m",
      "\u001b[0;31mAttributeError\u001b[0m                            Traceback (most recent call last)",
      "Cell \u001b[0;32mIn[22], line 32\u001b[0m\n\u001b[1;32m     30\u001b[0m \u001b[38;5;66;03m# Get the structure of the expression\u001b[39;00m\n\u001b[1;32m     31\u001b[0m \u001b[38;5;28mprint\u001b[39m(\u001b[38;5;124m\"\u001b[39m\u001b[38;5;130;01m\\n\u001b[39;00m\u001b[38;5;124mExpression structure:\u001b[39m\u001b[38;5;124m\"\u001b[39m)\n\u001b[0;32m---> 32\u001b[0m \u001b[38;5;28mprint\u001b[39m(\u001b[43mexpr\u001b[49m\u001b[38;5;241;43m.\u001b[39;49m\u001b[43mstructurally_equal\u001b[49m(expr, check_numerics\u001b[38;5;241m=\u001b[39m\u001b[38;5;28;01mFalse\u001b[39;00m))\n\u001b[1;32m     34\u001b[0m \u001b[38;5;66;03m# If it's an operation, get the operation type\u001b[39;00m\n\u001b[1;32m     35\u001b[0m \u001b[38;5;28;01mif\u001b[39;00m \u001b[38;5;28mhasattr\u001b[39m(expr, \u001b[38;5;124m'\u001b[39m\u001b[38;5;124mis_Add\u001b[39m\u001b[38;5;124m'\u001b[39m) \u001b[38;5;129;01mand\u001b[39;00m expr\u001b[38;5;241m.\u001b[39mis_Add:\n",
      "\u001b[0;31mAttributeError\u001b[0m: 'sin' object has no attribute 'structurally_equal'"
     ]
    }
   ],
   "source": [
    "# Get all properties of expr\n",
    "print(\"Expression:\", expr)\n",
    "print(\"Type:\", type(expr))\n",
    "print(\"Class:\", expr.__class__)\n",
    "print(\"Arguments:\", expr.args)\n",
    "print(\"Free symbols:\", expr.free_symbols)\n",
    "print(\"Is atomic:\", expr.is_Atom)\n",
    "\n",
    "if hasattr(expr, 'func'):\n",
    "    print(\"Function:\", expr.func)\n",
    "\n",
    "if hasattr(expr, 'is_commutative'):\n",
    "    print(\"Is commutative:\", expr.is_commutative)\n",
    "\n",
    "if hasattr(expr, 'is_real'):\n",
    "    print(\"Is real:\", expr.is_real)\n",
    "\n",
    "if hasattr(expr, 'is_integer'):\n",
    "    print(\"Is integer:\", expr.is_integer)\n",
    "\n",
    "if hasattr(expr, 'is_rational'):\n",
    "    print(\"Is rational:\", expr.is_rational)\n",
    "\n",
    "if hasattr(expr, 'is_algebraic'):\n",
    "    print(\"Is algebraic:\", expr.is_algebraic)\n",
    "\n",
    "if hasattr(expr, 'is_transcendental'):\n",
    "    print(\"Is transcendental:\", expr.is_transcendental)\n",
    "\n",
    "# Get the structure of the expression\n",
    "print(\"\\nExpression structure:\")\n",
    "print(expr.structurally_equal(expr, check_numerics=False))\n",
    "\n",
    "# If it's an operation, get the operation type\n",
    "if hasattr(expr, 'is_Add') and expr.is_Add:\n",
    "    print(\"Operation: Addition\")\n",
    "elif hasattr(expr, 'is_Mul') and expr.is_Mul:\n",
    "    print(\"Operation: Multiplication\")\n",
    "elif hasattr(expr, 'is_Pow') and expr.is_Pow:\n",
    "    print(\"Operation: Exponentiation\")\n",
    "\n",
    "# If it's a function, get the function name\n",
    "if hasattr(expr, 'func') and expr.func != expr.__class__:\n",
    "    print(\"Function name:\", expr.func.__name__)\n",
    "\n",
    "\n"
   ]
  },
  {
   "cell_type": "code",
   "execution_count": 26,
   "metadata": {},
   "outputs": [
    {
     "data": {
      "text/plain": [
       "1"
      ]
     },
     "execution_count": 26,
     "metadata": {},
     "output_type": "execute_result"
    }
   ],
   "source": [
    "a = ['sin', 'cos', 'tan', 'exp', 'log']\n",
    "a.index('cos')"
   ]
  },
  {
   "cell_type": "code",
   "execution_count": 23,
   "metadata": {},
   "outputs": [
    {
     "name": "stdout",
     "output_type": "stream",
     "text": [
      "Operator: <class 'sympy.core.mul.Mul'>\n",
      "Traversing: 1/y\n",
      "Operator: <class 'sympy.core.power.Pow'>\n",
      "Traversing: y\n",
      "Operator: <class 'sympy.core.symbol.Symbol'>\n",
      "Reached leaf node: y\n",
      "Traversing: -1\n",
      "Operator: <class 'sympy.core.numbers.NegativeOne'>\n",
      "Reached leaf node: -1\n",
      "Reached compound node: 1/y\n",
      "Traversing: sin(pi*a*x + 1.5)\n",
      "Operator: sin\n",
      "Traversing: pi*a*x + 1.5\n",
      "Operator: <class 'sympy.core.add.Add'>\n",
      "Traversing: 1.50000000000000\n",
      "Operator: <class 'sympy.core.numbers.Float'>\n",
      "Reached leaf node: 1.50000000000000\n",
      "Traversing: pi*a*x\n",
      "Operator: <class 'sympy.core.mul.Mul'>\n",
      "Traversing: pi\n",
      "Operator: <class 'sympy.core.numbers.Pi'>\n",
      "Reached leaf node: pi\n",
      "Traversing: a\n",
      "Operator: <class 'sympy.core.symbol.Symbol'>\n",
      "Reached leaf node: a\n",
      "Traversing: x\n",
      "Operator: <class 'sympy.core.symbol.Symbol'>\n",
      "Reached leaf node: x\n",
      "Reached compound node: pi*a*x\n",
      "Reached compound node: pi*a*x + 1.5\n",
      "Reached compound node: sin(pi*a*x + 1.5)\n",
      "Reached compound node: sin(pi*a*x + 1.5)/y\n"
     ]
    }
   ],
   "source": [
    "from sympy import pi, sin\n",
    "from sympy.abc import a,x,y\n",
    "\n",
    "# Turn into prefix notation first\n",
    "# Then 1-hot encode with xVal\n",
    "\n",
    "def depth_first_traverse(expr):\n",
    "    print(f'Operator: {expr.func}')\n",
    "    for arg in expr.args:\n",
    "        print(f'Traversing: {arg}')\n",
    "        depth_first_traverse(arg)\n",
    "    if len(expr.args) == 0:\n",
    "        # we reached a leaf of the tree\n",
    "        print(f'Reached leaf node: {expr}')\n",
    "    else:\n",
    "        # do something with compound expr\n",
    "        print(f'Reached compound node: {expr}')\n",
    "depth_first_traverse(sin(a*x*pi+1.5)/y)\n",
    "\n",
    "\n"
   ]
  },
  {
   "cell_type": "code",
   "execution_count": 28,
   "metadata": {},
   "outputs": [
    {
     "data": {
      "text/latex": [
       "$\\displaystyle \\frac{\\sin{\\left(\\pi a x + 1.5 \\right)}}{y}$"
      ],
      "text/plain": [
       "sin(pi*a*x + 1.5)/y"
      ]
     },
     "execution_count": 28,
     "metadata": {},
     "output_type": "execute_result"
    }
   ],
   "source": [
    "sp.parse_expr('sin(a*x*pi+1.5)/y')"
   ]
  },
  {
   "cell_type": "code",
   "execution_count": 45,
   "metadata": {},
   "outputs": [],
   "source": [
    "import h5py\n",
    "\n",
    "# Load the dataset\n",
    "with h5py.File('../data/dataset.h5', 'r') as f:\n",
    "    dataset = f['dataset'][()]\n",
    "    encoding = f['encoding'][()]\n",
    "    encoding = [str(token)[2:-1] for token in encoding]"
   ]
  },
  {
   "cell_type": "markdown",
   "metadata": {},
   "source": [
    "#### Decoding and evaluation"
   ]
  },
  {
   "cell_type": "code",
   "execution_count": 61,
   "metadata": {},
   "outputs": [],
   "source": [
    "import sympy\n",
    "\n",
    "# Decode the onehot matrix into seq\n",
    "def onehot_to_seq(onehot_matrix):\n",
    "    seq = []\n",
    "    for i, token_id in enumerate(onehot_matrix[:, :-1].argmax(axis=1)):\n",
    "        if encoding[token_id] == '[PAD]':\n",
    "            break\n",
    "        elif encoding[token_id] == '[NUM]':\n",
    "            seq.append(str(onehot_matrix[i, -1]))\n",
    "        else:\n",
    "            seq.append(encoding[token_id])\n",
    "    return seq\n",
    "\n",
    "def seq_to_infix(prefix):\n",
    "    stack = []\n",
    "    \n",
    "    # read prefix in reverse order\n",
    "    i = len(prefix) - 1\n",
    "    while i >= 0:\n",
    "        if not is_operator(prefix[i]):\n",
    "            stack.append(prefix[i])\n",
    "            i -= 1\n",
    "        else:\n",
    "            str = \"(\" + stack.pop() + prefix[i] + stack.pop() + \")\"\n",
    "            stack.append(str)\n",
    "            i -= 1\n",
    "    return stack.pop()\n",
    "\n",
    "def is_operator(c):\n",
    "    if c == \"*\" or c == \"+\" or c == \"-\" or c == \"/\" or c == \"^\" or c == \"(\" or c == \")\":\n",
    "        return True\n",
    "    else:\n",
    "        return False"
   ]
  },
  {
   "cell_type": "code",
   "execution_count": 65,
   "metadata": {},
   "outputs": [
    {
     "name": "stdout",
     "output_type": "stream",
     "text": [
      "1.5883794*x1 - 0.050188385\n"
     ]
    }
   ],
   "source": [
    "onehot_matrix = dataset[0, ...]\n",
    "seq = onehot_to_seq(onehot_matrix)\n",
    "infix_str = seq_to_infix(seq)\n",
    "expr = sympy.parse_expr(infix_str)\n",
    "\n",
    "print(expr)\n",
    "# evaluated_expr = expr.evalf(subs={'x1': 1})"
   ]
  }
 ],
 "metadata": {
  "kernelspec": {
   "display_name": "small-mutations",
   "language": "python",
   "name": "python3"
  },
  "language_info": {
   "codemirror_mode": {
    "name": "ipython",
    "version": 3
   },
   "file_extension": ".py",
   "mimetype": "text/x-python",
   "name": "python",
   "nbconvert_exporter": "python",
   "pygments_lexer": "ipython3",
   "version": "3.12.4"
  }
 },
 "nbformat": 4,
 "nbformat_minor": 2
}
