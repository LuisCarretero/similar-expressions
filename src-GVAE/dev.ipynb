{
 "cells": [
  {
   "cell_type": "markdown",
   "metadata": {},
   "source": [
    "### Fixing decoder"
   ]
  },
  {
   "cell_type": "code",
   "execution_count": 1,
   "metadata": {},
   "outputs": [],
   "source": [
    "import numpy as np\n",
    "import torch\n",
    "import torch.nn as nn\n",
    "from torch.autograd import Variable\n",
    "\n",
    "from model import GrammarVAE\n",
    "from util import Timer, AnnealKL, load_data"
   ]
  },
  {
   "cell_type": "code",
   "execution_count": 2,
   "metadata": {},
   "outputs": [
    {
     "name": "stdout",
     "output_type": "stream",
     "text": [
      "Using device: mps\n"
     ]
    }
   ],
   "source": [
    "# Init model, dont train it and generate some equations\n",
    "ENCODER_HIDDEN = 20\n",
    "Z_SIZE = 2\n",
    "DECODER_HIDDEN = 20\n",
    "RNN_TYPE = 'lstm'\n",
    "BATCH_SIZE = 32\n",
    "MAX_LENGTH = 15\n",
    "OUTPUT_SIZE = 12\n",
    "LR = 1e-2\n",
    "CLIP = 5.\n",
    "PRINT_EVERY = 100\n",
    "EPOCHS = 3\n",
    "\n",
    "model = GrammarVAE(ENCODER_HIDDEN, Z_SIZE, DECODER_HIDDEN, OUTPUT_SIZE, RNN_TYPE)"
   ]
  },
  {
   "cell_type": "code",
   "execution_count": 9,
   "metadata": {},
   "outputs": [
    {
     "name": "stdout",
     "output_type": "stream",
     "text": [
      "tensor([[ 0.1680, -0.2196],\n",
      "        [ 0.1450, -0.2121]], grad_fn=<AddmmBackward0>) tensor([[0.7805, 0.7860],\n",
      "        [0.8027, 0.7900]], grad_fn=<SoftplusBackward0>)\n",
      "torch.Size([2, 15, 12])\n"
     ]
    }
   ],
   "source": [
    "batch_size = 2\n",
    "x = torch.randn(batch_size, OUTPUT_SIZE, MAX_LENGTH)  # OUTPUT_SIZE: number of rules (for 1-hot encoding)\n",
    "mu, sigma = model.encoder(x)\n",
    "print(mu, sigma)  # z\n",
    "\n",
    "logits = model.decoder(mu, 15)\n",
    "print(logits.shape)"
   ]
  },
  {
   "cell_type": "code",
   "execution_count": 126,
   "metadata": {},
   "outputs": [
    {
     "name": "stdout",
     "output_type": "stream",
     "text": [
      "mu = tensor([[-0.1692,  0.0015]], grad_fn=<AddmmBackward0>)\n",
      "[S -> S '+' T, S -> S '+' T, S -> S '+' T, S -> S '+' T, S -> S '+' T, S -> S '+' T, S -> S '+' T, S -> S '+' T, S -> S '+' T, S -> S '+' T, S -> S '+' T, S -> S '+' T, S -> S '+' T, S -> S '+' T, S -> S '+' T]\n",
      "Invalid. Too many rules.\n"
     ]
    }
   ],
   "source": [
    "# torch.manual_seed(0)\n",
    "\n",
    "import model as m\n",
    "from importlib import reload\n",
    "import util\n",
    "from grammar import GCFG\n",
    "reload(m)\n",
    "\n",
    "# Init model, dont train it and generate some equations\n",
    "ENCODER_HIDDEN = 20\n",
    "Z_SIZE = 2\n",
    "DECODER_HIDDEN = 20\n",
    "RNN_TYPE = 'lstm'\n",
    "BATCH_SIZE = 32\n",
    "MAX_LENGTH = 15\n",
    "OUTPUT_SIZE = len(GCFG.productions()) + 1  # 1-hot + numerical\n",
    "LR = 1e-2\n",
    "CLIP = 5.\n",
    "PRINT_EVERY = 100\n",
    "EPOCHS = 3\n",
    "\n",
    "model = m.GrammarVAE(ENCODER_HIDDEN, Z_SIZE, DECODER_HIDDEN, OUTPUT_SIZE, RNN_TYPE)  # .to(device='mps')\n",
    "\n",
    "batch_size = 1\n",
    "x = torch.randn(batch_size, OUTPUT_SIZE, MAX_LENGTH).to(model.device) * 10  # OUTPUT_SIZE: number of rules (for 1-hot encoding)\n",
    "mu, sigma = model.encoder(x)\n",
    "print(f'{mu = }')\n",
    "\n",
    "rules = model.generate(mu, sample=False, max_length=15)\n",
    "print(rules)\n",
    "\n",
    "if len(rules) < 15:\n",
    "    tree = util.make_nltk_tree(rules)\n",
    "    print(tree)\n",
    "else:\n",
    "    print('Invalid. Too many rules.')"
   ]
  },
  {
   "cell_type": "code",
   "execution_count": 89,
   "metadata": {},
   "outputs": [
    {
     "name": "stdout",
     "output_type": "stream",
     "text": [
      "(S (T 3))\n"
     ]
    }
   ],
   "source": [
    "tree.pprint()"
   ]
  },
  {
   "cell_type": "markdown",
   "metadata": {},
   "source": [
    "### MPS?"
   ]
  },
  {
   "cell_type": "code",
   "execution_count": 124,
   "metadata": {},
   "outputs": [
    {
     "data": {
      "text/plain": [
       "True"
      ]
     },
     "execution_count": 124,
     "metadata": {},
     "output_type": "execute_result"
    }
   ],
   "source": [
    "next(model.parameters()).is_mps"
   ]
  },
  {
   "cell_type": "code",
   "execution_count": null,
   "metadata": {},
   "outputs": [],
   "source": [
    "device = (\n",
    "    \"cuda\"\n",
    "    if torch.cuda.is_available()\n",
    "    else \"mps\"\n",
    "    if torch.backends.mps.is_available()\n",
    "    else \"cpu\"\n",
    ")\n",
    "print(f\"Using {device} device\")"
   ]
  },
  {
   "cell_type": "markdown",
   "metadata": {},
   "source": [
    "Data loading/parsing"
   ]
  },
  {
   "cell_type": "code",
   "execution_count": 144,
   "metadata": {},
   "outputs": [],
   "source": [
    "data_path = '../data/equation2_15_dataset_parsed.h5'\n",
    "data = load_data(data_path)\n",
    "# Turn it into a float32 PyTorch Tensor\n",
    "data = torch.from_numpy(data).float()"
   ]
  },
  {
   "cell_type": "code",
   "execution_count": 111,
   "metadata": {},
   "outputs": [
    {
     "data": {
      "image/png": "[encoded data removed]",
      "text/plain": [
       "<Figure size 640x480 with 1 Axes>"
      ]
     },
     "metadata": {},
     "output_type": "display_data"
    },
    {
     "data": {
      "text/plain": [
       "array([[[1., 0., 0., ..., 0., 0., 0.],\n",
       "        [1., 0., 0., ..., 0., 0., 0.],\n",
       "        [1., 0., 0., ..., 0., 0., 0.],\n",
       "        ...,\n",
       "        [0., 0., 0., ..., 0., 0., 0.],\n",
       "        [0., 0., 0., ..., 0., 0., 0.],\n",
       "        [0., 0., 0., ..., 0., 0., 1.]],\n",
       "\n",
       "       [[1., 0., 0., ..., 0., 0., 0.],\n",
       "        [1., 0., 0., ..., 0., 0., 0.],\n",
       "        [1., 0., 0., ..., 0., 0., 0.],\n",
       "        ...,\n",
       "        [0., 0., 0., ..., 0., 0., 0.],\n",
       "        [0., 0., 0., ..., 0., 0., 0.],\n",
       "        [0., 0., 0., ..., 0., 0., 1.]],\n",
       "\n",
       "       [[1., 0., 0., ..., 0., 0., 0.],\n",
       "        [1., 0., 0., ..., 0., 0., 0.],\n",
       "        [1., 0., 0., ..., 0., 0., 0.],\n",
       "        ...,\n",
       "        [0., 0., 0., ..., 0., 0., 0.],\n",
       "        [0., 0., 0., ..., 1., 0., 0.],\n",
       "        [0., 0., 0., ..., 0., 0., 1.]],\n",
       "\n",
       "       ...,\n",
       "\n",
       "       [[1., 0., 0., ..., 0., 0., 0.],\n",
       "        [1., 0., 0., ..., 0., 0., 0.],\n",
       "        [1., 0., 0., ..., 0., 0., 0.],\n",
       "        ...,\n",
       "        [0., 0., 0., ..., 0., 0., 0.],\n",
       "        [0., 0., 0., ..., 0., 0., 0.],\n",
       "        [0., 0., 0., ..., 0., 0., 1.]],\n",
       "\n",
       "       [[1., 0., 0., ..., 0., 0., 0.],\n",
       "        [1., 0., 0., ..., 0., 0., 0.],\n",
       "        [1., 0., 0., ..., 0., 0., 0.],\n",
       "        ...,\n",
       "        [0., 0., 0., ..., 0., 0., 0.],\n",
       "        [0., 0., 0., ..., 1., 0., 0.],\n",
       "        [0., 0., 0., ..., 0., 0., 1.]],\n",
       "\n",
       "       [[1., 0., 0., ..., 0., 0., 0.],\n",
       "        [1., 0., 0., ..., 0., 0., 0.],\n",
       "        [1., 0., 0., ..., 0., 0., 0.],\n",
       "        ...,\n",
       "        [0., 0., 0., ..., 0., 0., 0.],\n",
       "        [0., 0., 0., ..., 0., 1., 0.],\n",
       "        [0., 0., 0., ..., 0., 0., 1.]]], dtype=float32)"
      ]
     },
     "execution_count": 111,
     "metadata": {},
     "output_type": "execute_result"
    }
   ],
   "source": [
    "from matplotlib import pyplot as plt\n",
    "\n",
    "plt.imshow(one_hot[4, ...])\n",
    "plt.show()\n",
    "\n",
    "one_hot"
   ]
  },
  {
   "cell_type": "markdown",
   "metadata": {},
   "source": [
    "### Using trained model"
   ]
  },
  {
   "cell_type": "code",
   "execution_count": 3,
   "metadata": {},
   "outputs": [],
   "source": [
    "import os\n",
    "import torch\n",
    "import sympy as sp\n",
    "from torch.autograd import Variable\n",
    "\n",
    "from model import GrammarVAE\n",
    "from stack import Stack\n",
    "\n",
    "from util import load_data, prods_to_eq\n",
    "from train import ENCODER_HIDDEN, Z_SIZE, DECODER_HIDDEN, OUTPUT_SIZE\n",
    "\n",
    "torch.manual_seed(10)\n",
    "\n",
    "# Load saved model\n",
    "# model_path = os.path.abspath('../checkpoints/model5epoch.pt')\n",
    "# model = torch.load(model_path)\n",
    "# model = GrammarVAE(ENCODER_HIDDEN, Z_SIZE, DECODER_HIDDEN, OUTPUT_SIZE)\n",
    "\n",
    "# Load data\n",
    "data_path = os.path.abspath('../data/equation2_15_dataset_parsed.h5')\n",
    "data = load_data(data_path)\n",
    "\n",
    "# Load raw equation strings\n",
    "data_path = os.path.abspath('../data/equation2_15_dataset.txt')\n",
    "with open(data_path, 'r') as f:\n",
    "    eqs = f.readlines()\n",
    "    eqs = [eq.strip('\\n') for eq in eqs]\n",
    "\n",
    "def data2input(x):\n",
    "    x = torch.from_numpy(x).float().unsqueeze(0).transpose(-2, -1)\n",
    "    return Variable(x)\n",
    "\n",
    "def predict(x):\n",
    "    x = data2input(x)\n",
    "    logits = model(x)\n",
    "    _, y = logits.squeeze(0).max(-1)\n",
    "    return y\n",
    "\n",
    "def evaluate(y, y_):\n",
    "    try:\n",
    "        (y == y_).mean()\n",
    "    except:\n",
    "        y_ = y_.data.numpy()\n",
    "    return (y == y_).mean()\n"
   ]
  },
  {
   "cell_type": "markdown",
   "metadata": {},
   "source": [
    "#### encode-decode single equation from equation file"
   ]
  },
  {
   "cell_type": "code",
   "execution_count": 24,
   "metadata": {},
   "outputs": [],
   "source": [
    "from importlib import reload\n",
    "import model\n",
    "reload(model)\n",
    "from model import GrammarVAE"
   ]
  },
  {
   "cell_type": "code",
   "execution_count": 25,
   "metadata": {},
   "outputs": [],
   "source": [
    "from matplotlib import pyplot as plt\n",
    "from grammar import GCFG\n",
    "\n",
    "def plot_onehot(onehot_matrix, grammar):\n",
    "    fig, ax = plt.subplots(nrows=1, ncols=2)\n",
    "    res1 = ax[0].imshow(onehot_matrix[:, :len(grammar.productions())])\n",
    "    res2 = ax[1].imshow(onehot_matrix[:, len(grammar.productions()):])\n",
    "\n",
    "    ax[0].set_ylabel('Sequence')\n",
    "    ax[0].set_xlabel('Rule')\n",
    "    ax[1].set_xlabel('NUM')\n",
    "    xticks = grammar.productions()\n",
    "    ax[0].set_xticks(range(len(xticks)), xticks, rotation='vertical')\n",
    "    plt.colorbar(res1, ax=ax[0], label='Value', shrink=0.5)\n",
    "    plt.colorbar(res2, ax=ax[1], label='Value', shrink=0.5)\n",
    "    plt.tight_layout()\n",
    "    plt.show()"
   ]
  },
  {
   "cell_type": "code",
   "execution_count": 26,
   "metadata": {},
   "outputs": [],
   "source": [
    "# Init model, dont train it and generate some equations\n",
    "ENCODER_HIDDEN = 20\n",
    "Z_SIZE = 2\n",
    "DECODER_HIDDEN = 20\n",
    "RNN_TYPE = 'lstm'\n",
    "BATCH_SIZE = 32\n",
    "MAX_LENGTH = 15\n",
    "OUTPUT_SIZE = len(GCFG.productions())*2  # 1-hot for rules + numerical\n",
    "LR = 1e-2\n",
    "CLIP = 5.\n",
    "PRINT_EVERY = 100\n",
    "EPOCHS = 3\n",
    "\n",
    "model = GrammarVAE(ENCODER_HIDDEN, Z_SIZE, DECODER_HIDDEN, OUTPUT_SIZE, RNN_TYPE, device='cpu')\n",
    "\n",
    "# model_path = os.path.abspath('../checkpoints/model5epoch.pt')\n",
    "# model = torch.load(model_path)"
   ]
  },
  {
   "cell_type": "code",
   "execution_count": 27,
   "metadata": {},
   "outputs": [
    {
     "name": "stdout",
     "output_type": "stream",
     "text": [
      "eq = 'x + x + ( 1 ) + exp( 1 / x )'\n",
      "expr = 2*x + exp(1/x) + 1\n"
     ]
    },
    {
     "data": {
      "image/png": "[encoded data removed]",
      "text/plain": [
       "<Figure size 640x480 with 4 Axes>"
      ]
     },
     "metadata": {},
     "output_type": "display_data"
    }
   ],
   "source": [
    "i = 300\n",
    "\n",
    "eq = eqs[i]\n",
    "print(f'{eq = }')\n",
    "expr = sp.simplify(sp.sympify(eq))\n",
    "print(f'{expr = }')\n",
    "\n",
    "x = data2input(data[i])\n",
    "mu, sigma = model.encoder(x)\n",
    "\n",
    "logits = model.decoder(mu, max_length=15)\n",
    "plot_onehot(logits[0, ...].detach().numpy(), GCFG)"
   ]
  },
  {
   "cell_type": "code",
   "execution_count": 35,
   "metadata": {},
   "outputs": [
    {
     "name": "stdout",
     "output_type": "stream",
     "text": [
      "eq = 'x + x + ( x ) + ( x + 1 )'\n",
      "expr = 4*x + 1\n",
      "production = [S -> S '/' T, S -> S '/' T, S -> S '+' T, S -> S '*' T, S -> T, T -> 'sin(' S ')', S -> S '/' T, S -> S '+' T, S -> S '+' T, S -> T, T -> 'x', T -> '[CONST]', T -> '(' S ')', S -> S '*' T, S -> S '+' T]\n",
      "logits_nums = tensor([[ 0.0856, -0.1224,  0.0153,  0.0645, -0.0067,  0.1910, -0.1299, -0.0071,\n",
      "          0.2238,  0.0312],\n",
      "        [ 0.0711, -0.1363,  0.0149,  0.0604,  0.0103,  0.2015, -0.1401,  0.0087,\n",
      "          0.2469,  0.0402],\n",
      "        [ 0.0635, -0.1425,  0.0133,  0.0585,  0.0175,  0.2095, -0.1471,  0.0143,\n",
      "          0.2596,  0.0485],\n",
      "        [ 0.0593, -0.1453,  0.0120,  0.0577,  0.0208,  0.2151, -0.1518,  0.0160,\n",
      "          0.2668,  0.0546],\n",
      "        [ 0.0567, -0.1466,  0.0111,  0.0572,  0.0226,  0.2188, -0.1549,  0.0163,\n",
      "          0.2711,  0.0588],\n",
      "        [ 0.0552, -0.1472,  0.0106,  0.0569,  0.0235,  0.2213, -0.1570,  0.0162,\n",
      "          0.2736,  0.0617],\n",
      "        [ 0.0542, -0.1476,  0.0102,  0.0568,  0.0241,  0.2229, -0.1584,  0.0160,\n",
      "          0.2752,  0.0635],\n",
      "        [ 0.0535, -0.1477,  0.0101,  0.0567,  0.0245,  0.2239, -0.1593,  0.0158,\n",
      "          0.2761,  0.0647],\n",
      "        [ 0.0531, -0.1479,  0.0100,  0.0566,  0.0247,  0.2246, -0.1598,  0.0156,\n",
      "          0.2767,  0.0654],\n",
      "        [ 0.0528, -0.1479,  0.0100,  0.0565,  0.0248,  0.2250, -0.1602,  0.0155,\n",
      "          0.2771,  0.0659],\n",
      "        [ 0.0526, -0.1479,  0.0100,  0.0565,  0.0249,  0.2252, -0.1604,  0.0154,\n",
      "          0.2773,  0.0662],\n",
      "        [ 0.0525, -0.1480,  0.0100,  0.0564,  0.0250,  0.2254, -0.1605,  0.0154,\n",
      "          0.2774,  0.0664],\n",
      "        [ 0.0524, -0.1480,  0.0100,  0.0564,  0.0250,  0.2255, -0.1606,  0.0153,\n",
      "          0.2775,  0.0665],\n",
      "        [ 0.0524, -0.1480,  0.0100,  0.0564,  0.0250,  0.2255, -0.1606,  0.0153,\n",
      "          0.2775,  0.0666],\n",
      "        [ 0.0524, -0.1480,  0.0100,  0.0564,  0.0250,  0.2255, -0.1607,  0.0153,\n",
      "          0.2776,  0.0666]], grad_fn=<SliceBackward0>)\n",
      "Nonterminal found. seq = ['sin(', 'x', '+', '[CONST]', '+', '(', S, '+', T, '*', T, ')', '/', T, ')', '*', T, '+', T, '/', T, '/', T]\n"
     ]
    }
   ],
   "source": [
    "i = 1\n",
    "\n",
    "eq = eqs[i]\n",
    "print(f'{eq = }')\n",
    "expr = sp.simplify(sp.sympify(eq))\n",
    "print(f'{expr = }')\n",
    "\n",
    "x = data2input(data[i])\n",
    "mu, sigma = model.encoder(x)\n",
    "production, logits_nums = model.generate(mu, sample=True, max_length=15)\n",
    "\n",
    "print(f'{production = }')\n",
    "print(f'{logits_nums = }')\n",
    "eq_hat = prods_to_eq(production, verbose=True)\n",
    "if eq_hat:\n",
    "    expr_hat = sp.simplify(sp.sympify(eq_hat))\n",
    "    print(f'{expr_hat = }')\n",
    "\n"
   ]
  },
  {
   "cell_type": "code",
   "execution_count": 20,
   "metadata": {},
   "outputs": [
    {
     "data": {
      "text/plain": [
       "torch.Size([1, 15, 20])"
      ]
     },
     "execution_count": 20,
     "metadata": {},
     "output_type": "execute_result"
    }
   ],
   "source": [
    "logits.shape"
   ]
  },
  {
   "cell_type": "code",
   "execution_count": 84,
   "metadata": {},
   "outputs": [],
   "source": [
    "import torch\n",
    "from torch.autograd import Variable\n",
    "from nltk import CFG, Nonterminal\n",
    "from torch.distributions import Categorical\n",
    "\n",
    "class Stack:\n",
    "    \"\"\"A simple first in last out stack.\n",
    "\n",
    "    Args:\n",
    "        grammar: an instance of nltk.CFG\n",
    "        start_symbol: an instance of nltk.Nonterminal that is the\n",
    "            start symbol the grammar\n",
    "    \"\"\"\n",
    "    def __init__(self, grammar, start_symbol):\n",
    "        self.grammar = grammar\n",
    "        self._stack = [start_symbol]\n",
    "\n",
    "    def pop(self):\n",
    "        return self._stack.pop()\n",
    "\n",
    "    def push(self, symbol):\n",
    "        self._stack.append(symbol)\n",
    "\n",
    "    def __str__(self):\n",
    "        return str(self._stack)\n",
    "\n",
    "    @property\n",
    "    def nonempty(self):\n",
    "        return bool(self._stack)\n",
    "\n",
    "\n",
    "def get_mask(nonterminal, grammar, as_variable=False):\n",
    "    if isinstance(nonterminal, Nonterminal):\n",
    "        mask = [rule.lhs() == nonterminal for rule in grammar.productions()]\n",
    "        mask = Variable(torch.FloatTensor(mask)) if as_variable else mask\n",
    "        return mask\n",
    "    else:\n",
    "        raise ValueError('Input must be instance of nltk.Nonterminal')\n",
    "\n",
    "def logits_to_prod(logits, grammar, start_symbol, sample=True, max_length=15):\n",
    "    stack = Stack(grammar=grammar, start_symbol=start_symbol)\n",
    "\n",
    "    logits_prods = logits[:, :len(grammar.productions())]\n",
    "    constants = logits[:, len(grammar.productions()):]\n",
    "\n",
    "    rules = []\n",
    "    t = 0\n",
    "    while stack.nonempty:\n",
    "        alpha = stack.pop()\n",
    "        mask = get_mask(alpha, stack.grammar, as_variable=True)\n",
    "        probs = mask * logits_prods[t].exp()\n",
    "        probs = probs / probs.sum()\n",
    "        \n",
    "        if sample:\n",
    "            m = Categorical(probs)\n",
    "            i = m.sample()\n",
    "        else:\n",
    "            _, i = probs.max(-1) # argmax\n",
    "\n",
    "        i = i.item()\n",
    "        # select rule i\n",
    "        rule = stack.grammar.productions()[i]\n",
    "        rules.append(rule)\n",
    "        # add rhs nonterminals to stack in reversed order\n",
    "        for symbol in reversed(rule.rhs()):\n",
    "            if isinstance(symbol, Nonterminal):\n",
    "                stack.push(symbol)\n",
    "        t += 1\n",
    "        if t == max_length:\n",
    "            break\n",
    "    return rules, constants\n",
    "\n",
    "def prods_to_eq(prod, constants, verbose=False):\n",
    "    seq = [prod[0].lhs()]  # Start with LHS of first rule (always nonterminal start)\n",
    "    for prod_idx, prod in enumerate(prod):\n",
    "        if str(prod.lhs()) == 'Nothing':  # Padding rule. Reached end.\n",
    "            break\n",
    "        consts_used = 0\n",
    "        for ix, s in enumerate(seq):  # Applying rule to first element in seq that matches lhs\n",
    "            if s == prod.lhs():\n",
    "                # print(f'{prod.rhs() = }')\n",
    "                if not prod.rhs()[0] == '[CONST]':\n",
    "                    seq = seq[:ix] + list(prod.rhs()) + seq[ix+1:]  # Replace LHS with RHS\n",
    "                else:\n",
    "                    seq = seq[:ix] + [str(constants[prod_idx, consts_used].item())] + seq[ix+1:]  # Replace LHS with RHS but use numerical values for each [CONST] placeholder\n",
    "                    consts_used += 1\n",
    "                break\n",
    "    try:\n",
    "        return ''.join(seq)\n",
    "    except TypeError:\n",
    "        if verbose:\n",
    "            print(f'Nonterminal found. {seq = }')\n",
    "        return ''"
   ]
  },
  {
   "cell_type": "code",
   "execution_count": 85,
   "metadata": {},
   "outputs": [],
   "source": [
    "grammar = \"\"\"\n",
    "S -> S '+' T\n",
    "S -> S '*' T\n",
    "S -> S '/' T\n",
    "S -> T\n",
    "T -> '(' S ')'\n",
    "T -> 'sin(' S ')'\n",
    "T -> 'exp(' S ')'\n",
    "T -> 'x1'\n",
    "T -> '[CONST]'\n",
    "Nothing -> None\"\"\"\n",
    "GCFG = CFG.fromstring(grammar)\n",
    "S, T = Nonterminal('S'), Nonterminal('T')"
   ]
  },
  {
   "cell_type": "code",
   "execution_count": 86,
   "metadata": {},
   "outputs": [
    {
     "data": {
      "image/png": "[encoded data removed]",
      "text/plain": [
       "<Figure size 640x480 with 4 Axes>"
      ]
     },
     "metadata": {},
     "output_type": "display_data"
    }
   ],
   "source": [
    "onehot_matrix = np.random.random([15, len(GCFG.productions())*2])\n",
    "onehot_matrix[:, -13:-11] *= 5\n",
    "onehot_matrix[-10:, :3] *= 0.2\n",
    "plot_onehot(onehot_matrix, GCFG)"
   ]
  },
  {
   "cell_type": "code",
   "execution_count": 98,
   "metadata": {},
   "outputs": [
    {
     "name": "stdout",
     "output_type": "stream",
     "text": [
      "eq_str = 'x1+0.9193957004892613*0.8246553500319246*0.28611858560892567'\n",
      "expr = x1 + 0.21693070057705543\n"
     ]
    }
   ],
   "source": [
    "prods, constants = logits_to_prod(torch.tensor(onehot_matrix), GCFG, S)\n",
    "eq_str = prods_to_eq(prods, constants, verbose=True)\n",
    "print(f'{eq_str = }')\n",
    "assert eq_str\n",
    "expr = sp.sympify(eq_str)\n",
    "print(f'{expr = }')"
   ]
  },
  {
   "cell_type": "markdown",
   "metadata": {},
   "source": [
    "### Encoding using new grammar + const"
   ]
  },
  {
   "cell_type": "code",
   "execution_count": 152,
   "metadata": {},
   "outputs": [],
   "source": [
    "import re\n",
    "import nltk\n",
    "import numpy as np\n",
    "\n",
    "SEQ_LEN = 15\n",
    "\n",
    "def tokenize(s):\n",
    "    funcs = ['sin', 'exp']\n",
    "    for fn in funcs: s = s.replace(fn+'(', fn+' ')\n",
    "    s = re.sub(r'([^a-z ])', r' \\1 ', s)\n",
    "    for fn in funcs: s = s.replace(fn, fn+'(')\n",
    "    return s.split()\n",
    "\n",
    "# Tokenization and parsing functions\n",
    "_productions = GCFG.productions()\n",
    "_tokenize = tokenize\n",
    "_parser = nltk.ChartParser(GCFG)\n",
    "_n_chars = len(_productions)\n",
    "_prod_map = {}\n",
    "for ix, prod in enumerate(_productions):\n",
    "    _prod_map[prod] = ix\n",
    "\n",
    "\n",
    "def onehot_encode(eqs):\n",
    "    assert type(eqs) == list\n",
    "    print('Starting tokenization...')\n",
    "    tokens = map(_tokenize, eqs)\n",
    "    print('Starting parsing...')\n",
    "    parse_trees = [next(_parser.parse(t)) for t in tokens]\n",
    "    print('Starting production extraction...')\n",
    "    productions_seq = [tree.productions() for tree in parse_trees]\n",
    "\n",
    "    indices = [np.array([_prod_map[prod] for prod in entry], dtype=int) for entry in productions_seq]\n",
    "    print('Starting one-hot encoding...')\n",
    "    one_hot = np.zeros((len(indices), SEQ_LEN, _n_chars), dtype=np.float32)\n",
    "    for i in range(len(indices)):\n",
    "        num_productions = len(indices[i])\n",
    "        one_hot[i][np.arange(num_productions),indices[i]] = 1.\n",
    "        one_hot[i][np.arange(num_productions, SEQ_LEN),-1] = 1.\n",
    "    return one_hot\n"
   ]
  },
  {
   "cell_type": "code",
   "execution_count": 113,
   "metadata": {},
   "outputs": [],
   "source": [
    "datapath = r'/Users/luis/Desktop/Cranmer 2024/Workplace/smallMutations/similar-expressions/data/expressions.txt'\n",
    "with open(datapath, 'r') as f:\n",
    "    eqs = f.readlines()\n",
    "    eqs = [eq.strip('\\n') for eq in eqs]"
   ]
  },
  {
   "cell_type": "code",
   "execution_count": 180,
   "metadata": {},
   "outputs": [],
   "source": [
    "eq = \"0.1 * sin(0.2 + 0.3*exp(0.1*x1))+0.1\"\n"
   ]
  },
  {
   "cell_type": "code",
   "execution_count": 196,
   "metadata": {},
   "outputs": [
    {
     "name": "stdout",
     "output_type": "stream",
     "text": [
      "0.1 + 0.2\n",
      "['0.1', '+', '0.2']\n",
      "['[CONST]', '+', '[CONST]'] ['0.1', '0.2']\n"
     ]
    }
   ],
   "source": [
    "s2 = \"0.1 + 0.2\" # \"0.1 * sin(0.2 + 0.3*exp(0.1*x1))+0.1\"\n",
    "print(s2)\n",
    "\n",
    "unaops = ['sin', 'exp']\n",
    "binops = ['+', '-', '*', '/']\n",
    "for fn in unaops: s2 = s2.replace(fn+'(', ' '+fn+'( ')\n",
    "for fn in binops: s2 = s2.replace(fn, ' '+fn+' ')\n",
    "s2 = s2.replace(')', ' )')\n",
    "tokens = s2.split()\n",
    "print(tokens)\n",
    "\n",
    "# constants = np.zeros(SEQ_LEN, len(GCFG.productions()))\n",
    "cnst = []\n",
    "for i in range(len(tokens)):\n",
    "    a = re.findall(r'\\b\\d+(?:\\.\\d+)?\\b', tokens[i])\n",
    "    if a:\n",
    "        cnst.append(a[0])\n",
    "        tokens[i] = '[CONST]'\n",
    "print(tokens, cnst)\n"
   ]
  },
  {
   "cell_type": "code",
   "execution_count": 197,
   "metadata": {},
   "outputs": [],
   "source": [
    "parse_trees = next(_parser.parse(tokens))\n",
    "productions_seq = parse_trees.productions()"
   ]
  },
  {
   "cell_type": "code",
   "execution_count": 198,
   "metadata": {},
   "outputs": [
    {
     "data": {
      "image/svg+xml": [
       "<svg baseProfile=\"full\" height=\"168px\" preserveAspectRatio=\"xMidYMid meet\" style=\"font-family: times, serif; font-weight: normal; font-style: normal; font-size: 16px;\" version=\"1.1\" viewBox=\"0,0,168.0,168.0\" width=\"168px\" xmlns=\"http://www.w3.org/2000/svg\" xmlns:ev=\"http://www.w3.org/2001/xml-events\" xmlns:xlink=\"http://www.w3.org/1999/xlink\"><defs /><svg width=\"100%\" x=\"0\" y=\"0px\"><defs /><text text-anchor=\"middle\" x=\"50%\" y=\"16px\">S</text></svg><svg width=\"42.8571%\" x=\"0%\" y=\"48px\"><defs /><svg width=\"100%\" x=\"0\" y=\"0px\"><defs /><text text-anchor=\"middle\" x=\"50%\" y=\"16px\">S</text></svg><svg width=\"100%\" x=\"0%\" y=\"48px\"><defs /><svg width=\"100%\" x=\"0\" y=\"0px\"><defs /><text text-anchor=\"middle\" x=\"50%\" y=\"16px\">T</text></svg><svg width=\"100%\" x=\"0%\" y=\"48px\"><defs /><svg width=\"100%\" x=\"0\" y=\"0px\"><defs /><text text-anchor=\"middle\" x=\"50%\" y=\"16px\">[CONST]</text></svg></svg><line stroke=\"black\" x1=\"50%\" x2=\"50%\" y1=\"19.2px\" y2=\"48px\" /></svg><line stroke=\"black\" x1=\"50%\" x2=\"50%\" y1=\"19.2px\" y2=\"48px\" /></svg><line stroke=\"black\" x1=\"50%\" x2=\"21.4286%\" y1=\"19.2px\" y2=\"48px\" /><svg width=\"14.2857%\" x=\"42.8571%\" y=\"48px\"><defs /><svg width=\"100%\" x=\"0\" y=\"0px\"><defs /><text text-anchor=\"middle\" x=\"50%\" y=\"16px\">+</text></svg></svg><line stroke=\"black\" x1=\"50%\" x2=\"50%\" y1=\"19.2px\" y2=\"48px\" /><svg width=\"42.8571%\" x=\"57.1429%\" y=\"48px\"><defs /><svg width=\"100%\" x=\"0\" y=\"0px\"><defs /><text text-anchor=\"middle\" x=\"50%\" y=\"16px\">T</text></svg><svg width=\"100%\" x=\"0%\" y=\"48px\"><defs /><svg width=\"100%\" x=\"0\" y=\"0px\"><defs /><text text-anchor=\"middle\" x=\"50%\" y=\"16px\">[CONST]</text></svg></svg><line stroke=\"black\" x1=\"50%\" x2=\"50%\" y1=\"19.2px\" y2=\"48px\" /></svg><line stroke=\"black\" x1=\"50%\" x2=\"78.5714%\" y1=\"19.2px\" y2=\"48px\" /></svg>"
      ],
      "text/plain": [
       "Tree('S', [Tree('S', [Tree('T', ['[CONST]'])]), '+', Tree('T', ['[CONST]'])])"
      ]
     },
     "execution_count": 198,
     "metadata": {},
     "output_type": "execute_result"
    }
   ],
   "source": [
    "parse_trees"
   ]
  },
  {
   "cell_type": "code",
   "execution_count": 199,
   "metadata": {},
   "outputs": [
    {
     "data": {
      "text/plain": [
       "[S -> S '+' T, S -> T, T -> '[CONST]', T -> '[CONST]']"
      ]
     },
     "execution_count": 199,
     "metadata": {},
     "output_type": "execute_result"
    }
   ],
   "source": [
    "productions_seq"
   ]
  },
  {
   "cell_type": "code",
   "execution_count": null,
   "metadata": {},
   "outputs": [],
   "source": []
  },
  {
   "cell_type": "code",
   "execution_count": 124,
   "metadata": {},
   "outputs": [
    {
     "name": "stdout",
     "output_type": "stream",
     "text": [
      "['x1', '0.4609526466213322', 'exp(0.4609526466213322*sin(x1))', 'sin(exp(0.4609526466213322*sin(x1)))', 'sin(x1)']\n"
     ]
    }
   ],
   "source": [
    "expr = sp.sympify(eqs[1])\n",
    "symbols = [str(symbol) for symbol in expr.atoms(sp.Symbol)]\n",
    "constants = [str(constant) for constant in expr.atoms(sp.Number)]\n",
    "operators = [str(op) for op in expr.atoms(sp.Function)]\n",
    "all_symbols = symbols + constants + operators\n",
    "print(all_symbols)"
   ]
  },
  {
   "cell_type": "code",
   "execution_count": 125,
   "metadata": {},
   "outputs": [
    {
     "data": {
      "text/plain": [
       "['exp(0.4609526466213322*sin(x1))',\n",
       " 'sin(exp(0.4609526466213322*sin(x1)))',\n",
       " 'sin(x1)']"
      ]
     },
     "execution_count": 125,
     "metadata": {},
     "output_type": "execute_result"
    }
   ],
   "source": [
    "operators"
   ]
  },
  {
   "cell_type": "code",
   "execution_count": 133,
   "metadata": {},
   "outputs": [
    {
     "name": "stdout",
     "output_type": "stream",
     "text": [
      "1 / 2 + exp  sin ( 2 ) ) + ( 3 )\n",
      " 1   /   2   +  exp  sin  (   2   )   )   +   (   3   ) \n",
      " 1   /   2   +  exp(  sin(  (   2   )   )   +   (   3   ) \n",
      "['1', '/', '2', '+', 'exp(', 'sin(', '(', '2', ')', ')', '+', '(', '3', ')']\n"
     ]
    }
   ],
   "source": [
    "s = \"1 / 2 + exp( sin ( 2 ) ) + ( 3 )\"\n",
    "\n",
    "funcs = ['sin', 'exp']\n",
    "for fn in funcs: s = s.replace(fn+'(', fn+' ')\n",
    "print(s)\n",
    "s = re.sub(r'([^a-z ])', r' \\1 ', s)\n",
    "print(s)\n",
    "for fn in funcs: s = s.replace(fn, fn+'(')\n",
    "print(s)\n",
    "print(s.split())\n"
   ]
  },
  {
   "cell_type": "code",
   "execution_count": null,
   "metadata": {},
   "outputs": [],
   "source": []
  },
  {
   "cell_type": "code",
   "execution_count": 107,
   "metadata": {},
   "outputs": [
    {
     "data": {
      "text/plain": [
       "53322"
      ]
     },
     "execution_count": 107,
     "metadata": {},
     "output_type": "execute_result"
    }
   ],
   "source": [
    "len(tokens)"
   ]
  },
  {
   "cell_type": "code",
   "execution_count": 110,
   "metadata": {},
   "outputs": [],
   "source": [
    "datapath = r'/Users/luis/Desktop/Cranmer 2024/Workplace/smallMutations/grammar-vae/data/equation2_15_dataset.txt'\n",
    "# parsed_path = r'/Users/luis/Desktop/Cranmer 2024/Workplace/smallMutations/grammar-vae/data/equation2_15_dataset_parsed.h5'\n",
    "\n",
    "with open(datapath, 'r') as f:\n",
    "    eqs = f.readlines()\n",
    "    eqs = [eq.strip('\\n') for eq in eqs]\n",
    "\n",
    "tokens = list(map(_tokenize, eqs))"
   ]
  },
  {
   "cell_type": "code",
   "execution_count": 112,
   "metadata": {},
   "outputs": [
    {
     "data": {
      "text/plain": [
       "'x + x + ( x ) + ( x + x )'"
      ]
     },
     "execution_count": 112,
     "metadata": {},
     "output_type": "execute_result"
    }
   ],
   "source": [
    "eqs[0]"
   ]
  }
 ],
 "metadata": {
  "kernelspec": {
   "display_name": "learning_drl",
   "language": "python",
   "name": "python3"
  },
  "language_info": {
   "codemirror_mode": {
    "name": "ipython",
    "version": 3
   },
   "file_extension": ".py",
   "mimetype": "text/x-python",
   "name": "python",
   "nbconvert_exporter": "python",
   "pygments_lexer": "ipython3",
   "version": "3.12.4"
  }
 },
 "nbformat": 4,
 "nbformat_minor": 2
}
