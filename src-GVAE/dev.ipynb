{
 "cells": [
  {
   "cell_type": "markdown",
   "metadata": {},
   "source": [
    "### Fixing decoder"
   ]
  },
  {
   "cell_type": "code",
   "execution_count": 1,
   "metadata": {},
   "outputs": [],
   "source": [
    "import numpy as np\n",
    "import torch\n",
    "import torch.nn as nn\n",
    "from torch.autograd import Variable\n",
    "\n",
    "from model import GrammarVAE\n",
    "from util import Timer, AnnealKL, load_data"
   ]
  },
  {
   "cell_type": "code",
   "execution_count": 2,
   "metadata": {},
   "outputs": [
    {
     "name": "stdout",
     "output_type": "stream",
     "text": [
      "Using device: mps\n"
     ]
    }
   ],
   "source": [
    "# Init model, dont train it and generate some equations\n",
    "ENCODER_HIDDEN = 20\n",
    "Z_SIZE = 2\n",
    "DECODER_HIDDEN = 20\n",
    "RNN_TYPE = 'lstm'\n",
    "BATCH_SIZE = 32\n",
    "MAX_LENGTH = 15\n",
    "OUTPUT_SIZE = 12\n",
    "LR = 1e-2\n",
    "CLIP = 5.\n",
    "PRINT_EVERY = 100\n",
    "EPOCHS = 3\n",
    "\n",
    "model = GrammarVAE(ENCODER_HIDDEN, Z_SIZE, DECODER_HIDDEN, OUTPUT_SIZE, RNN_TYPE)"
   ]
  },
  {
   "cell_type": "code",
   "execution_count": 9,
   "metadata": {},
   "outputs": [
    {
     "name": "stdout",
     "output_type": "stream",
     "text": [
      "tensor([[ 0.1680, -0.2196],\n",
      "        [ 0.1450, -0.2121]], grad_fn=<AddmmBackward0>) tensor([[0.7805, 0.7860],\n",
      "        [0.8027, 0.7900]], grad_fn=<SoftplusBackward0>)\n",
      "torch.Size([2, 15, 12])\n"
     ]
    }
   ],
   "source": [
    "batch_size = 2\n",
    "x = torch.randn(batch_size, OUTPUT_SIZE, MAX_LENGTH)  # OUTPUT_SIZE: number of rules (for 1-hot encoding)\n",
    "mu, sigma = model.encoder(x)\n",
    "print(mu, sigma)  # z\n",
    "\n",
    "logits = model.decoder(mu, 15)\n",
    "print(logits.shape)"
   ]
  },
  {
   "cell_type": "code",
   "execution_count": 126,
   "metadata": {},
   "outputs": [
    {
     "name": "stdout",
     "output_type": "stream",
     "text": [
      "mu = tensor([[-0.1692,  0.0015]], grad_fn=<AddmmBackward0>)\n",
      "[S -> S '+' T, S -> S '+' T, S -> S '+' T, S -> S '+' T, S -> S '+' T, S -> S '+' T, S -> S '+' T, S -> S '+' T, S -> S '+' T, S -> S '+' T, S -> S '+' T, S -> S '+' T, S -> S '+' T, S -> S '+' T, S -> S '+' T]\n",
      "Invalid. Too many rules.\n"
     ]
    }
   ],
   "source": [
    "# torch.manual_seed(0)\n",
    "\n",
    "import model as m\n",
    "from importlib import reload\n",
    "import util\n",
    "from grammar import GCFG\n",
    "reload(m)\n",
    "\n",
    "# Init model, dont train it and generate some equations\n",
    "ENCODER_HIDDEN = 20\n",
    "Z_SIZE = 2\n",
    "DECODER_HIDDEN = 20\n",
    "RNN_TYPE = 'lstm'\n",
    "BATCH_SIZE = 32\n",
    "MAX_LENGTH = 15\n",
    "OUTPUT_SIZE = len(GCFG.productions()) + 1  # 1-hot + numerical\n",
    "LR = 1e-2\n",
    "CLIP = 5.\n",
    "PRINT_EVERY = 100\n",
    "EPOCHS = 3\n",
    "\n",
    "model = m.GrammarVAE(ENCODER_HIDDEN, Z_SIZE, DECODER_HIDDEN, OUTPUT_SIZE, RNN_TYPE)  # .to(device='mps')\n",
    "\n",
    "batch_size = 1\n",
    "x = torch.randn(batch_size, OUTPUT_SIZE, MAX_LENGTH).to(model.device) * 10  # OUTPUT_SIZE: number of rules (for 1-hot encoding)\n",
    "mu, sigma = model.encoder(x)\n",
    "print(f'{mu = }')\n",
    "\n",
    "prods = model.generate(mu, sample=False, max_length=15)\n",
    "print(prods)\n",
    "\n",
    "if len(prods) < 15:\n",
    "    tree = util.make_nltk_tree(prods)\n",
    "    print(tree)\n",
    "else:\n",
    "    print('Invalid. Too many rules.')"
   ]
  },
  {
   "cell_type": "code",
   "execution_count": 89,
   "metadata": {},
   "outputs": [
    {
     "name": "stdout",
     "output_type": "stream",
     "text": [
      "(S (T 3))\n"
     ]
    }
   ],
   "source": [
    "tree.pprint()"
   ]
  },
  {
   "cell_type": "markdown",
   "metadata": {},
   "source": [
    "### MPS?"
   ]
  },
  {
   "cell_type": "code",
   "execution_count": 124,
   "metadata": {},
   "outputs": [
    {
     "data": {
      "text/plain": [
       "True"
      ]
     },
     "execution_count": 124,
     "metadata": {},
     "output_type": "execute_result"
    }
   ],
   "source": [
    "next(model.parameters()).is_mps"
   ]
  },
  {
   "cell_type": "code",
   "execution_count": null,
   "metadata": {},
   "outputs": [],
   "source": [
    "device = (\n",
    "    \"cuda\"\n",
    "    if torch.cuda.is_available()\n",
    "    else \"mps\"\n",
    "    if torch.backends.mps.is_available()\n",
    "    else \"cpu\"\n",
    ")\n",
    "print(f\"Using {device} device\")"
   ]
  },
  {
   "cell_type": "markdown",
   "metadata": {},
   "source": [
    "Data loading/parsing"
   ]
  },
  {
   "cell_type": "code",
   "execution_count": 144,
   "metadata": {},
   "outputs": [],
   "source": [
    "data_path = '../data/equation2_15_dataset_parsed.h5'\n",
    "data = load_data(data_path)\n",
    "# Turn it into a float32 PyTorch Tensor\n",
    "data = torch.from_numpy(data).float()"
   ]
  },
  {
   "cell_type": "code",
   "execution_count": 111,
   "metadata": {},
   "outputs": [
    {
     "data": {
      "image/png": "[encoded data removed]",
      "text/plain": [
       "<Figure size 640x480 with 1 Axes>"
      ]
     },
     "metadata": {},
     "output_type": "display_data"
    },
    {
     "data": {
      "text/plain": [
       "array([[[1., 0., 0., ..., 0., 0., 0.],\n",
       "        [1., 0., 0., ..., 0., 0., 0.],\n",
       "        [1., 0., 0., ..., 0., 0., 0.],\n",
       "        ...,\n",
       "        [0., 0., 0., ..., 0., 0., 0.],\n",
       "        [0., 0., 0., ..., 0., 0., 0.],\n",
       "        [0., 0., 0., ..., 0., 0., 1.]],\n",
       "\n",
       "       [[1., 0., 0., ..., 0., 0., 0.],\n",
       "        [1., 0., 0., ..., 0., 0., 0.],\n",
       "        [1., 0., 0., ..., 0., 0., 0.],\n",
       "        ...,\n",
       "        [0., 0., 0., ..., 0., 0., 0.],\n",
       "        [0., 0., 0., ..., 0., 0., 0.],\n",
       "        [0., 0., 0., ..., 0., 0., 1.]],\n",
       "\n",
       "       [[1., 0., 0., ..., 0., 0., 0.],\n",
       "        [1., 0., 0., ..., 0., 0., 0.],\n",
       "        [1., 0., 0., ..., 0., 0., 0.],\n",
       "        ...,\n",
       "        [0., 0., 0., ..., 0., 0., 0.],\n",
       "        [0., 0., 0., ..., 1., 0., 0.],\n",
       "        [0., 0., 0., ..., 0., 0., 1.]],\n",
       "\n",
       "       ...,\n",
       "\n",
       "       [[1., 0., 0., ..., 0., 0., 0.],\n",
       "        [1., 0., 0., ..., 0., 0., 0.],\n",
       "        [1., 0., 0., ..., 0., 0., 0.],\n",
       "        ...,\n",
       "        [0., 0., 0., ..., 0., 0., 0.],\n",
       "        [0., 0., 0., ..., 0., 0., 0.],\n",
       "        [0., 0., 0., ..., 0., 0., 1.]],\n",
       "\n",
       "       [[1., 0., 0., ..., 0., 0., 0.],\n",
       "        [1., 0., 0., ..., 0., 0., 0.],\n",
       "        [1., 0., 0., ..., 0., 0., 0.],\n",
       "        ...,\n",
       "        [0., 0., 0., ..., 0., 0., 0.],\n",
       "        [0., 0., 0., ..., 1., 0., 0.],\n",
       "        [0., 0., 0., ..., 0., 0., 1.]],\n",
       "\n",
       "       [[1., 0., 0., ..., 0., 0., 0.],\n",
       "        [1., 0., 0., ..., 0., 0., 0.],\n",
       "        [1., 0., 0., ..., 0., 0., 0.],\n",
       "        ...,\n",
       "        [0., 0., 0., ..., 0., 0., 0.],\n",
       "        [0., 0., 0., ..., 0., 1., 0.],\n",
       "        [0., 0., 0., ..., 0., 0., 1.]]], dtype=float32)"
      ]
     },
     "execution_count": 111,
     "metadata": {},
     "output_type": "execute_result"
    }
   ],
   "source": [
    "from matplotlib import pyplot as plt\n",
    "\n",
    "plt.imshow(one_hot[4, ...])\n",
    "plt.show()\n",
    "\n",
    "one_hot"
   ]
  },
  {
   "cell_type": "markdown",
   "metadata": {},
   "source": [
    "### Using trained model"
   ]
  },
  {
   "cell_type": "code",
   "execution_count": 3,
   "metadata": {},
   "outputs": [],
   "source": [
    "import os\n",
    "import torch\n",
    "import sympy as sp\n",
    "from torch.autograd import Variable\n",
    "\n",
    "from model import GrammarVAE\n",
    "from stack import Stack\n",
    "\n",
    "from util import load_data, prods_to_eq\n",
    "from train import ENCODER_HIDDEN, Z_SIZE, DECODER_HIDDEN, OUTPUT_SIZE\n",
    "\n",
    "torch.manual_seed(10)\n",
    "\n",
    "# Load saved model\n",
    "# model_path = os.path.abspath('../checkpoints/model5epoch.pt')\n",
    "# model = torch.load(model_path)\n",
    "# model = GrammarVAE(ENCODER_HIDDEN, Z_SIZE, DECODER_HIDDEN, OUTPUT_SIZE)\n",
    "\n",
    "# Load data\n",
    "data_path = os.path.abspath('../data/equation2_15_dataset_parsed.h5')\n",
    "data = load_data(data_path)\n",
    "\n",
    "# Load raw equation strings\n",
    "data_path = os.path.abspath('../data/equation2_15_dataset.txt')\n",
    "with open(data_path, 'r') as f:\n",
    "    eqs = f.readlines()\n",
    "    eqs = [eq.strip('\\n') for eq in eqs]\n",
    "\n",
    "def data2input(x):\n",
    "    x = torch.from_numpy(x).float().unsqueeze(0).transpose(-2, -1)\n",
    "    return Variable(x)\n",
    "\n",
    "def predict(x):\n",
    "    x = data2input(x)\n",
    "    logits = model(x)\n",
    "    _, y = logits.squeeze(0).max(-1)\n",
    "    return y\n",
    "\n",
    "def evaluate(y, y_):\n",
    "    try:\n",
    "        (y == y_).mean()\n",
    "    except:\n",
    "        y_ = y_.data.numpy()\n",
    "    return (y == y_).mean()\n"
   ]
  },
  {
   "cell_type": "markdown",
   "metadata": {},
   "source": [
    "#### encode-decode single equation from equation file"
   ]
  },
  {
   "cell_type": "code",
   "execution_count": 24,
   "metadata": {},
   "outputs": [],
   "source": [
    "from importlib import reload\n",
    "import model\n",
    "reload(model)\n",
    "from model import GrammarVAE"
   ]
  },
  {
   "cell_type": "code",
   "execution_count": 206,
   "metadata": {},
   "outputs": [],
   "source": [
    "from matplotlib import pyplot as plt\n",
    "from grammar import GCFG\n",
    "\n",
    "def plot_onehot(onehot_matrix, grammar):\n",
    "    plt.imshow(onehot_matrix)\n",
    "\n",
    "    plt.ylabel('Sequence')\n",
    "    plt.xlabel('Rule')\n",
    "\n",
    "    xticks = grammar.productions() + ['[CONST]']\n",
    "    plt.xticks(range(len(xticks)), xticks, rotation='vertical')\n",
    "    plt.colorbar()\n",
    "    plt.tight_layout()\n",
    "    plt.show()"
   ]
  },
  {
   "cell_type": "code",
   "execution_count": 209,
   "metadata": {},
   "outputs": [],
   "source": [
    "# Init model, dont train it and generate some equations\n",
    "ENCODER_HIDDEN = 20\n",
    "Z_SIZE = 2\n",
    "DECODER_HIDDEN = 20\n",
    "RNN_TYPE = 'lstm'\n",
    "BATCH_SIZE = 32\n",
    "MAX_LENGTH = 15\n",
    "OUTPUT_SIZE = len(GCFG.productions())+1  # 1-hot for rules + numerical\n",
    "LR = 1e-2\n",
    "CLIP = 5.\n",
    "PRINT_EVERY = 100\n",
    "EPOCHS = 3\n",
    "\n",
    "model = GrammarVAE(ENCODER_HIDDEN, Z_SIZE, DECODER_HIDDEN, OUTPUT_SIZE, RNN_TYPE, device='cpu')\n",
    "\n",
    "# model_path = os.path.abspath('../checkpoints/model5epoch.pt')\n",
    "# model = torch.load(model_path)"
   ]
  },
  {
   "cell_type": "code",
   "execution_count": 210,
   "metadata": {},
   "outputs": [
    {
     "name": "stdout",
     "output_type": "stream",
     "text": [
      "eq = '0.5621270003356519 + x1'\n",
      "expr = x1 + 0.5621270003356519\n"
     ]
    },
    {
     "data": {
      "image/png": "[encoded data removed]",
      "text/plain": [
       "<Figure size 640x480 with 2 Axes>"
      ]
     },
     "metadata": {},
     "output_type": "display_data"
    }
   ],
   "source": [
    "i = 300\n",
    "\n",
    "eq = eqs[i]\n",
    "print(f'{eq = }')\n",
    "expr = sp.simplify(sp.sympify(eq))\n",
    "print(f'{expr = }')\n",
    "\n",
    "x = data2input(data[i])\n",
    "mu, sigma = model.encoder(x)\n",
    "\n",
    "logits = model.decoder(mu, max_length=15)\n",
    "plot_onehot(logits[0, ...].detach().numpy(), GCFG)"
   ]
  },
  {
   "cell_type": "code",
   "execution_count": 211,
   "metadata": {},
   "outputs": [
    {
     "name": "stdout",
     "output_type": "stream",
     "text": [
      "eq = 'sin(exp(sin(x1) * 0.4609526466213322))'\n",
      "expr = sin(exp(0.4609526466213322*sin(x1)))\n",
      "production = [S -> S '*' T, S -> T, T -> 'exp(' S ')', S -> S '/' T, S -> S '*' T, S -> S '+' T, S -> S '*' T, S -> T, T -> '(' S ')', S -> S '*' T, S -> S '*' T, S -> S '*' T, S -> S '+' T, S -> T, T -> '[CONST]']\n",
      "constants = tensor([[-0.0239],\n",
      "        [-0.0261],\n",
      "        [-0.0287],\n",
      "        [-0.0308],\n",
      "        [-0.0322],\n",
      "        [-0.0332],\n",
      "        [-0.0338],\n",
      "        [-0.0342],\n",
      "        [-0.0345],\n",
      "        [-0.0346],\n",
      "        [-0.0348],\n",
      "        [-0.0348],\n",
      "        [-0.0349],\n",
      "        [-0.0349],\n",
      "        [-0.0349]], grad_fn=<SliceBackward0>)\n"
     ]
    },
    {
     "ename": "TypeError",
     "evalue": "prods_to_eq() missing 1 required positional argument: 'constants'",
     "output_type": "error",
     "traceback": [
      "\u001b[0;31m---------------------------------------------------------------------------\u001b[0m",
      "\u001b[0;31mTypeError\u001b[0m                                 Traceback (most recent call last)",
      "Cell \u001b[0;32mIn[211], line 14\u001b[0m\n\u001b[1;32m     12\u001b[0m \u001b[38;5;28mprint\u001b[39m(\u001b[38;5;124mf\u001b[39m\u001b[38;5;124m'\u001b[39m\u001b[38;5;132;01m{\u001b[39;00mproduction\u001b[38;5;250m \u001b[39m\u001b[38;5;132;01m= }\u001b[39;00m\u001b[38;5;124m'\u001b[39m)\n\u001b[1;32m     13\u001b[0m \u001b[38;5;28mprint\u001b[39m(\u001b[38;5;124mf\u001b[39m\u001b[38;5;124m'\u001b[39m\u001b[38;5;132;01m{\u001b[39;00mconstants\u001b[38;5;250m \u001b[39m\u001b[38;5;132;01m= }\u001b[39;00m\u001b[38;5;124m'\u001b[39m)\n\u001b[0;32m---> 14\u001b[0m eq_hat \u001b[38;5;241m=\u001b[39m \u001b[43mprods_to_eq\u001b[49m\u001b[43m(\u001b[49m\u001b[43mproduction\u001b[49m\u001b[43m,\u001b[49m\u001b[43m \u001b[49m\u001b[43mverbose\u001b[49m\u001b[38;5;241;43m=\u001b[39;49m\u001b[38;5;28;43;01mTrue\u001b[39;49;00m\u001b[43m)\u001b[49m\n\u001b[1;32m     15\u001b[0m \u001b[38;5;28;01mif\u001b[39;00m eq_hat:\n\u001b[1;32m     16\u001b[0m     expr_hat \u001b[38;5;241m=\u001b[39m sp\u001b[38;5;241m.\u001b[39msimplify(sp\u001b[38;5;241m.\u001b[39msympify(eq_hat))\n",
      "\u001b[0;31mTypeError\u001b[0m: prods_to_eq() missing 1 required positional argument: 'constants'"
     ]
    }
   ],
   "source": [
    "i = 1\n",
    "\n",
    "eq = eqs[i]\n",
    "print(f'{eq = }')\n",
    "expr = sp.simplify(sp.sympify(eq))\n",
    "print(f'{expr = }')\n",
    "\n",
    "x = data2input(data[i])\n",
    "mu, sigma = model.encoder(x)\n",
    "production, constants = model.generate(mu, sample=True, max_length=15)\n",
    "\n",
    "print(f'{production = }')\n",
    "print(f'{constants = }')\n",
    "eq_hat = prods_to_eq(production, constants, verbose=True)\n",
    "if eq_hat:\n",
    "    expr_hat = sp.simplify(sp.sympify(eq_hat))\n",
    "    print(f'{expr_hat = }')\n",
    "\n"
   ]
  },
  {
   "cell_type": "code",
   "execution_count": 20,
   "metadata": {},
   "outputs": [
    {
     "data": {
      "text/plain": [
       "torch.Size([1, 15, 20])"
      ]
     },
     "execution_count": 20,
     "metadata": {},
     "output_type": "execute_result"
    }
   ],
   "source": [
    "logits.shape"
   ]
  },
  {
   "cell_type": "code",
   "execution_count": 596,
   "metadata": {},
   "outputs": [],
   "source": [
    "import torch\n",
    "from torch.autograd import Variable\n",
    "from nltk import CFG, Nonterminal\n",
    "from torch.distributions import Categorical\n",
    "from nltk.grammar import Production\n",
    "\n",
    "class Stack:\n",
    "    \"\"\"A simple first in last out stack.\n",
    "\n",
    "    Args:\n",
    "        grammar: an instance of nltk.CFG\n",
    "        start_symbol: an instance of nltk.Nonterminal that is the\n",
    "            start symbol the grammar\n",
    "    \"\"\"\n",
    "    def __init__(self, grammar, start_symbol):\n",
    "        self.grammar = grammar\n",
    "        self._stack = [start_symbol]\n",
    "\n",
    "    def pop(self):\n",
    "        return self._stack.pop()\n",
    "\n",
    "    def push(self, symbol):\n",
    "        self._stack.append(symbol)\n",
    "\n",
    "    def __str__(self):\n",
    "        return str(self._stack)\n",
    "\n",
    "    @property\n",
    "    def nonempty(self):\n",
    "        return bool(self._stack)\n",
    "\n",
    "\n",
    "def get_mask(nonterminal, grammar, as_variable=False):\n",
    "    \"\"\" Get boolean mask of allowed productions given a nonterminal. \"\"\"\n",
    "    if isinstance(nonterminal, Nonterminal):\n",
    "        mask = [rule.lhs() == nonterminal for rule in grammar.productions()]\n",
    "        mask = Variable(torch.FloatTensor(mask)) if as_variable else mask\n",
    "        return mask\n",
    "    else:\n",
    "        raise ValueError('Input must be instance of nltk.Nonterminal')\n",
    "\n",
    "def logits_to_prods(logits, grammar, start_symbol, sample=False, max_length=15):\n",
    "    stack = Stack(grammar=grammar, start_symbol=start_symbol)\n",
    "\n",
    "    logits_prods = logits[:, :-1]\n",
    "    constants = logits[:, -1]\n",
    "\n",
    "    prods = []\n",
    "    t = 0  # \"Time step\" in sequence\n",
    "    while stack.nonempty:\n",
    "        alpha = stack.pop()  # Alpha is notation in paper.\n",
    "        mask = get_mask(alpha, stack.grammar, as_variable=True)\n",
    "        probs = mask * logits_prods[t].exp()\n",
    "        probs = probs / probs.sum()\n",
    "        \n",
    "        if sample:\n",
    "            m = Categorical(probs)\n",
    "            i = m.sample()\n",
    "        else:\n",
    "            _, i = probs.max(-1) # argmax\n",
    "\n",
    "        # select rule i\n",
    "        rule = stack.grammar.productions()[i.item()]\n",
    "\n",
    "        # If rule has -> [CONST] add const\n",
    "        if rule.rhs()[0] == '[CONST]':\n",
    "            rule = Production(lhs=rule.lhs(), rhs=(str(constants[t].item()),))\n",
    "\n",
    "        prods.append(rule)\n",
    "        # add rhs nonterminals to stack in reversed order\n",
    "        for symbol in reversed(rule.rhs()):\n",
    "            if isinstance(symbol, Nonterminal):\n",
    "                stack.push(symbol)\n",
    "        t += 1\n",
    "        if t == max_length:\n",
    "            break\n",
    "    return prods\n",
    "\n",
    "def prods_to_eq(prods, verbose=False):\n",
    "    \"\"\"Takes a list of productions and a list of constants and returns a string representation of the equation.\"\"\"\n",
    "    seq = [prods[0].lhs()]  # Start with LHS of first rule (always nonterminal start)\n",
    "    for prod in prods:\n",
    "        if str(prod.lhs()) == 'Nothing':  # Padding rule. Reached end.\n",
    "            break\n",
    "        for ix, s in enumerate(seq):  # Applying rule to first element in seq that matches lhs\n",
    "            if s == prod.lhs():\n",
    "                seq = seq[:ix] + list(prod.rhs()) + seq[ix+1:]  # Replace LHS with RHS\n",
    "                break\n",
    "    try:\n",
    "        return ' '.join(seq)\n",
    "    except TypeError:\n",
    "        if verbose:\n",
    "            print(f'Nonterminal found. {seq = }')\n",
    "        return ''"
   ]
  },
  {
   "cell_type": "code",
   "execution_count": 452,
   "metadata": {},
   "outputs": [],
   "source": [
    "import re\n",
    "import nltk\n",
    "import numpy as np\n",
    "\n",
    "grammar = \"\"\"\n",
    "S -> S '+' T\n",
    "S -> S '-' T\n",
    "S -> S '*' T\n",
    "S -> S '/' T\n",
    "S -> T\n",
    "T -> '(' S ')'\n",
    "T -> 'sin(' S ')'\n",
    "T -> 'exp(' S ')'\n",
    "T -> 'x1'\n",
    "T -> '[CONST]'\n",
    "Nothing -> None\"\"\"\n",
    "GCFG = CFG.fromstring(grammar)\n",
    "S, T = Nonterminal('S'), Nonterminal('T')\n",
    "\n",
    "SEQ_LEN = 15\n",
    "\n",
    "def tokenize(s):\n",
    "    \"\"\"Tokenize an equation string s into a list of tokens.\"\"\"\n",
    "    \n",
    "    # Replace numerical constants with placeholder and store them seperately\n",
    "    pattern = r'-?\\b(?:\\d+(?:\\.\\d*)?|\\.\\d+)(?:[eE][-+]?\\d+)?\\b'\n",
    "    consts = []\n",
    "\n",
    "    def replace_and_collect(match):\n",
    "        consts.append(match.group())\n",
    "        return '[CONST]'\n",
    "\n",
    "    s = re.sub(pattern, replace_and_collect, s)\n",
    "    \n",
    "    unaops = ['sin', 'exp']\n",
    "    binops = ['+', '-', '*', '/']\n",
    "    for fn in unaops: \n",
    "        s = s.replace(fn+'(', ' '+fn)  # Temporarily remove opening parentheses after unary operator\n",
    "    s = s.replace('(', ' ( ')\n",
    "    for fn in unaops: \n",
    "        s = s.replace(fn, fn+'( ') \n",
    "\n",
    "    for fn in binops: \n",
    "        s = s.replace(fn, ' '+fn+' ')\n",
    "    s = s.replace(')', ' ) ')\n",
    "    tokens = s.split()\n",
    "    \n",
    "    return tokens, consts\n",
    "\n",
    "# Tokenization and parsing functions\n",
    "_productions = GCFG.productions()\n",
    "_parser = nltk.ChartParser(GCFG)\n",
    "_prod_map = {prod: idx for idx, prod in enumerate(_productions)}"
   ]
  },
  {
   "cell_type": "code",
   "execution_count": 363,
   "metadata": {},
   "outputs": [
    {
     "data": {
      "image/png": "[encoded data removed]",
      "text/plain": [
       "<Figure size 640x480 with 2 Axes>"
      ]
     },
     "metadata": {},
     "output_type": "display_data"
    }
   ],
   "source": [
    "onehot_matrix = np.random.random([15, len(GCFG.productions())+1])\n",
    "onehot_matrix[:, -3:-1] *= 5\n",
    "onehot_matrix[-10:, :3] *= 0.2\n",
    "plot_onehot(onehot_matrix, GCFG)"
   ]
  },
  {
   "cell_type": "code",
   "execution_count": 365,
   "metadata": {},
   "outputs": [
    {
     "name": "stdout",
     "output_type": "stream",
     "text": [
      "expr_str = '0.37665041096314'\n",
      "expr = 0.376650410963140\n"
     ]
    }
   ],
   "source": [
    "prods = logits_to_prods(torch.tensor(onehot_matrix), GCFG, S)\n",
    "expr_str = prods_to_eq(prods, verbose=True)\n",
    "print(f'{expr_str = }')\n",
    "assert expr_str\n",
    "expr = sp.sympify(expr_str)\n",
    "print(f'{expr = }')"
   ]
  },
  {
   "cell_type": "markdown",
   "metadata": {},
   "source": [
    "### Encoding using new grammar + const"
   ]
  },
  {
   "cell_type": "code",
   "execution_count": 113,
   "metadata": {},
   "outputs": [],
   "source": [
    "datapath = r'/Users/luis/Desktop/Cranmer 2024/Workplace/smallMutations/similar-expressions/data/expressions.txt'\n",
    "with open(datapath, 'r') as f:\n",
    "    eqs = f.readlines()\n",
    "    eqs = [eq.strip('\\n') for eq in eqs]"
   ]
  },
  {
   "cell_type": "code",
   "execution_count": 558,
   "metadata": {},
   "outputs": [],
   "source": [
    "# Apply encoding to whole batch\n",
    "\n",
    "tokens, consts = zip(*map(tokenize, eqs))\n",
    "parse_trees = map(lambda x: next(_parser.parse(x)), tokens)\n",
    "prod_seqs = list(map(lambda parse_tree: parse_tree.productions(), parse_trees))  # Sequence of productions\n",
    "\n",
    "# Filter out too long productions\n",
    "invalid = [i for i, seq in enumerate(prod_seqs) if len(seq) > SEQ_LEN]\n",
    "prod_seqs = [seq for i, seq in enumerate(prod_seqs) if i not in invalid]\n",
    "consts = [consts[i] for i in range(len(consts)) if i not in invalid]\n",
    "\n",
    "indices = map(lambda productions: np.array([_prod_map[prod] for prod in productions], dtype=int), prod_seqs)\n",
    "indices = list(indices)\n",
    "\n",
    "onehot = np.zeros([len(indices), SEQ_LEN, len(GCFG.productions())+1], dtype=float)\n",
    "additional_row_idx = np.arange(len(indices))* (len(GCFG.productions())+1)\n",
    "\n",
    "for eq_i, (idxs, const) in enumerate(zip(indices, consts)):\n",
    "    indices_total = idxs + additional_row_idx[:len(idxs)]\n",
    "    tmp = np.zeros(np.prod([SEQ_LEN, len(GCFG.productions())+1]))\n",
    "    tmp[indices_total] = 1\n",
    "    onehot[eq_i, ...] = tmp.reshape([SEQ_LEN, len(GCFG.productions())+1])\n",
    "\n",
    "    # Add constants (whereever the production -> [CONST] is invoked). TODO: Check order.\n",
    "    onehot[eq_i, np.where(onehot[eq_i, :, -3] == 1), -1] = const\n",
    "\n",
    "    # Pad with Nothing -> None prod\n",
    "    onehot[eq_i, np.where(onehot[eq_i, ...].sum(axis=1) == 0), -2] = 1\n"
   ]
  },
  {
   "cell_type": "code",
   "execution_count": 580,
   "metadata": {},
   "outputs": [],
   "source": [
    "import h5py\n",
    "\n",
    "parsed_path = r'/Users/luis/Desktop/Cranmer 2024/Workplace/smallMutations/similar-expressions/data/onehot_parsed.h5'\n",
    "\n",
    "with h5py.File(parsed_path, 'w') as f:\n",
    "    f.create_dataset('data', data=onehot)\n",
    "    f.create_dataset('invalid_indices', data=invalid)"
   ]
  },
  {
   "cell_type": "code",
   "execution_count": 562,
   "metadata": {},
   "outputs": [
    {
     "data": {
      "image/png": "[encoded data removed]",
      "text/plain": [
       "<Figure size 640x480 with 2 Axes>"
      ]
     },
     "metadata": {},
     "output_type": "display_data"
    }
   ],
   "source": [
    "plot_onehot(onehot[900, ...], GCFG)"
   ]
  },
  {
   "cell_type": "code",
   "execution_count": 577,
   "metadata": {},
   "outputs": [
    {
     "name": "stdout",
     "output_type": "stream",
     "text": [
      "x1 * x1\n",
      "['x1', '*', 'x1'] []\n"
     ]
    },
    {
     "data": {
      "image/png": "[encoded data removed]",
      "text/plain": [
       "<Figure size 640x480 with 2 Axes>"
      ]
     },
     "metadata": {},
     "output_type": "display_data"
    }
   ],
   "source": [
    "# Encoding for single equation - for debugging.\n",
    "\n",
    "s2 = eqs[5]  # \"1 * sin(2 + 3*exp(4*x1))\"  # \"0.1 + 0.2\" # \n",
    "\n",
    "print(s2)\n",
    "tokens, consts = tokenize(s2)\n",
    "print(tokens, consts)\n",
    "parse_trees = next(_parser.parse(tokens))\n",
    "productions_seq = parse_trees.productions()\n",
    "# print(productions_seq)\n",
    "assert len(productions_seq) <= SEQ_LEN\n",
    "\n",
    "indices = np.array([_prod_map[prod] for prod in productions_seq], dtype=int)\n",
    "\n",
    "one_hot = np.zeros(np.prod([SEQ_LEN, len(GCFG.productions())+1]), dtype=np.float32)\n",
    "\n",
    "# To adress all activated cells in one go, flatten onehot matrix\n",
    "indices_total = indices + np.arange(len(indices))* (len(GCFG.productions())+1)\n",
    "one_hot[indices_total] = 1\n",
    "one_hot = one_hot.reshape(*[[SEQ_LEN, len(GCFG.productions())+1]])\n",
    "\n",
    "# Add constants (whereever the production -> [CONST] is invoked). TODO: Check order.\n",
    "one_hot[np.where(one_hot[:, -3] == 1), -1] = consts\n",
    "\n",
    "# Pad with Nothing -> None prod\n",
    "one_hot[np.where(one_hot.sum(axis=1) == 0), -2] = 1\n",
    "plot_onehot(one_hot, GCFG)"
   ]
  },
  {
   "cell_type": "code",
   "execution_count": 586,
   "metadata": {},
   "outputs": [
    {
     "data": {
      "text/plain": [
       "array([0, 1, 1, 2, 3, 4, 5, 6, 7, 8])"
      ]
     },
     "execution_count": 586,
     "metadata": {},
     "output_type": "execute_result"
    }
   ],
   "source": [
    "idx_correction = np.zeros(len(eqs), dtype=int)\n",
    "idx_correction[invalid] = 1\n",
    "idx_correction = idx_correction.cumsum()\n",
    "idx_correction[:10]\n",
    "idx_conversion = np.arange(len(eqs)) - idx_correction\n",
    "idx_conversion[:10]"
   ]
  },
  {
   "cell_type": "code",
   "execution_count": 598,
   "metadata": {},
   "outputs": [
    {
     "name": "stdout",
     "output_type": "stream",
     "text": [
      "x1 + ( ( x1 - 0.6108433699262729 ) + 0.8060233922194607 ); Original:\n",
      "x1 + ((x1 - 0.6108433699262729) + 0.8060233922194607)\n"
     ]
    },
    {
     "data": {
      "image/png": "[encoded data removed]",
      "text/plain": [
       "<Figure size 640x480 with 2 Axes>"
      ]
     },
     "metadata": {},
     "output_type": "display_data"
    }
   ],
   "source": [
    "# And decode again\n",
    "i = 800\n",
    "assert i not in invalid\n",
    "\n",
    "prods = logits_to_prods(torch.tensor(onehot[idx_conversion[i], ...]), GCFG, S)\n",
    "expr_str = prods_to_eq(prods, verbose=True)\n",
    "print(f'{expr_str}; Original:\\n{eqs[i]}')\n",
    "# assert expr_str\n",
    "# expr = sp.sympify(expr_str)\n",
    "# print(f'{expr = }')\n",
    "plot_onehot(onehot[idx_conversion[i], ...], GCFG)"
   ]
  },
  {
   "cell_type": "markdown",
   "metadata": {},
   "source": [
    "Check that encoding - decoding is lossless"
   ]
  },
  {
   "cell_type": "code",
   "execution_count": 602,
   "metadata": {},
   "outputs": [],
   "source": [
    "# And decode again\n",
    "for i in range(len(eqs)):\n",
    "    if i in invalid:  # Skip\n",
    "        continue\n",
    "\n",
    "    prods = logits_to_prods(torch.tensor(onehot[idx_conversion[i], ...]), GCFG, S)\n",
    "    expr_str = prods_to_eq(prods, verbose=True)\n",
    "\n",
    "    if sp.sympify(expr_str) != sp.sympify(eqs[i]):\n",
    "        print(f'{i = }; {expr_str = }; {eqs[i] = }')\n",
    "        plot_onehot(onehot[idx_conversion[i], ...], GCFG)\n",
    "        break"
   ]
  }
 ],
 "metadata": {
  "kernelspec": {
   "display_name": "learning_drl",
   "language": "python",
   "name": "python3"
  },
  "language_info": {
   "codemirror_mode": {
    "name": "ipython",
    "version": 3
   },
   "file_extension": ".py",
   "mimetype": "text/x-python",
   "name": "python",
   "nbconvert_exporter": "python",
   "pygments_lexer": "ipython3",
   "version": "3.12.4"
  }
 },
 "nbformat": 4,
 "nbformat_minor": 2
}
