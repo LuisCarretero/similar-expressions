{
 "cells": [
  {
   "cell_type": "markdown",
   "metadata": {},
   "source": [
    "### Fixing decoder"
   ]
  },
  {
   "cell_type": "code",
   "execution_count": 1,
   "metadata": {},
   "outputs": [],
   "source": [
    "import numpy as np\n",
    "import torch\n",
    "import torch.nn as nn\n",
    "from torch.autograd import Variable\n",
    "\n",
    "from model import GrammarVAE\n",
    "from util import Timer, AnnealKL, load_data"
   ]
  },
  {
   "cell_type": "code",
   "execution_count": 2,
   "metadata": {},
   "outputs": [
    {
     "name": "stdout",
     "output_type": "stream",
     "text": [
      "Using device: mps\n"
     ]
    }
   ],
   "source": [
    "# Init model, dont train it and generate some equations\n",
    "ENCODER_HIDDEN = 20\n",
    "Z_SIZE = 2\n",
    "DECODER_HIDDEN = 20\n",
    "RNN_TYPE = 'lstm'\n",
    "BATCH_SIZE = 32\n",
    "MAX_LENGTH = 15\n",
    "OUTPUT_SIZE = 12\n",
    "LR = 1e-2\n",
    "CLIP = 5.\n",
    "PRINT_EVERY = 100\n",
    "EPOCHS = 3\n",
    "\n",
    "model = GrammarVAE(ENCODER_HIDDEN, Z_SIZE, DECODER_HIDDEN, OUTPUT_SIZE, RNN_TYPE)"
   ]
  },
  {
   "cell_type": "code",
   "execution_count": 9,
   "metadata": {},
   "outputs": [
    {
     "name": "stdout",
     "output_type": "stream",
     "text": [
      "tensor([[ 0.1680, -0.2196],\n",
      "        [ 0.1450, -0.2121]], grad_fn=<AddmmBackward0>) tensor([[0.7805, 0.7860],\n",
      "        [0.8027, 0.7900]], grad_fn=<SoftplusBackward0>)\n",
      "torch.Size([2, 15, 12])\n"
     ]
    }
   ],
   "source": [
    "batch_size = 2\n",
    "x = torch.randn(batch_size, OUTPUT_SIZE, MAX_LENGTH)  # OUTPUT_SIZE: number of rules (for 1-hot encoding)\n",
    "mu, sigma = model.encoder(x)\n",
    "print(mu, sigma)  # z\n",
    "\n",
    "logits = model.decoder(mu, 15)\n",
    "print(logits.shape)"
   ]
  },
  {
   "cell_type": "code",
   "execution_count": 126,
   "metadata": {},
   "outputs": [
    {
     "name": "stdout",
     "output_type": "stream",
     "text": [
      "mu = tensor([[-0.1692,  0.0015]], grad_fn=<AddmmBackward0>)\n",
      "[S -> S '+' T, S -> S '+' T, S -> S '+' T, S -> S '+' T, S -> S '+' T, S -> S '+' T, S -> S '+' T, S -> S '+' T, S -> S '+' T, S -> S '+' T, S -> S '+' T, S -> S '+' T, S -> S '+' T, S -> S '+' T, S -> S '+' T]\n",
      "Invalid. Too many rules.\n"
     ]
    }
   ],
   "source": [
    "# torch.manual_seed(0)\n",
    "\n",
    "import model as m\n",
    "from importlib import reload\n",
    "import util\n",
    "from grammar import GCFG\n",
    "reload(m)\n",
    "\n",
    "# Init model, dont train it and generate some equations\n",
    "ENCODER_HIDDEN = 20\n",
    "Z_SIZE = 2\n",
    "DECODER_HIDDEN = 20\n",
    "RNN_TYPE = 'lstm'\n",
    "BATCH_SIZE = 32\n",
    "MAX_LENGTH = 15\n",
    "OUTPUT_SIZE = len(GCFG.productions()) + 1  # 1-hot + numerical\n",
    "LR = 1e-2\n",
    "CLIP = 5.\n",
    "PRINT_EVERY = 100\n",
    "EPOCHS = 3\n",
    "\n",
    "model = m.GrammarVAE(ENCODER_HIDDEN, Z_SIZE, DECODER_HIDDEN, OUTPUT_SIZE, RNN_TYPE)  # .to(device='mps')\n",
    "\n",
    "batch_size = 1\n",
    "x = torch.randn(batch_size, OUTPUT_SIZE, MAX_LENGTH).to(model.device) * 10  # OUTPUT_SIZE: number of rules (for 1-hot encoding)\n",
    "mu, sigma = model.encoder(x)\n",
    "print(f'{mu = }')\n",
    "\n",
    "rules = model.generate(mu, sample=False, max_length=15)\n",
    "print(rules)\n",
    "\n",
    "if len(rules) < 15:\n",
    "    tree = util.make_nltk_tree(rules)\n",
    "    print(tree)\n",
    "else:\n",
    "    print('Invalid. Too many rules.')"
   ]
  },
  {
   "cell_type": "code",
   "execution_count": 89,
   "metadata": {},
   "outputs": [
    {
     "name": "stdout",
     "output_type": "stream",
     "text": [
      "(S (T 3))\n"
     ]
    }
   ],
   "source": [
    "tree.pprint()"
   ]
  },
  {
   "cell_type": "markdown",
   "metadata": {},
   "source": [
    "### MPS?"
   ]
  },
  {
   "cell_type": "code",
   "execution_count": 124,
   "metadata": {},
   "outputs": [
    {
     "data": {
      "text/plain": [
       "True"
      ]
     },
     "execution_count": 124,
     "metadata": {},
     "output_type": "execute_result"
    }
   ],
   "source": [
    "next(model.parameters()).is_mps"
   ]
  },
  {
   "cell_type": "code",
   "execution_count": null,
   "metadata": {},
   "outputs": [],
   "source": [
    "device = (\n",
    "    \"cuda\"\n",
    "    if torch.cuda.is_available()\n",
    "    else \"mps\"\n",
    "    if torch.backends.mps.is_available()\n",
    "    else \"cpu\"\n",
    ")\n",
    "print(f\"Using {device} device\")"
   ]
  },
  {
   "cell_type": "markdown",
   "metadata": {},
   "source": [
    "Data loading/parsing"
   ]
  },
  {
   "cell_type": "code",
   "execution_count": 144,
   "metadata": {},
   "outputs": [],
   "source": [
    "data_path = '../data/equation2_15_dataset_parsed.h5'\n",
    "data = load_data(data_path)\n",
    "# Turn it into a float32 PyTorch Tensor\n",
    "data = torch.from_numpy(data).float()"
   ]
  },
  {
   "cell_type": "code",
   "execution_count": 111,
   "metadata": {},
   "outputs": [
    {
     "data": {
      "image/png": "[encoded data removed]",
      "text/plain": [
       "<Figure size 640x480 with 1 Axes>"
      ]
     },
     "metadata": {},
     "output_type": "display_data"
    },
    {
     "data": {
      "text/plain": [
       "array([[[1., 0., 0., ..., 0., 0., 0.],\n",
       "        [1., 0., 0., ..., 0., 0., 0.],\n",
       "        [1., 0., 0., ..., 0., 0., 0.],\n",
       "        ...,\n",
       "        [0., 0., 0., ..., 0., 0., 0.],\n",
       "        [0., 0., 0., ..., 0., 0., 0.],\n",
       "        [0., 0., 0., ..., 0., 0., 1.]],\n",
       "\n",
       "       [[1., 0., 0., ..., 0., 0., 0.],\n",
       "        [1., 0., 0., ..., 0., 0., 0.],\n",
       "        [1., 0., 0., ..., 0., 0., 0.],\n",
       "        ...,\n",
       "        [0., 0., 0., ..., 0., 0., 0.],\n",
       "        [0., 0., 0., ..., 0., 0., 0.],\n",
       "        [0., 0., 0., ..., 0., 0., 1.]],\n",
       "\n",
       "       [[1., 0., 0., ..., 0., 0., 0.],\n",
       "        [1., 0., 0., ..., 0., 0., 0.],\n",
       "        [1., 0., 0., ..., 0., 0., 0.],\n",
       "        ...,\n",
       "        [0., 0., 0., ..., 0., 0., 0.],\n",
       "        [0., 0., 0., ..., 1., 0., 0.],\n",
       "        [0., 0., 0., ..., 0., 0., 1.]],\n",
       "\n",
       "       ...,\n",
       "\n",
       "       [[1., 0., 0., ..., 0., 0., 0.],\n",
       "        [1., 0., 0., ..., 0., 0., 0.],\n",
       "        [1., 0., 0., ..., 0., 0., 0.],\n",
       "        ...,\n",
       "        [0., 0., 0., ..., 0., 0., 0.],\n",
       "        [0., 0., 0., ..., 0., 0., 0.],\n",
       "        [0., 0., 0., ..., 0., 0., 1.]],\n",
       "\n",
       "       [[1., 0., 0., ..., 0., 0., 0.],\n",
       "        [1., 0., 0., ..., 0., 0., 0.],\n",
       "        [1., 0., 0., ..., 0., 0., 0.],\n",
       "        ...,\n",
       "        [0., 0., 0., ..., 0., 0., 0.],\n",
       "        [0., 0., 0., ..., 1., 0., 0.],\n",
       "        [0., 0., 0., ..., 0., 0., 1.]],\n",
       "\n",
       "       [[1., 0., 0., ..., 0., 0., 0.],\n",
       "        [1., 0., 0., ..., 0., 0., 0.],\n",
       "        [1., 0., 0., ..., 0., 0., 0.],\n",
       "        ...,\n",
       "        [0., 0., 0., ..., 0., 0., 0.],\n",
       "        [0., 0., 0., ..., 0., 1., 0.],\n",
       "        [0., 0., 0., ..., 0., 0., 1.]]], dtype=float32)"
      ]
     },
     "execution_count": 111,
     "metadata": {},
     "output_type": "execute_result"
    }
   ],
   "source": [
    "from matplotlib import pyplot as plt\n",
    "\n",
    "plt.imshow(one_hot[4, ...])\n",
    "plt.show()\n",
    "\n",
    "one_hot"
   ]
  },
  {
   "cell_type": "markdown",
   "metadata": {},
   "source": [
    "### Using trained model"
   ]
  },
  {
   "cell_type": "code",
   "execution_count": 6,
   "metadata": {},
   "outputs": [],
   "source": [
    "import os\n",
    "import torch\n",
    "import sympy as sp\n",
    "from torch.autograd import Variable\n",
    "\n",
    "from model import GrammarVAE\n",
    "from stack import Stack\n",
    "\n",
    "from util import load_data, prods_to_eq\n",
    "from train import ENCODER_HIDDEN, Z_SIZE, DECODER_HIDDEN, OUTPUT_SIZE\n",
    "\n",
    "torch.manual_seed(10)\n",
    "\n",
    "# Load saved model\n",
    "model_path = os.path.abspath('../checkpoints/model5epoch.pt')\n",
    "model = torch.load(model_path)\n",
    "# model = GrammarVAE(ENCODER_HIDDEN, Z_SIZE, DECODER_HIDDEN, OUTPUT_SIZE)\n",
    "\n",
    "# Load data\n",
    "data_path = os.path.abspath('../data/equation2_15_dataset_parsed.h5')\n",
    "data = load_data(data_path)\n",
    "\n",
    "# Load raw equation strings\n",
    "data_path = os.path.abspath('../data/equation2_15_dataset.txt')\n",
    "with open(data_path, 'r') as f:\n",
    "    eqs = f.readlines()\n",
    "    eqs = [eq.strip('\\n') for eq in eqs]\n",
    "\n",
    "def data2input(x):\n",
    "    x = torch.from_numpy(x).float().unsqueeze(0).transpose(-2, -1)\n",
    "    return Variable(x)\n",
    "\n",
    "def predict(x):\n",
    "    x = data2input(x)\n",
    "    logits = model(x)\n",
    "    _, y = logits.squeeze(0).max(-1)\n",
    "    return y\n",
    "\n",
    "def evaluate(y, y_):\n",
    "    try:\n",
    "        (y == y_).mean()\n",
    "    except:\n",
    "        y_ = y_.data.numpy()\n",
    "    return (y == y_).mean()\n"
   ]
  },
  {
   "cell_type": "markdown",
   "metadata": {},
   "source": [
    "#### encode-decode single equation from equation file"
   ]
  },
  {
   "cell_type": "code",
   "execution_count": 16,
   "metadata": {},
   "outputs": [],
   "source": [
    "from matplotlib import pyplot as plt\n",
    "from grammar import GCFG\n",
    "\n",
    "def plot_onehot(onehot_matrix, grammar):\n",
    "    plt.imshow(onehot_matrix)\n",
    "\n",
    "    plt.ylabel('Sequence')\n",
    "    plt.xlabel('Rule')\n",
    "    xticks = grammar.productions()\n",
    "    plt.xticks(range(len(xticks)), xticks, rotation='vertical')\n",
    "    plt.colorbar()\n",
    "    plt.tight_layout()\n",
    "    plt.show()"
   ]
  },
  {
   "cell_type": "code",
   "execution_count": 30,
   "metadata": {},
   "outputs": [],
   "source": [
    "# model = GrammarVAE(ENCODER_HIDDEN, Z_SIZE, DECODER_HIDDEN, OUTPUT_SIZE, rnn_type='lstm', device='cpu')\n",
    "model_path = os.path.abspath('../checkpoints/model5epoch.pt')\n",
    "model = torch.load(model_path)"
   ]
  },
  {
   "cell_type": "code",
   "execution_count": 31,
   "metadata": {},
   "outputs": [
    {
     "name": "stdout",
     "output_type": "stream",
     "text": [
      "eq = 'x + x + ( 1 ) + exp( 1 / x )'\n",
      "expr = 2*x + exp(1/x) + 1\n"
     ]
    },
    {
     "data": {
      "image/png": "[encoded data removed]",
      "text/plain": [
       "<Figure size 640x480 with 2 Axes>"
      ]
     },
     "metadata": {},
     "output_type": "display_data"
    }
   ],
   "source": [
    "i = 300\n",
    "\n",
    "eq = eqs[i]\n",
    "print(f'{eq = }')\n",
    "expr = sp.simplify(sp.sympify(eq))\n",
    "print(f'{expr = }')\n",
    "\n",
    "x = data2input(data[i])\n",
    "mu, sigma = model.encoder(x)\n",
    "\n",
    "logits = model.decoder(mu, max_length=15)\n",
    "plot_onehot(logits[0, ...].detach().numpy(), GCFG)"
   ]
  },
  {
   "cell_type": "code",
   "execution_count": 7,
   "metadata": {},
   "outputs": [
    {
     "name": "stdout",
     "output_type": "stream",
     "text": [
      "eq = 'x + x + ( x ) + ( x + 1 )'\n",
      "expr = 4*x + 1\n",
      "production = [S -> S '+' T, S -> S '+' T, S -> S '/' T, S -> T, T -> '3', T -> '1', T -> '(' S ')', S -> T, T -> '2', T -> 'sin(' S ')', S -> S '/' T, S -> T, T -> '2', T -> '1']\n",
      "expr_hat = sin(2) + 5\n"
     ]
    },
    {
     "name": "stderr",
     "output_type": "stream",
     "text": [
      "[W NNPACK.cpp:64] Could not initialize NNPACK! Reason: Unsupported hardware.\n"
     ]
    }
   ],
   "source": [
    "i = 1\n",
    "\n",
    "eq = eqs[i]\n",
    "print(f'{eq = }')\n",
    "expr = sp.simplify(sp.sympify(eq))\n",
    "print(f'{expr = }')\n",
    "\n",
    "x = data2input(data[i])\n",
    "mu, sigma = model.encoder(x)\n",
    "production = model.generate(mu, sample=True, max_length=15)\n",
    "\n",
    "print(f'{production = }')\n",
    "eq_hat = prods_to_eq(production, verbose=True)\n",
    "if eq_hat:\n",
    "    expr_hat = sp.simplify(sp.sympify(eq_hat))\n",
    "    print(f'{expr_hat = }')\n",
    "\n"
   ]
  },
  {
   "cell_type": "code",
   "execution_count": 225,
   "metadata": {},
   "outputs": [
    {
     "name": "stdout",
     "output_type": "stream",
     "text": [
      "expr = 5*x  ///////  expr_hat = exp(2*x) + 1/2 + E\n",
      "expr = 2*x + sin(2) + 2/x  ///////  expr_hat = sin(x) + sin(2) + 3\n",
      "expr = 3*x + sin(3*x)  ///////  expr_hat = sin(4) + sin(3) + 1\n",
      "expr = x + exp(x**2) + 3  ///////  expr_hat = exp(2*x) + sin(3) + 2/3\n",
      "expr = 3*x + 1 + E  ///////  expr_hat = sin(1) + exp(2) + 1/x\n",
      "expr = x + 4 + 2/x  ///////  expr_hat = sin(2) + 3\n",
      "expr = x + sin(3*x) + sin(1) + 2  ///////  expr_hat = x + 4\n",
      "expr = x + exp(x**2) + 2 + exp(3)  ///////  expr_hat = x + 1 + exp(2)\n",
      "expr = 3*x + 5  ///////  expr_hat = 8/3 + exp(5)\n",
      "expr = x + exp(x) + 3 + 2/x  ///////  expr_hat = x + sin(4) + 2\n",
      "expr = x + sin(3*x) + 5  ///////  expr_hat = sin(x) + sin(2) + 2\n",
      "expr = x + exp(x**2) + sin(x) + 1  ///////  expr_hat = 5 + exp(2)\n",
      "expr = 3*x + 1 + exp(3)  ///////  expr_hat = sin(3) + 4\n",
      "expr = 3 + 2/x  ///////  expr_hat = sin(2) + 6\n",
      "expr = sin(3*x) + sin(3) + 2  ///////  expr_hat = sin(2) + 1 + exp(2)\n",
      "expr = exp(x**2) + 3  ///////  expr_hat = sin(4) + sin(1) + 2\n",
      "expr = 2*x + sin(x) + 3  ///////  expr_hat = 6\n",
      "expr = 3 + exp(2) + 2/x  ///////  expr_hat = sin(2) + 4\n",
      "expr = x + sin(3*x) + 4  ///////  expr_hat = 7/2 + exp(3)\n",
      "expr = exp(x**2) + sin(2) + 4  ///////  expr_hat = E + 3 + 1/x\n",
      "expr = 2*x + 5  ///////  expr_hat = sin(3) + 2 + exp(3)\n",
      "expr = x + 5 + 2/x  ///////  expr_hat = sin(3*x) + 2 + exp(2)\n",
      "expr = x + sin(3*x) + 2 + E  ///////  expr_hat = x/2 + 1 + exp(2)\n",
      "expr = x + exp(x**2) + 5  ///////  expr_hat = sin(1) + sin(2) + 2\n",
      "expr = 2*x + sin(2) + 3  ///////  expr_hat = sin(x) + 2 + exp(3)\n",
      "expr = x + 3 + 2/x  ///////  expr_hat = 6 + exp(3)\n",
      "expr = sin(3*x) + 6  ///////  expr_hat = sin(2*x) + 3\n",
      "expr = exp(x) + exp(x**2) + 4  ///////  expr_hat = x/2 + sin(2) + 2\n",
      "expr = 2*x + 7  ///////  expr_hat = sin(2) + 3\n",
      "expr = sin(1) + 5 + 2/x  ///////  expr_hat = sin(x) + sin(3/2) + 1\n",
      "expr = sin(3*x) + 5 + exp(3)  ///////  expr_hat = sin(2) + 3\n",
      "expr = x + exp(x**2) + 4  ///////  expr_hat = 6\n",
      "expr = 3*x + exp(x) + 3  ///////  expr_hat = sin(3) + 1/2 + exp(3)\n",
      "expr = x + 5 + 2/x  ///////  expr_hat = 14/3\n",
      "expr = sin(x) + sin(3*x) + 4  ///////  expr_hat = 1 + exp(2) + exp(6)\n",
      "expr = exp(x**2) + 4 + exp(2)  ///////  expr_hat = 2 + exp(3)\n",
      "expr = 2*x + 6  ///////  expr_hat = 6\n",
      "expr = sin(3) + 5 + 2/x  ///////  expr_hat = sin(x + 2) + 2 + exp(2)\n",
      "expr = sin(3*x) + 6  ///////  expr_hat = 1 + 2*sin(2)\n",
      "expr = exp(x**2) + 9  ///////  expr_hat = x + 3 + 1/x\n",
      "expr = 2*x + 6 + exp(2)  ///////  expr_hat = 2 + E\n",
      "expr = x**2 + x + 2/x  ///////  expr_hat = 3*x/2 + sin(2*x)\n",
      "expr = x**2 + sin(3*x) + sin(2)  ///////  expr_hat = sin(1) + 3\n",
      "expr = x**2 + x + exp(x**2)  ///////  expr_hat = exp(2*x) + 3\n",
      "expr = 3*x + 3  ///////  expr_hat = sin(1/2) + 1/2 + sin(1)\n",
      "expr = x + E + 2/x  ///////  expr_hat = sin(2) + 3\n",
      "expr = x + sin(3*x) + 3  ///////  expr_hat = sin(1) + sin(2) + 1\n",
      "expr = 2*x + exp(x**2) + sin(1)  ///////  expr_hat = exp(x) + 1/3 + exp(2)\n",
      "expr = 5*x  ///////  expr_hat = sin(x) + 4\n",
      "expr = 3*x + 2 + 2/x  ///////  expr_hat = 4\n",
      "expr = 3*x + exp(x) + sin(3*x)  ///////  expr_hat = 5 + exp(2)\n",
      "expr = 3*x + exp(x**2) + 2  ///////  expr_hat = 7/2\n",
      "expr = 3*x + sin(1)  ///////  expr_hat = 2 + 2*exp(2)\n",
      "expr = x + exp(3) + 2/x  ///////  expr_hat = 23/3\n",
      "expr = sin(3*x) + 2  ///////  expr_hat = sin(3) + 4\n",
      "expr = exp(x**2) + sin(3) + 1  ///////  expr_hat = 3 + exp(3/2) + exp(2)\n",
      "expr = 2*x + 3  ///////  expr_hat = 3/2 + exp(3)\n",
      "expr = sin(x) + 2 + 2/x  ///////  expr_hat = sin(1) + exp(1/3) + 3\n",
      "expr = sin(3*x) + 2 + exp(2)  ///////  expr_hat = x + 2*sin(1)\n",
      "expr = x + exp(x**2) + 3  ///////  expr_hat = exp(x) + sin(x + 1) + 1\n",
      "expr = 2*x + sin(3) + 3  ///////  expr_hat = sin(3) + 9/2\n",
      "expr = 4 + 2/x  ///////  expr_hat = 5\n",
      "expr = 2*x + sin(3*x) + 3  ///////  expr_hat = exp(x) + 1/2 + E\n",
      "expr = 2*x + exp(x**2) + E  ///////  expr_hat = x/2 + exp(x) + 3/2\n",
      "expr = 3*x + 2  ///////  expr_hat = 4 + exp(2)\n",
      "expr = sin(2) + 2 + 2/x  ///////  expr_hat = sin(x) + 5/2\n",
      "expr = x + sin(3*x) + 2  ///////  expr_hat = 4 + exp(3) + 1/x\n",
      "expr = exp(x**2) + 6  ///////  expr_hat = 5/6 + sin(2)\n",
      "expr = 2*x + E + 4  ///////  expr_hat = x/2 + sin(3) + sin(2)\n",
      "expr = 7 + 2/x  ///////  expr_hat = sin(1/3) + 4\n",
      "expr = sin(3*x) + sin(1) + 6  ///////  expr_hat = x + 3/2 + exp(3)\n",
      "expr = exp(x**2) + 6 + exp(3)  ///////  expr_hat = sin(3) + 10/3\n",
      "expr = 5*x + 2  ///////  expr_hat = exp(x + 3) + 1/2 + sin(1)\n",
      "expr = 3*x + exp(x) + 2/x  ///////  expr_hat = sin(3) + 1/2 + exp(2)\n",
      "expr = 3*x + sin(3*x) + 2  ///////  expr_hat = 2 + E + exp(2)\n",
      "expr = exp(x**2) + sin(x) + 3  ///////  expr_hat = 5 + exp(3)\n",
      "expr = 2*x + 3 + exp(3)  ///////  expr_hat = sin(6) + sin(3) + 2/x\n",
      "expr = 7 + 2/x  ///////  expr_hat = sin(3) + 1/2 + sin(1)\n",
      "expr = sin(3*x) + sin(3) + 6  ///////  expr_hat = sin(x) + sin(1) + 1\n",
      "expr = exp(x**2) + 7  ///////  expr_hat = sin(2) + 4\n",
      "expr = 2*x + sin(x) + 9  ///////  expr_hat = 5\n",
      "expr = exp(2) + 9 + 2/x  ///////  expr_hat = x/2 + sin(4) + sin(1)\n",
      "expr = x + sin(3*x) + 1  ///////  expr_hat = x/3 + sin(3*x) + 2\n",
      "expr = exp(x**2) + sin(2) + 1  ///////  expr_hat = 8/3 + exp(3)\n",
      "expr = 2*x + 2  ///////  expr_hat = exp(x) + sin(x) + 1/2\n",
      "expr = x + 3 + 2/x  ///////  expr_hat = exp(x/2) + sin(1) + 1\n",
      "expr = x + sin(3*x) + E  ///////  expr_hat = sin(x) + 1 + E\n",
      "expr = x + exp(x**2) + 3  ///////  expr_hat = exp(x/3) + sin(3) + 1/2\n",
      "expr = 5*x/2 + sin(2)  ///////  expr_hat = exp(x) + 7/2\n",
      "expr = 3*x/2 + 2/x  ///////  expr_hat = sin(1) + 3\n",
      "expr = x/3 + sin(3*x) + 2  ///////  expr_hat = exp(x) + 1 + exp(4)\n",
      "expr = x/3 + exp(x) + exp(x**2)  ///////  expr_hat = 8\n",
      "expr = 7*x/3 + 3  ///////  expr_hat = sin(3/2) + 4\n",
      "expr = sin(1) + 3/x  ///////  expr_hat = 4/3 + exp(2)\n",
      "expr = sin(3*x) + exp(3) + 1/x  ///////  expr_hat = exp(x + 1) + 4\n",
      "expr = exp(x**2) + 2  ///////  expr_hat = E + 5\n",
      "expr = 2*x + exp(x) + 1  ///////  expr_hat = sin(3) + sin(1) + 1\n",
      "expr = 3 + 2/x  ///////  expr_hat = x/2 + sin(1) + 2\n",
      "expr = sin(x) + sin(3*x) + 1/2  ///////  expr_hat = sin(3) + 5/2\n",
      "expr = exp(x**2) + 1/2 + exp(2)  ///////  expr_hat = sin(x + 1) + sin(1) + 1\n"
     ]
    }
   ],
   "source": [
    "\n",
    "for i in range(0, len(eqs), 1000):\n",
    "    eq = eqs[i]\n",
    "    expr = sp.simplify(sp.sympify(eq))\n",
    "\n",
    "    x = data2input(data[i])\n",
    "    mu, sigma = model.encoder(x)\n",
    "    production = model.generate(mu, sample=True, max_length=15)\n",
    "\n",
    "    eq_hat = prods_to_eq(production)\n",
    "    if eq_hat:\n",
    "        expr_hat = sp.simplify(sp.sympify(eq_hat))\n",
    "\n",
    "    print(f'{expr = }  ///////  {expr_hat = }')"
   ]
  },
  {
   "cell_type": "code",
   "execution_count": null,
   "metadata": {},
   "outputs": [],
   "source": []
  }
 ],
 "metadata": {
  "kernelspec": {
   "display_name": "learning_drl",
   "language": "python",
   "name": "python3"
  },
  "language_info": {
   "codemirror_mode": {
    "name": "ipython",
    "version": 3
   },
   "file_extension": ".py",
   "mimetype": "text/x-python",
   "name": "python",
   "nbconvert_exporter": "python",
   "pygments_lexer": "ipython3",
   "version": "3.12.4"
  }
 },
 "nbformat": 4,
 "nbformat_minor": 2
}
